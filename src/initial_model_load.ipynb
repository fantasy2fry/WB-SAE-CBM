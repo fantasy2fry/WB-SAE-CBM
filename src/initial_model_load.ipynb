{
 "cells": [
  {
   "cell_type": "code",
   "execution_count": 5,
   "id": "initial_id",
   "metadata": {
    "collapsed": true,
    "ExecuteTime": {
     "end_time": "2025-05-27T19:24:15.026764Z",
     "start_time": "2025-05-27T19:24:15.024856Z"
    }
   },
   "outputs": [],
   "source": [
    "import os\n",
    "import torch\n",
    "import os\n",
    "from torch.utils.data import TensorDataset\n",
    "from dncbm import arg_parser\n",
    "from sparse_autoencoder import SparseAutoencoder\n",
    "from tqdm import tqdm\n",
    "import os.path as osp\n",
    "\n",
    "from dncbm.utils import common_init, get_sae_ckpt\n",
    "from transformer_lens.utils import get_device"
   ]
  },
  {
   "cell_type": "code",
   "execution_count": 6,
   "outputs": [
    {
     "name": "stdout",
     "output_type": "stream",
     "text": [
      "Using device: mps\n"
     ]
    }
   ],
   "source": [
    "device = get_device()\n",
    "print(f\"Using device: {device}\")"
   ],
   "metadata": {
    "collapsed": false,
    "ExecuteTime": {
     "end_time": "2025-05-27T19:24:19.338143Z",
     "start_time": "2025-05-27T19:24:19.333788Z"
    }
   },
   "id": "c3a5aa66d9735032"
  },
  {
   "cell_type": "code",
   "execution_count": 7,
   "outputs": [],
   "source": [
    "file = \"clip_ViT-L_14sparse_autoencoder_final.pt\"\n",
    "\n",
    "state_dict = torch.load(file, map_location=\"mps\")\n",
    "autoencoder_input_dim = 768\n",
    "expansion_factor = 8 #4\n",
    "n_learned_features = int(autoencoder_input_dim * expansion_factor)\n",
    "len_hook_points = 1\n",
    "autoencoder = SparseAutoencoder(n_input_features=autoencoder_input_dim, n_learned_features=n_learned_features, n_components=len_hook_points).to(device)\n"
   ],
   "metadata": {
    "collapsed": false,
    "ExecuteTime": {
     "end_time": "2025-05-27T19:24:58.240204Z",
     "start_time": "2025-05-27T19:24:57.638487Z"
    }
   },
   "id": "70403df85e101cbc"
  },
  {
   "cell_type": "code",
   "execution_count": 8,
   "outputs": [
    {
     "name": "stdout",
     "output_type": "stream",
     "text": [
      "SparseAutoencoder(\n",
      "  (pre_encoder_bias): TiedBias(position=pre_encoder)\n",
      "  (encoder): LinearEncoder(\n",
      "    input_features=768, learnt_features=6144, n_components=1\n",
      "    (activation_function): ReLU()\n",
      "  )\n",
      "  (decoder): UnitNormDecoder(learnt_features=6144, decoded_features=768, n_components=1)\n",
      "  (post_decoder_bias): TiedBias(position=post_decoder)\n",
      ")\n"
     ]
    }
   ],
   "source": [
    "print(autoencoder)"
   ],
   "metadata": {
    "collapsed": false,
    "ExecuteTime": {
     "end_time": "2025-05-27T19:25:02.458401Z",
     "start_time": "2025-05-27T19:25:02.456010Z"
    }
   },
   "id": "1a0753b2239e75f7"
  },
  {
   "cell_type": "code",
   "execution_count": 9,
   "outputs": [
    {
     "data": {
      "text/plain": "<All keys matched successfully>"
     },
     "execution_count": 9,
     "metadata": {},
     "output_type": "execute_result"
    }
   ],
   "source": [
    "autoencoder.load_state_dict(state_dict)"
   ],
   "metadata": {
    "collapsed": false,
    "ExecuteTime": {
     "end_time": "2025-05-27T19:25:29.486198Z",
     "start_time": "2025-05-27T19:25:29.464439Z"
    }
   },
   "id": "cea93ac3f49f533"
  },
  {
   "cell_type": "code",
   "execution_count": 10,
   "outputs": [
    {
     "data": {
      "text/plain": "SparseAutoencoder(\n  (pre_encoder_bias): TiedBias(position=pre_encoder)\n  (encoder): LinearEncoder(\n    input_features=768, learnt_features=6144, n_components=1\n    (activation_function): ReLU()\n  )\n  (decoder): UnitNormDecoder(learnt_features=6144, decoded_features=768, n_components=1)\n  (post_decoder_bias): TiedBias(position=post_decoder)\n)"
     },
     "execution_count": 10,
     "metadata": {},
     "output_type": "execute_result"
    }
   ],
   "source": [
    "autoencoder"
   ],
   "metadata": {
    "collapsed": false,
    "ExecuteTime": {
     "end_time": "2025-05-27T19:25:35.695690Z",
     "start_time": "2025-05-27T19:25:35.693321Z"
    }
   },
   "id": "5d78b20d52b66483"
  },
  {
   "cell_type": "code",
   "execution_count": 14,
   "outputs": [
    {
     "data": {
      "text/plain": "''"
     },
     "execution_count": 14,
     "metadata": {},
     "output_type": "execute_result"
    }
   ],
   "source": [
    "autoencoder"
   ],
   "metadata": {
    "collapsed": false,
    "ExecuteTime": {
     "end_time": "2025-05-27T19:36:10.275708Z",
     "start_time": "2025-05-27T19:36:10.266116Z"
    }
   },
   "id": "1d53bd97307a0aa5"
  }
 ],
 "metadata": {
  "kernelspec": {
   "display_name": "Python 3",
   "language": "python",
   "name": "python3"
  },
  "language_info": {
   "codemirror_mode": {
    "name": "ipython",
    "version": 2
   },
   "file_extension": ".py",
   "mimetype": "text/x-python",
   "name": "python",
   "nbconvert_exporter": "python",
   "pygments_lexer": "ipython2",
   "version": "2.7.6"
  }
 },
 "nbformat": 4,
 "nbformat_minor": 5
}

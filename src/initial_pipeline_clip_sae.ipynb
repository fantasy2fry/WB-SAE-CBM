{
 "cells": [
  {
   "cell_type": "code",
   "execution_count": 1,
   "id": "b399db8f",
   "metadata": {
    "ExecuteTime": {
     "end_time": "2025-05-29T19:22:04.814621Z",
     "start_time": "2025-05-29T19:22:02.552914Z"
    }
   },
   "outputs": [
    {
     "name": "stderr",
     "output_type": "stream",
     "text": [
      "c:\\Users\\macie\\anaconda3\\envs\\wb2025env\\lib\\site-packages\\tqdm\\auto.py:21: TqdmWarning: IProgress not found. Please update jupyter and ipywidgets. See https://ipywidgets.readthedocs.io/en/stable/user_install.html\n",
      "  from .autonotebook import tqdm as notebook_tqdm\n"
     ]
    }
   ],
   "source": [
    "import torch\n",
    "import clip\n",
    "from PIL import Image\n",
    "import torchvision.transforms as transforms\n",
    "from pathlib import Path\n",
    "from sparse_autoencoder import SparseAutoencoder\n",
    "import pandas as pd\n",
    "import numpy as np\n",
    "\n",
    "\n",
    "def process_image_pipeline(image_path, sae_model_path, output_path):\n",
    "    \"\"\"\n",
    "    Przetwarza obraz przez model CLIP i SAE, a następnie zapisuje wynik.\n",
    "    :param image_path: Ścieżka do obrazu wejściowego.\n",
    "    :param sae_model_path: Ścieżka do wytrenowanego modelu SAE.\n",
    "    :param output_path: Ścieżka do zapisu przetworzonych cech.\n",
    "    \"\"\"\n",
    "\n",
    "    # Wybór urządzenia\n",
    "    device = \"cuda\" if torch.cuda.is_available() else ('mps' if torch.backends.mps.is_available() else \"cpu\")\n",
    "    print(f\"Używane urządzenie: {device}\")\n",
    "\n",
    "    # CLIP\n",
    "    model, preprocess = clip.load(\"ViT-L/14\", device=device)\n",
    "    # Załaduj i przetwórz obraz\n",
    "    image = preprocess(Image.open(image_path)).unsqueeze(0).to(device)\n",
    "    # Przetwarzanie obrazu przez CLIP\n",
    "    with torch.no_grad():\n",
    "        image_features = model.encode_image(image)\n",
    "\n",
    "    # SAE\n",
    "    def load_sae_model(sae_checkpoint_path):\n",
    "        state_dict = torch.load(sae_checkpoint_path, map_location=device)\n",
    "        autoencoder_input_dim = 768  # CLIP ViT-L/14\n",
    "        expansion_factor = 8\n",
    "        n_learned_features = int(autoencoder_input_dim * expansion_factor)\n",
    "        len_hook_points = 1  \n",
    "\n",
    "        sae = SparseAutoencoder(\n",
    "            n_input_features=autoencoder_input_dim,\n",
    "            n_learned_features=n_learned_features,\n",
    "            n_components=len_hook_points\n",
    "        ).to(device)\n",
    "\n",
    "        sae.load_state_dict(state_dict)\n",
    "        sae.eval()\n",
    "        return sae  \n",
    "\n",
    "    # Przepuszczanie CLIP features przez SAE\n",
    "    @torch.no_grad()\n",
    "    def get_sae_representation(clip_features, sae_model):\n",
    "        concepts, _ = sae_model(clip_features)\n",
    "        return concepts.squeeze()\n",
    "\n",
    "\n",
    "    sae = load_sae_model(sae_model_path)\n",
    "    sae_repr = get_sae_representation(image_features, sae)\n",
    "\n",
    "    # Zapisz wynik\n",
    "    torch.save(sae_repr.cpu(), output_path)\n",
    "    print(f\"Zapisano: {output_path}\")\n",
    "    return sae_repr.cpu()"
   ]
  },
  {
   "cell_type": "code",
   "execution_count": 2,
   "id": "3ceb44a6",
   "metadata": {
    "ExecuteTime": {
     "end_time": "2025-05-29T19:22:11.378728Z",
     "start_time": "2025-05-29T19:22:04.827561Z"
    }
   },
   "outputs": [
    {
     "name": "stdout",
     "output_type": "stream",
     "text": [
      "Używane urządzenie: cpu\n",
      "Zapisano: dog_sae_concepts.pth\n"
     ]
    }
   ],
   "source": [
    "from PIL import Image\n",
    "sae_repr = process_image_pipeline(\"cat.jpg\", \"clip_ViT-L_14sparse_autoencoder_final.pt\", \"dog_sae_concepts.pth\")"
   ]
  },
  {
   "cell_type": "code",
   "execution_count": 3,
   "id": "882a4cdd",
   "metadata": {
    "ExecuteTime": {
     "end_time": "2025-05-29T19:22:11.379606Z",
     "start_time": "2025-05-29T19:22:11.376998Z"
    }
   },
   "outputs": [
    {
     "name": "stdout",
     "output_type": "stream",
     "text": [
      "Kształt reprezentacji SAE: (6144,)\n"
     ]
    }
   ],
   "source": [
    "sae_repr_np = sae_repr.numpy()\n",
    "# Sprawdzenie kształtu\n",
    "print(f\"Kształt reprezentacji SAE: {sae_repr_np.shape}\")"
   ]
  },
  {
   "cell_type": "code",
   "execution_count": 4,
   "id": "14c228c0",
   "metadata": {},
   "outputs": [
    {
     "name": "stdout",
     "output_type": "stream",
     "text": [
      "        id  concept_strength concept_name\n",
      "6029  6029          6.682166         cats\n",
      "559    559          2.955981      destroy\n",
      "2541  2541          2.811086       laying\n",
      "537    537          2.386467          dog\n",
      "5978  5978          2.202293        pixel\n",
      "3986  3986          2.132752          pic\n",
      "576    576          1.527705      cartoon\n",
      "91      91          1.515293       stairs\n",
      "2716  2716          1.300699         xnxx\n",
      "0        0          1.099199  lendingtree\n"
     ]
    }
   ],
   "source": [
    "# --- 1. Utworzenie DataFrame z wartościami reprezentacji SAE ---\n",
    "values = sae_repr.numpy().reshape(-1)  # tablica 1D\n",
    "concept_strength_df = pd.DataFrame({\n",
    "    'id': np.arange(len(values)),  # identyfikatory (0, 1, ..., 6143)\n",
    "    'concept_strength': values\n",
    "})\n",
    "\n",
    "# --- 2. Wczytanie nazw konceptów z pliku CSV ---\n",
    "concept_names_df = pd.read_csv(\n",
    "    \"clip_ViT-L_14concept_names.csv\",  # plik CSV z konceptami\n",
    "    header=None,                       # brak nagłówka w pliku CSV!\n",
    "    names=['id', 'concept_name']      # nadajemy kolumnom odpowiednie nazwy\n",
    ")\n",
    "\n",
    "# --- 3. Połączenie danych według 'id' ---\n",
    "merged_df = pd.merge(concept_strength_df, concept_names_df, on='id', how='inner')\n",
    "\n",
    "# --- 4. Sortowanie od najsilniejszego konceptu ---\n",
    "merged_df_sorted = merged_df.sort_values(by='concept_strength', ascending=False)\n",
    "\n",
    "# --- 5. Wyświetlenie wyników ---\n",
    "print(merged_df_sorted.head(10))  # Top 10 konceptów"
   ]
  },
  {
   "cell_type": "code",
   "execution_count": 5,
   "id": "4f173a52",
   "metadata": {},
   "outputs": [],
   "source": [
    "from IPython.display import Image, display\n",
    "def photo_desc(concept_strength_df, concept_name, image):\n",
    "    \n",
    "    display(Image(filename=image))\n",
    "    if concept_name not in concept_strength_df['concept_name'].values:\n",
    "        print(f\"Concept '{concept_name}' not found.\")\n",
    "    else:\n",
    "        print(f\"Strength of '{concept_name}': {concept_strength_df[concept_strength_df['concept_name'] == concept_name]['concept_strength'].values[0]}\")\n",
    "    print(f\"Name of the strongest concept: {concept_strength_df['concept_name'].iloc[0]}\")\n",
    "    "
   ]
  },
  {
   "cell_type": "code",
   "execution_count": 6,
   "id": "ba3502078faaf165",
   "metadata": {
    "ExecuteTime": {
     "end_time": "2025-05-29T19:22:11.459351Z",
     "start_time": "2025-05-29T19:22:11.408255Z"
    },
    "collapsed": false
   },
   "outputs": [
    {
     "data": {
      "image/jpeg": "[encoded data removed]",
      "text/plain": [
       "<IPython.core.display.Image object>"
      ]
     },
     "metadata": {},
     "output_type": "display_data"
    },
    {
     "name": "stdout",
     "output_type": "stream",
     "text": [
      "Strength of 'cats': 6.682165622711182\n",
      "Name of the strongest concept: cats\n"
     ]
    }
   ],
   "source": [
    "photo_desc(merged_df_sorted, 'cats', \"cat.jpg\")"
   ]
  }
 ],
 "metadata": {
  "kernelspec": {
   "display_name": "wb2025env",
   "language": "python",
   "name": "python3"
  },
  "language_info": {
   "codemirror_mode": {
    "name": "ipython",
    "version": 3
   },
   "file_extension": ".py",
   "mimetype": "text/x-python",
   "name": "python",
   "nbconvert_exporter": "python",
   "pygments_lexer": "ipython3",
   "version": "3.10.16"
  }
 },
 "nbformat": 4,
 "nbformat_minor": 5
}

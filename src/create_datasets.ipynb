{
 "cells": [
  {
   "cell_type": "markdown",
   "id": "8fc0d258",
   "metadata": {},
   "source": [
    "Najpierw wybierzmy 3 koncepty, które chcemy mieć w naszych danych. W tym celu poszukamy takich konceptów, które występują zarówno w Checkpoints and Assigned Concept Names oraz w datasecie ImageNET100, ponieważ chcemy brać dane z ImageNET i chcemy mieć koncepty wykrywalne przez model."
   ]
  },
  {
   "cell_type": "code",
   "execution_count": 1,
   "id": "581dd2f7",
   "metadata": {},
   "outputs": [
    {
     "data": {
      "text/plain": [
       "[('pelican', 'n02051845', 'pelican'),\n",
       " ('peacock', 'n01806143', 'peacock'),\n",
       " ('crane', 'n02012849', 'crane'),\n",
       " ('tick', 'n01776313', 'tick'),\n",
       " ('flamingo', 'n02007558', 'flamingo'),\n",
       " ('crane', 'n02012849', 'crane'),\n",
       " ('flamingo', 'n02007558', 'flamingo'),\n",
       " ('kite', 'n01608432', 'kite'),\n",
       " ('kite', 'n01608432', 'kite'),\n",
       " ('crane', 'n02012849', 'crane'),\n",
       " ('flamingo', 'n02007558', 'flamingo'),\n",
       " ('kite', 'n01608432', 'kite'),\n",
       " ('goose', 'n01855672', 'goose'),\n",
       " ('drake', 'n01847000', 'drake'),\n",
       " ('kite', 'n01608432', 'kite')]"
      ]
     },
     "execution_count": 1,
     "metadata": {},
     "output_type": "execute_result"
    }
   ],
   "source": [
    "import json\n",
    "import pandas as pd\n",
    "\n",
    "# Wczytaj słownik klas ImageNet100 \n",
    "imagenet100_concepts_json = json.load(open(\"Labels.json\", \"r\"))\n",
    "\n",
    "# Wczytaj plik z nazwami konceptów z repo autorów (Checkpoints and Assigned Concept Names)\n",
    "concepts_df = pd.read_csv(\"clip_ViT-L_14concept_names.csv\", header=None, names=[\"neuron_id\", \"concept\"])\n",
    "\n",
    "# Szukaj pokrywających się słów między konceptami a etykietami ImageNet100\n",
    "matches = []\n",
    "for concept in concepts_df[\"concept\"]:\n",
    "    for wnid, label in imagenet100_concepts_json.items():\n",
    "        if concept.lower() == label.lower():  \n",
    "            matches.append((concept, wnid, label))\n",
    "\n",
    "matches[:10000]\n"
   ]
  },
  {
   "cell_type": "markdown",
   "id": "6fc99e5d",
   "metadata": {},
   "source": [
    "Wybierzmy flamingi, gęsi i pelikany (tematycznie będzie, same zwierzęta)."
   ]
  },
  {
   "cell_type": "markdown",
   "id": "dd05ad14",
   "metadata": {},
   "source": [
    "Tworzymy funkcję do tworzenia zbiorów danych z ImageNET z połową zdjęć z danym konceptem, a połową bez tego konceptu."
   ]
  },
  {
   "cell_type": "code",
   "execution_count": null,
   "id": "c6838252",
   "metadata": {},
   "outputs": [],
   "source": [
    "import os\n",
    "import shutil\n",
    "import random\n",
    "from pathlib import Path\n",
    "\n",
    "def create_concept_binary_dataset(imagenet_root, output_dir, concept_class=\"n02051845\", samples_per_class=1300, concept_name=\"pelican\"):\n",
    "    \"\"\"\n",
    "    Tworzy dataset binarny: z konceptem (1) vs inne (0).\n",
    "    \n",
    "    Args:\n",
    "        imagenet_root: główny folder z ImageNet100, np. \"./imagenet100/train\"\n",
    "        output_dir: folder wyjściowy np. ./binary_dataset_pelican\n",
    "        concept_class: kod klasy konceptu w ImageNet100, np. \"n02051845\" (pelikan)\n",
    "        samples_per_class: liczba przykładów w każdej klasie, domyślnie 1300 ponieważ tyle zdjęć jest w ImageNet100 w zbiorze treningowym dla każdego konceptu\n",
    "        concept_name: nazwa konceptu, domyślnie \"pelican\"\n",
    "    \"\"\"\n",
    "\n",
    "    concept_dir = Path(imagenet_root) / concept_class\n",
    "    all_classes = [c for c in os.listdir(imagenet_root) if os.path.isdir(os.path.join(imagenet_root, c))]\n",
    "    non_concept_classes = [c for c in all_classes if c != concept_class]\n",
    "\n",
    "    \n",
    "    output_1 = Path(output_dir) / \"1_{concept_name}\"\n",
    "    output_0 = Path(output_dir) / \"0_other\"\n",
    "    output_1.mkdir(parents=True, exist_ok=True)\n",
    "    output_0.mkdir(parents=True, exist_ok=True)\n",
    "\n",
    "    # Wybierz obrazy z klasy konceptu (np. pelikan)\n",
    "    concept_images = list(concept_dir.glob(\"*.JPEG\"))[:samples_per_class]\n",
    "    for img in concept_images:\n",
    "        shutil.copy(img, output_1 / img.name)\n",
    "\n",
    "    # Wybierz losowo obrazy z innych klas\n",
    "    other_images = []\n",
    "    for cls in non_concept_classes:\n",
    "        class_dir = Path(imagenet_root) / cls\n",
    "        imgs = list(class_dir.glob(\"*.JPEG\"))\n",
    "        other_images.extend(imgs)\n",
    "\n",
    "    random.shuffle(other_images)\n",
    "    for img in other_images[:samples_per_class]:\n",
    "        shutil.copy(img, output_0 / img.name)\n",
    "\n",
    "    print(f\"Dataset utworzony: {samples_per_class} z konceptem + {samples_per_class} bez {concept_name}.\")\n",
    "    print(f\"Zapisano do: {output_dir}\")\n"
   ]
  },
  {
   "cell_type": "markdown",
   "id": "62f3084d",
   "metadata": {},
   "source": [
    "Tworzymy folder z połową zdjęć z pelikanami i połową bez."
   ]
  },
  {
   "cell_type": "code",
   "execution_count": null,
   "id": "be042b16",
   "metadata": {},
   "outputs": [],
   "source": [
    "create_concept_binary_dataset(\n",
    "    imagenet_root=\"./ImageNet100/train\",\n",
    "    output_dir=\"./binary_dataset_pelican\",\n",
    "    concept_class=\"n02051845\"\n",
    ")"
   ]
  },
  {
   "cell_type": "markdown",
   "id": "9b38d993",
   "metadata": {},
   "source": [
    "Tworzymy folder z flamingami i bez."
   ]
  },
  {
   "cell_type": "code",
   "execution_count": null,
   "id": "2b5a7044",
   "metadata": {},
   "outputs": [],
   "source": [
    "create_concept_binary_dataset(\n",
    "    imagenet_root=\"./ImageNet100/train\",\n",
    "    output_dir=\"./binary_dataset_flamingo\",\n",
    "    concept_class=\"n02007558\"\n",
    ")"
   ]
  },
  {
   "cell_type": "markdown",
   "id": "b1adcc31",
   "metadata": {},
   "source": [
    "Teraz z gęsiami i bez."
   ]
  },
  {
   "cell_type": "code",
   "execution_count": null,
   "id": "b4670b4d",
   "metadata": {},
   "outputs": [],
   "source": [
    "create_concept_binary_dataset(\n",
    "    imagenet_root=\"./ImageNet100/train\",\n",
    "    output_dir=\"./binary_dataset_flamingo\",\n",
    "    concept_class=\"n01855672\"\n",
    ")"
   ]
  }
 ],
 "metadata": {
  "kernelspec": {
   "display_name": "saeenv",
   "language": "python",
   "name": "python3"
  },
  "language_info": {
   "codemirror_mode": {
    "name": "ipython",
    "version": 3
   },
   "file_extension": ".py",
   "mimetype": "text/x-python",
   "name": "python",
   "nbconvert_exporter": "python",
   "pygments_lexer": "ipython3",
   "version": "3.11.11"
  }
 },
 "nbformat": 4,
 "nbformat_minor": 5
}

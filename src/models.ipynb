{
  "nbformat": 4,
  "nbformat_minor": 0,
  "metadata": {
    "colab": {
      "provenance": []
    },
    "kernelspec": {
      "name": "python3",
      "display_name": "Python 3"
    },
    "language_info": {
      "name": "python"
    }
  },
  "cells": [
    {
      "cell_type": "markdown",
      "source": [
        "# Modele:\n",
        "\n",
        "Dla każdego z 3 konceptów (pelikany, flamingi, gęsi) mamy dane przepuszczone już przez pipeline (CLIP+SAE). Chcemy na nich zbudować 3 proste modele:\n",
        "\n",
        "1) zbudowany tylko na neuronie odpowiedzialnym za koncept, który chcemy wykrywać,\n",
        "\n",
        "2) zbudowany na wszystkich neuronach,\n",
        "\n",
        "3) zbudowany na neuronach z największą sumą wartości dla zdjęć z danym konceptem.\n",
        "\n",
        "Następnie porównamy te trzy podejścia w celu sprawdzenia, czy patrząc tylko na jeden neuron, który powinien być opdowiedzialny za dany koncept, jesteśmy w stanie zbudować model, który będzie dobrze decydował o tym, czy na danym zdjęciu znajduje się ten koncept. Poza tym porównamy wagi neuronów dla modelu zbudowanego na wszystkich neuronach i sprawdzimy, jakim konceptom one odpowiadają według pliku clip_ViT-L_14concept_names.csv. Pokaże to, które neurony i koncepty najbardziej decydują o tym, czy dany koncept jest obecny na zdjęciu."
      ],
      "metadata": {
        "id": "h7O6I56Pvy8G"
      }
    },
    {
      "cell_type": "markdown",
      "source": [
        "## Wczytanie danych."
      ],
      "metadata": {
        "id": "DHHDGhGszqMO"
      }
    },
    {
      "cell_type": "code",
      "source": [
        "import torch\n",
        "\n",
        "# Pelikany\n",
        "X_pelican = torch.load(\"X_concepts_pelican.pt\")\n",
        "y_pelican = torch.load(\"y_labels_pelican.pt\")\n",
        "\n",
        "print(X_pelican.shape)\n",
        "print(y_pelican.shape)\n",
        "\n",
        "# Flamingi\n",
        "X_flamingo = torch.load(\"X_concepts_flamingo.pt\")\n",
        "y_flamingo = torch.load(\"y_labels_flamingo.pt\")\n",
        "\n",
        "print(X_flamingo.shape)\n",
        "print(y_flamingo.shape)\n",
        "\n",
        "# Gęsi\n",
        "X_goose = torch.load(\"X_concepts_goose.pt\")\n",
        "y_goose = torch.load(\"y_labels_goose.pt\")\n",
        "\n",
        "print(X_goose.shape)\n",
        "print(y_goose.shape)\n"
      ],
      "metadata": {
        "colab": {
          "base_uri": "https://localhost:8080/"
        },
        "id": "yxWuZGOU1oCN",
        "outputId": "9b98fee0-4c6f-412b-8d50-09ae97d8bb9a"
      },
      "execution_count": 84,
      "outputs": [
        {
          "output_type": "stream",
          "name": "stdout",
          "text": [
            "torch.Size([400, 6144])\n",
            "torch.Size([400])\n",
            "torch.Size([400, 6144])\n",
            "torch.Size([400])\n",
            "torch.Size([400, 6144])\n",
            "torch.Size([400])\n"
          ]
        }
      ]
    },
    {
      "cell_type": "markdown",
      "source": [
        "Sprawdźmy, ile dla danego konceptu jest danych z tym konceptem, a ile bez (czy dane są zbalansowane: powinny być, bo braliśmy wcześniej po 200 zdjęć z każdego konceptu, ale dla upewnienia)."
      ],
      "metadata": {
        "id": "LDCoU3wU2Qk8"
      }
    },
    {
      "cell_type": "code",
      "source": [
        "with_pelicans = (y_pelican == 1).sum().item()\n",
        "wo_pelicans = (y_pelican == 0).sum().item()\n",
        "\n",
        "print(f\"Liczba danych ze zbioru pelikanów z pelikanami (X_pelican): {with_pelicans}\")\n",
        "print(f\"Liczba danych bez pelikanów ze zbioru pelikanów (X_pelican): {wo_pelicans}\\n\")\n",
        "\n",
        "with_flamingos = (y_flamingo == 1).sum().item()\n",
        "wo_flamingos = (y_flamingo == 0).sum().item()\n",
        "\n",
        "print(f\"Liczba danych ze zbioru flamingów z flamingami (X_flamingo): {with_flamingos}\")\n",
        "print(f\"Liczba danych bez flamingów ze zbioru flamingów (X_flamingo): {wo_flamingos}\\n\")\n",
        "\n",
        "with_geese = (y_goose == 1).sum().item()\n",
        "wo_geese = (y_goose == 0).sum().item()\n",
        "\n",
        "print(f\"Liczba danych ze zbioru gęsi z gęsiami (X_goose): {with_geese}\")\n",
        "print(f\"Liczba danych bez gęsi ze zbioru gęsi (X_goose): {wo_geese}\\n\")"
      ],
      "metadata": {
        "colab": {
          "base_uri": "https://localhost:8080/"
        },
        "id": "P8rS5fPQ2edv",
        "outputId": "a1b983a2-7bcb-4036-bc1e-20e17c249efa"
      },
      "execution_count": 104,
      "outputs": [
        {
          "output_type": "stream",
          "name": "stdout",
          "text": [
            "Liczba danych ze zbioru pelikanów z pelikanami (X_pelican): 200\n",
            "Liczba danych bez pelikanów ze zbioru pelikanów (X_pelican): 200\n",
            "\n",
            "Liczba danych ze zbioru flamingów z flamingami (X_flamingo): 200\n",
            "Liczba danych bez flamingów ze zbioru flamingów (X_flamingo): 200\n",
            "\n",
            "Liczba danych ze zbioru gęsi z gęsiami (X_goose): 200\n",
            "Liczba danych bez gęsi ze zbioru gęsi (X_goose): 200\n",
            "\n"
          ]
        }
      ]
    },
    {
      "cell_type": "markdown",
      "source": [
        "## Modele dla zbioru pelikanów."
      ],
      "metadata": {
        "id": "VHZoVRAQzsur"
      }
    },
    {
      "cell_type": "code",
      "source": [
        "from sklearn.linear_model import LogisticRegression\n",
        "from sklearn.model_selection import train_test_split\n",
        "from sklearn.metrics import accuracy_score, roc_auc_score"
      ],
      "metadata": {
        "id": "ypwdbjpTSKPV"
      },
      "execution_count": 105,
      "outputs": []
    },
    {
      "cell_type": "markdown",
      "source": [
        "Podział danych na testowe i treningowe."
      ],
      "metadata": {
        "id": "rTW_7SCC33IP"
      }
    },
    {
      "cell_type": "code",
      "source": [
        "# Podział danych\n",
        "X_train, X_test, y_train, y_test = train_test_split(X_pelican, y_pelican, test_size=0.2, stratify=y_pelican, random_state=42)\n",
        "\n",
        "# neuron dla \"pelican\"\n",
        "pelican_neuron = 1085"
      ],
      "metadata": {
        "id": "qk98rWmeAG-c"
      },
      "execution_count": 106,
      "outputs": []
    },
    {
      "cell_type": "markdown",
      "source": [
        "Sprawdźmy wartości dla neuronu, który w teorii powinien odpowiadaać za koncept pelikana."
      ],
      "metadata": {
        "id": "prgWPaaE4A6b"
      }
    },
    {
      "cell_type": "code",
      "source": [
        "X_train[y_train == 0, 1085]"
      ],
      "metadata": {
        "colab": {
          "base_uri": "https://localhost:8080/"
        },
        "id": "V_GsCbJoABtB",
        "outputId": "c165eef7-e0b9-4a45-e2d1-61d354e610b3"
      },
      "execution_count": 107,
      "outputs": [
        {
          "output_type": "execute_result",
          "data": {
            "text/plain": [
              "tensor([0., 0., 0., 0., 0., 0., 0., 0., 0., 0., 0., 0., 0., 0., 0., 0., 0., 0., 0., 0., 0., 0., 0., 0.,\n",
              "        0., 0., 0., 0., 0., 0., 0., 0., 0., 0., 0., 0., 0., 0., 0., 0., 0., 0., 0., 0., 0., 0., 0., 0.,\n",
              "        0., 0., 0., 0., 0., 0., 0., 0., 0., 0., 0., 0., 0., 0., 0., 0., 0., 0., 0., 0., 0., 0., 0., 0.,\n",
              "        0., 0., 0., 0., 0., 0., 0., 0., 0., 0., 0., 0., 0., 0., 0., 0., 0., 0., 0., 0., 0., 0., 0., 0.,\n",
              "        0., 0., 0., 0., 0., 0., 0., 0., 0., 0., 0., 0., 0., 0., 0., 0., 0., 0., 0., 0., 0., 0., 0., 0.,\n",
              "        0., 0., 0., 0., 0., 0., 0., 0., 0., 0., 0., 0., 0., 0., 0., 0., 0., 0., 0., 0., 0., 0., 0., 0.,\n",
              "        0., 0., 0., 0., 0., 0., 0., 0., 0., 0., 0., 0., 0., 0., 0., 0.])"
            ]
          },
          "metadata": {},
          "execution_count": 107
        }
      ]
    },
    {
      "cell_type": "code",
      "source": [
        "X_train[y_train == 0, 1085]"
      ],
      "metadata": {
        "colab": {
          "base_uri": "https://localhost:8080/"
        },
        "id": "cxVDiahsQ1s1",
        "outputId": "33f2e64a-75e9-4608-e62f-ea1e786995ed"
      },
      "execution_count": 108,
      "outputs": [
        {
          "output_type": "execute_result",
          "data": {
            "text/plain": [
              "tensor([0., 0., 0., 0., 0., 0., 0., 0., 0., 0., 0., 0., 0., 0., 0., 0., 0., 0., 0., 0., 0., 0., 0., 0.,\n",
              "        0., 0., 0., 0., 0., 0., 0., 0., 0., 0., 0., 0., 0., 0., 0., 0., 0., 0., 0., 0., 0., 0., 0., 0.,\n",
              "        0., 0., 0., 0., 0., 0., 0., 0., 0., 0., 0., 0., 0., 0., 0., 0., 0., 0., 0., 0., 0., 0., 0., 0.,\n",
              "        0., 0., 0., 0., 0., 0., 0., 0., 0., 0., 0., 0., 0., 0., 0., 0., 0., 0., 0., 0., 0., 0., 0., 0.,\n",
              "        0., 0., 0., 0., 0., 0., 0., 0., 0., 0., 0., 0., 0., 0., 0., 0., 0., 0., 0., 0., 0., 0., 0., 0.,\n",
              "        0., 0., 0., 0., 0., 0., 0., 0., 0., 0., 0., 0., 0., 0., 0., 0., 0., 0., 0., 0., 0., 0., 0., 0.,\n",
              "        0., 0., 0., 0., 0., 0., 0., 0., 0., 0., 0., 0., 0., 0., 0., 0.])"
            ]
          },
          "metadata": {},
          "execution_count": 108
        }
      ]
    },
    {
      "cell_type": "markdown",
      "source": [
        "Coś się nie zgadza - sprawdźmy, czy nie jest to przypadkiem zły neuron. Może jakiś inny neuron mówi nam więcej o tym, czy pelikan jest obecny na zdjęciu. Poszukujamy takiego, dla którego suma wartości neuronów dla zdjęć z pelikanami jest największa."
      ],
      "metadata": {
        "id": "6nO1V0JLQ_AV"
      }
    },
    {
      "cell_type": "code",
      "source": [
        "import pandas as pd\n",
        "\n",
        "# Załaduj plik CSV z nazwami konceptów\n",
        "concept_df = pd.read_csv(\"/content/drive/MyDrive/WB/Discover-then-Name/clip_ViT-L_14concept_names.csv\",  header=None, names=[\"neuron_index\", \"concept_name\"])\n",
        "concept_df[\"neuron_index\"] = concept_df[\"neuron_index\"].astype(int)\n"
      ],
      "metadata": {
        "id": "E3Akzcx5gYw3"
      },
      "execution_count": 109,
      "outputs": []
    },
    {
      "cell_type": "code",
      "source": [
        "import numpy as np\n",
        "\n",
        "# Sumy aktywacji po kolumnach (neurony) tylko dla przykładów z y=1\n",
        "sums_with = X_train[y_train == 1].sum(axis=0)\n",
        "\n",
        "# Sumy po kolumnach z przykaldow bez pelikanow\n",
        "sums_wo = X_train[y_train == 0].sum(axis=0)\n",
        "\n",
        "# Indeks neuronu o najwyższej sumie\n",
        "max_index = np.argmax(sums_with)\n",
        "max_index = int(np.argmax(sums_with))\n",
        "\n",
        "name_max_index = concept_df.loc[concept_df['neuron_index'] == max_index, 'concept_name'].values\n",
        "name_1085 = concept_df.loc[concept_df['neuron_index'] == 1085, 'concept_name'].values\n",
        "\n",
        "# Bezpieczne wypisanie (zabezpieczenie, gdyby brakowało w CSV)\n",
        "name_max_index = name_max_index[0] if len(name_max_index) > 0 else \"brak w pliku\"\n",
        "name_1085 = name_1085[0] if len(name_1085) > 0 else \"brak w pliku\"\n",
        "\n",
        "# Wypisanie informacji\n",
        "print(f\"Neuron z najwyższą sumą aktywacji dla zdjęć z pelikanami: {max_index} ({name_max_index})\\n\")\n",
        "print(f\"Suma wartości tego neuronu dla zdjęć z pelikanami: {sums_with[max_index]}\")\n",
        "print(f\"Suma wartości tego neuronu dla zdjęć bez pelikanów: {sums_wo[max_index]}\\n\")\n",
        "print(f\"Neuron z konceptem pelikana wg autorów: 1085 ({name_1085})\\n\")\n",
        "print(f\"Suma wartości tego neuronu dla zdjęć z pelikanami: {sums_with[1085]}\")\n",
        "print(f\"Suma wartości tego neuronu dla zdjęć bez pelikanów: {sums_wo[1085]}\")\n"
      ],
      "metadata": {
        "colab": {
          "base_uri": "https://localhost:8080/"
        },
        "id": "9aLp_L46RVbV",
        "outputId": "0866220c-119f-492b-9df1-4c85face70c6"
      },
      "execution_count": 110,
      "outputs": [
        {
          "output_type": "stream",
          "name": "stdout",
          "text": [
            "Neuron z najwyższą sumą aktywacji dla zdjęć z pelikanami: 111 (birds)\n",
            "\n",
            "Suma wartości tego neuronu dla zdjęć z pelikanami: 748.2510986328125\n",
            "Suma wartości tego neuronu dla zdjęć bez pelikanów: 266.2774353027344\n",
            "\n",
            "Neuron z konceptem pelikana wg autorów: 1085 (pelican)\n",
            "\n",
            "Suma wartości tego neuronu dla zdjęć z pelikanami: 0.0\n",
            "Suma wartości tego neuronu dla zdjęć bez pelikanów: 0.0\n"
          ]
        }
      ]
    },
    {
      "cell_type": "markdown",
      "source": [
        "Zobaczmy, jak wyglądają wartości neuronu odpowiadającego za koncept 'birds'."
      ],
      "metadata": {
        "id": "2PA_eYPw6EtP"
      }
    },
    {
      "cell_type": "code",
      "source": [
        "X_train[y_train == 0, 111]"
      ],
      "metadata": {
        "colab": {
          "base_uri": "https://localhost:8080/"
        },
        "id": "DDpdhb3xSDB1",
        "outputId": "210102bf-afba-4ce9-db8a-8e9611620f85"
      },
      "execution_count": 111,
      "outputs": [
        {
          "output_type": "execute_result",
          "data": {
            "text/plain": [
              "tensor([0.0000, 1.1120, 4.2199, 1.1682, 1.1223, 0.1907, 0.7005, 0.6303, 0.4905,\n",
              "        0.0000, 0.1484, 5.6731, 0.5801, 0.3283, 0.3541, 0.2391, 0.6215, 0.0000,\n",
              "        0.6891, 5.2362, 0.3435, 0.2528, 0.4170, 0.0000, 0.0000, 0.0000, 0.7363,\n",
              "        0.0000, 1.4463, 5.7929, 0.4367, 0.0000, 4.7334, 0.0854, 0.0000, 4.8739,\n",
              "        0.3427, 0.0000, 0.3132, 1.3885, 1.3202, 0.5010, 4.4508, 1.7178, 0.0000,\n",
              "        0.9700, 0.2841, 5.6986, 0.9745, 4.7263, 0.4672, 0.0000, 1.0944, 0.1951,\n",
              "        2.5009, 3.7908, 0.9070, 0.0000, 0.0219, 1.4890, 3.9711, 0.8972, 0.0771,\n",
              "        1.9473, 4.8973, 5.2224, 0.0429, 0.0000, 1.6894, 1.4184, 4.8445, 0.3620,\n",
              "        0.1401, 1.8411, 0.0000, 4.5752, 0.7314, 0.0000, 5.3931, 4.8907, 1.2875,\n",
              "        5.4297, 5.3211, 0.9916, 1.2021, 4.6208, 5.0872, 0.8224, 1.9143, 1.4994,\n",
              "        1.0189, 0.6252, 0.4549, 0.1927, 0.7361, 4.9892, 0.9449, 6.0994, 0.0000,\n",
              "        0.0086, 4.8314, 0.0000, 4.7440, 0.2613, 0.0000, 0.0377, 4.1159, 0.3147,\n",
              "        0.8690, 0.0000, 0.6592, 0.2449, 0.5004, 4.7150, 0.0000, 1.4321, 4.3675,\n",
              "        1.0875, 0.2448, 1.5080, 0.5968, 0.0182, 1.1423, 5.9169, 0.8736, 0.0000,\n",
              "        4.0955, 4.5880, 0.0000, 5.6561, 0.8901, 1.0713, 0.0347, 5.0662, 0.9925,\n",
              "        0.0000, 0.8930, 0.0000, 2.0345, 5.7097, 0.0000, 0.0000, 0.6808, 1.7625,\n",
              "        0.0000, 1.2266, 4.5478, 0.2474, 5.0695, 0.5212, 4.0845, 0.4541, 0.8315,\n",
              "        4.9096, 0.9368, 3.7459, 0.0000, 4.2108, 0.5694, 1.0025])"
            ]
          },
          "metadata": {},
          "execution_count": 111
        }
      ]
    },
    {
      "cell_type": "code",
      "source": [
        "X_train[y_train == 1, 111]"
      ],
      "metadata": {
        "colab": {
          "base_uri": "https://localhost:8080/"
        },
        "id": "yq5ucZd-SIUA",
        "outputId": "dfe8adec-75fc-4ae5-d5cc-10f297559889"
      },
      "execution_count": 112,
      "outputs": [
        {
          "output_type": "execute_result",
          "data": {
            "text/plain": [
              "tensor([4.7937, 4.8129, 5.5702, 5.0952, 4.1034, 4.9550, 4.5728, 3.5800, 5.2656,\n",
              "        4.5237, 5.4848, 4.8634, 4.9187, 4.8093, 3.7721, 4.5295, 4.5737, 4.2526,\n",
              "        4.0558, 4.7318, 4.7386, 5.2141, 5.3047, 4.9631, 4.0349, 5.3726, 5.7222,\n",
              "        4.1159, 4.7866, 4.1084, 4.6997, 4.9584, 4.7285, 5.1554, 5.2639, 5.0703,\n",
              "        5.4352, 4.8604, 4.6480, 4.9353, 5.4228, 5.5191, 4.8642, 4.8221, 4.8656,\n",
              "        4.8986, 5.5939, 4.0814, 4.9940, 5.0489, 4.8668, 4.5827, 5.0706, 4.6171,\n",
              "        5.0728, 4.9306, 5.3915, 5.3038, 5.2583, 5.2578, 3.9793, 5.0702, 4.7605,\n",
              "        4.3923, 4.4375, 4.2072, 4.9728, 4.7340, 4.6938, 4.3595, 3.3883, 4.3686,\n",
              "        4.5433, 4.7742, 4.7632, 4.4706, 3.9150, 4.6783, 4.8172, 4.6018, 3.5131,\n",
              "        4.3222, 4.5202, 5.0122, 4.4618, 4.2244, 5.2573, 4.1716, 4.0892, 4.2365,\n",
              "        4.4026, 4.6962, 5.1281, 4.2950, 4.1275, 4.5719, 5.0115, 3.4847, 5.3574,\n",
              "        4.8737, 4.4896, 4.6843, 5.2600, 5.0605, 4.4088, 4.8249, 4.8969, 4.9513,\n",
              "        4.2810, 4.8959, 5.3959, 5.2887, 4.7273, 4.8330, 2.7738, 4.7845, 4.6146,\n",
              "        4.5817, 4.0899, 4.6891, 3.7827, 4.5237, 4.3142, 3.3302, 5.0394, 5.6440,\n",
              "        4.9123, 4.9983, 5.2838, 5.4631, 4.4675, 4.4315, 4.2860, 4.1534, 2.9648,\n",
              "        4.5844, 4.3335, 4.9009, 5.2394, 5.0439, 4.7042, 4.5049, 3.3941, 4.7760,\n",
              "        5.1758, 3.0948, 5.5318, 5.0548, 4.3912, 3.9215, 5.0159, 4.6225, 5.2732,\n",
              "        4.7124, 4.5425, 4.5915, 4.4076, 4.6223, 4.1044, 5.0534])"
            ]
          },
          "metadata": {},
          "execution_count": 112
        }
      ]
    },
    {
      "cell_type": "markdown",
      "source": [
        "Model liniowy na neuronie odpowiadającym za koncept pelikana:"
      ],
      "metadata": {
        "id": "UXd2zHDuzaDb"
      }
    },
    {
      "cell_type": "code",
      "source": [
        "# Model na neuronie 1085\n",
        "X_train_single = X_train[:, pelican_neuron].reshape(-1, 1)\n",
        "X_test_single = X_test[:, pelican_neuron].reshape(-1, 1)\n",
        "clf_single = LogisticRegression().fit(X_train_single, y_train)\n",
        "preds_single = clf_single.predict(X_test_single)\n",
        "acc_single = accuracy_score(y_test, preds_single)\n",
        "roc_single = roc_auc_score(y_test, clf_single.predict_proba(X_test_single)[:, 1])"
      ],
      "metadata": {
        "id": "wrjNXjR3SByb"
      },
      "execution_count": 113,
      "outputs": []
    },
    {
      "cell_type": "markdown",
      "source": [
        "Regresja logistyczna dla wszystkich neuronów:"
      ],
      "metadata": {
        "id": "53spowCLVnDu"
      }
    },
    {
      "cell_type": "code",
      "source": [
        "# model\n",
        "clf_full = LogisticRegression(penalty=\"l1\", solver=\"liblinear\", max_iter=1000).fit(X_train, y_train)\n",
        "preds_full = clf_full.predict(X_test)\n",
        "acc_full = accuracy_score(y_test, preds_full)\n",
        "roc_full = roc_auc_score(y_test, clf_full.predict_proba(X_test)[:, 1])"
      ],
      "metadata": {
        "id": "hft4yhkyU-F-"
      },
      "execution_count": 114,
      "outputs": []
    },
    {
      "cell_type": "markdown",
      "source": [
        "Model zbudowany na neuronach z największą sumą wartości dla zdjęć z danym konceptem (znajdźmy te neurony)."
      ],
      "metadata": {
        "id": "mNbHzI4G6gUg"
      }
    },
    {
      "cell_type": "code",
      "source": [
        "# Suma wartości dla każdego neuronu tylko na danych z pelikanami\n",
        "pel_sum = X_pelican[y_pelican == 1].sum(dim=0)\n",
        "# Neurony o największej sumie aktywacji\n",
        "top_k = torch.topk(pel_sum, k=5)\n",
        "top_neurons = top_k.indices.tolist()\n",
        "\n",
        "\n",
        "print(\"Top aktywne neurony (pelikan):\", top_neurons)\n",
        "\n",
        "print(\"\\nNazwy konceptów dla top 5 neuronów:\")\n",
        "for idx in top_neurons:\n",
        "    row = concept_df.loc[concept_df[\"neuron_index\"] == idx]\n",
        "    name = row[\"concept_name\"].values[0] if not row.empty else \"brak w pliku\"\n",
        "    print(f\"Neuron {idx}: {name}\")\n"
      ],
      "metadata": {
        "colab": {
          "base_uri": "https://localhost:8080/"
        },
        "id": "H0e9zgef6vuA",
        "outputId": "920e249c-8b8f-4640-d3d6-aa0110998ded"
      },
      "execution_count": 115,
      "outputs": [
        {
          "output_type": "stream",
          "name": "stdout",
          "text": [
            "Top aktywne neurony (pelikan): [111, 1019, 3986, 352, 3318]\n",
            "\n",
            "Nazwy konceptów dla top 5 neuronów:\n",
            "Neuron 111: birds\n",
            "Neuron 1019: wildlife\n",
            "Neuron 3986: pic\n",
            "Neuron 352: canoeing\n",
            "Neuron 3318: beach\n"
          ]
        }
      ]
    },
    {
      "cell_type": "code",
      "source": [
        "# Podział danych\n",
        "X_top = X_pelican[:, top_neurons]\n",
        "X_train, X_test, y_train, y_test = train_test_split(X_top, y_pelican, test_size=0.2, stratify=y_pelican, random_state=42)\n",
        "\n",
        "# Trening modelu\n",
        "clf_top = LogisticRegression(max_iter=1000)\n",
        "clf_top.fit(X_train, y_train)\n",
        "preds = clf_top.predict(X_test)\n",
        "\n",
        "# Ocena\n",
        "acc_top = accuracy_score(y_test, preds)\n",
        "roc_top = roc_auc_score(y_test, clf_top.predict_proba(X_test)[:, 1])"
      ],
      "metadata": {
        "id": "FliwBWWT67At"
      },
      "execution_count": 116,
      "outputs": []
    },
    {
      "cell_type": "markdown",
      "source": [
        "## Wyniki dla zbioru pelikanów:"
      ],
      "metadata": {
        "id": "qbzlGAAxVn4T"
      }
    },
    {
      "cell_type": "code",
      "source": [
        "pelican_results = {\n",
        "    \"naming_neuron_1085\": {\"accuracy\": acc_single, \"roc_auc\": roc_single},\n",
        "    \"logistic_regression_full\": {\"accuracy\": acc_full, \"roc_auc\": roc_full},\n",
        "    \"top_5_neurons\": {\"accuracy\": acc_top, \"roc_auc\": roc_top}\n",
        "}"
      ],
      "metadata": {
        "id": "pCXu-53nVIE7"
      },
      "execution_count": 117,
      "outputs": []
    },
    {
      "cell_type": "code",
      "source": [
        "print(f\"Pelican results: {pelican_results}\")"
      ],
      "metadata": {
        "colab": {
          "base_uri": "https://localhost:8080/"
        },
        "id": "DZo2GDOkVJ_r",
        "outputId": "53d2c7e6-805d-481e-d2c3-9094bc54b944"
      },
      "execution_count": 118,
      "outputs": [
        {
          "output_type": "stream",
          "name": "stdout",
          "text": [
            "Pelican results: {'naming_neuron_1085': {'accuracy': 0.5, 'roc_auc': np.float64(0.5)}, 'logistic_regression_full': {'accuracy': 0.9375, 'roc_auc': np.float64(0.9962500000000001)}, 'top_5_neurons': {'accuracy': 0.9375, 'roc_auc': np.float64(0.935625)}}\n"
          ]
        }
      ]
    },
    {
      "cell_type": "code",
      "source": [
        "results_df_pelican = pd.DataFrame.from_dict({\n",
        "    \"Neuron 1085 (pelican)\": pelican_results[\"naming_neuron_1085\"],\n",
        "    \"Logistic Regression (full vector)\": pelican_results[\"logistic_regression_full\"],\n",
        "    \"Top 5 Neurons\": pelican_results[\"top_5_neurons\"]\n",
        "}, orient=\"index\")\n",
        "\n",
        "display(results_df_pelican)"
      ],
      "metadata": {
        "colab": {
          "base_uri": "https://localhost:8080/",
          "height": 143
        },
        "id": "kansXVlF_0AT",
        "outputId": "5db2d0c2-db63-4fdc-a3b1-83de3173b3f4"
      },
      "execution_count": 119,
      "outputs": [
        {
          "output_type": "display_data",
          "data": {
            "text/plain": [
              "                                   accuracy   roc_auc\n",
              "Neuron 1085 (pelican)                0.5000  0.500000\n",
              "Logistic Regression (full vector)    0.9375  0.996250\n",
              "Top 5 Neurons                        0.9375  0.935625"
            ],
            "text/html": [
              "\n",
              "  <div id=\"df-36b19e50-b60d-4969-ac5a-166eae86abb8\" class=\"colab-df-container\">\n",
              "    <div>\n",
              "<style scoped>\n",
              "    .dataframe tbody tr th:only-of-type {\n",
              "        vertical-align: middle;\n",
              "    }\n",
              "\n",
              "    .dataframe tbody tr th {\n",
              "        vertical-align: top;\n",
              "    }\n",
              "\n",
              "    .dataframe thead th {\n",
              "        text-align: right;\n",
              "    }\n",
              "</style>\n",
              "<table border=\"1\" class=\"dataframe\">\n",
              "  <thead>\n",
              "    <tr style=\"text-align: right;\">\n",
              "      <th></th>\n",
              "      <th>accuracy</th>\n",
              "      <th>roc_auc</th>\n",
              "    </tr>\n",
              "  </thead>\n",
              "  <tbody>\n",
              "    <tr>\n",
              "      <th>Neuron 1085 (pelican)</th>\n",
              "      <td>0.5000</td>\n",
              "      <td>0.500000</td>\n",
              "    </tr>\n",
              "    <tr>\n",
              "      <th>Logistic Regression (full vector)</th>\n",
              "      <td>0.9375</td>\n",
              "      <td>0.996250</td>\n",
              "    </tr>\n",
              "    <tr>\n",
              "      <th>Top 5 Neurons</th>\n",
              "      <td>0.9375</td>\n",
              "      <td>0.935625</td>\n",
              "    </tr>\n",
              "  </tbody>\n",
              "</table>\n",
              "</div>\n",
              "    <div class=\"colab-df-buttons\">\n",
              "\n",
              "  <div class=\"colab-df-container\">\n",
              "    <button class=\"colab-df-convert\" onclick=\"convertToInteractive('df-36b19e50-b60d-4969-ac5a-166eae86abb8')\"\n",
              "            title=\"Convert this dataframe to an interactive table.\"\n",
              "            style=\"display:none;\">\n",
              "\n",
              "  <svg xmlns=\"http://www.w3.org/2000/svg\" height=\"24px\" viewBox=\"0 -960 960 960\">\n",
              "    <path d=\"M120-120v-720h720v720H120Zm60-500h600v-160H180v160Zm220 220h160v-160H400v160Zm0 220h160v-160H400v160ZM180-400h160v-160H180v160Zm440 0h160v-160H620v160ZM180-180h160v-160H180v160Zm440 0h160v-160H620v160Z\"/>\n",
              "  </svg>\n",
              "    </button>\n",
              "\n",
              "  <style>\n",
              "    .colab-df-container {\n",
              "      display:flex;\n",
              "      gap: 12px;\n",
              "    }\n",
              "\n",
              "    .colab-df-convert {\n",
              "      background-color: #E8F0FE;\n",
              "      border: none;\n",
              "      border-radius: 50%;\n",
              "      cursor: pointer;\n",
              "      display: none;\n",
              "      fill: #1967D2;\n",
              "      height: 32px;\n",
              "      padding: 0 0 0 0;\n",
              "      width: 32px;\n",
              "    }\n",
              "\n",
              "    .colab-df-convert:hover {\n",
              "      background-color: #E2EBFA;\n",
              "      box-shadow: 0px 1px 2px rgba(60, 64, 67, 0.3), 0px 1px 3px 1px rgba(60, 64, 67, 0.15);\n",
              "      fill: #174EA6;\n",
              "    }\n",
              "\n",
              "    .colab-df-buttons div {\n",
              "      margin-bottom: 4px;\n",
              "    }\n",
              "\n",
              "    [theme=dark] .colab-df-convert {\n",
              "      background-color: #3B4455;\n",
              "      fill: #D2E3FC;\n",
              "    }\n",
              "\n",
              "    [theme=dark] .colab-df-convert:hover {\n",
              "      background-color: #434B5C;\n",
              "      box-shadow: 0px 1px 3px 1px rgba(0, 0, 0, 0.15);\n",
              "      filter: drop-shadow(0px 1px 2px rgba(0, 0, 0, 0.3));\n",
              "      fill: #FFFFFF;\n",
              "    }\n",
              "  </style>\n",
              "\n",
              "    <script>\n",
              "      const buttonEl =\n",
              "        document.querySelector('#df-36b19e50-b60d-4969-ac5a-166eae86abb8 button.colab-df-convert');\n",
              "      buttonEl.style.display =\n",
              "        google.colab.kernel.accessAllowed ? 'block' : 'none';\n",
              "\n",
              "      async function convertToInteractive(key) {\n",
              "        const element = document.querySelector('#df-36b19e50-b60d-4969-ac5a-166eae86abb8');\n",
              "        const dataTable =\n",
              "          await google.colab.kernel.invokeFunction('convertToInteractive',\n",
              "                                                    [key], {});\n",
              "        if (!dataTable) return;\n",
              "\n",
              "        const docLinkHtml = 'Like what you see? Visit the ' +\n",
              "          '<a target=\"_blank\" href=https://colab.research.google.com/notebooks/data_table.ipynb>data table notebook</a>'\n",
              "          + ' to learn more about interactive tables.';\n",
              "        element.innerHTML = '';\n",
              "        dataTable['output_type'] = 'display_data';\n",
              "        await google.colab.output.renderOutput(dataTable, element);\n",
              "        const docLink = document.createElement('div');\n",
              "        docLink.innerHTML = docLinkHtml;\n",
              "        element.appendChild(docLink);\n",
              "      }\n",
              "    </script>\n",
              "  </div>\n",
              "\n",
              "\n",
              "    <div id=\"df-13daa9ae-bec3-4f51-966a-5e2062c6ebba\">\n",
              "      <button class=\"colab-df-quickchart\" onclick=\"quickchart('df-13daa9ae-bec3-4f51-966a-5e2062c6ebba')\"\n",
              "                title=\"Suggest charts\"\n",
              "                style=\"display:none;\">\n",
              "\n",
              "<svg xmlns=\"http://www.w3.org/2000/svg\" height=\"24px\"viewBox=\"0 0 24 24\"\n",
              "     width=\"24px\">\n",
              "    <g>\n",
              "        <path d=\"M19 3H5c-1.1 0-2 .9-2 2v14c0 1.1.9 2 2 2h14c1.1 0 2-.9 2-2V5c0-1.1-.9-2-2-2zM9 17H7v-7h2v7zm4 0h-2V7h2v10zm4 0h-2v-4h2v4z\"/>\n",
              "    </g>\n",
              "</svg>\n",
              "      </button>\n",
              "\n",
              "<style>\n",
              "  .colab-df-quickchart {\n",
              "      --bg-color: #E8F0FE;\n",
              "      --fill-color: #1967D2;\n",
              "      --hover-bg-color: #E2EBFA;\n",
              "      --hover-fill-color: #174EA6;\n",
              "      --disabled-fill-color: #AAA;\n",
              "      --disabled-bg-color: #DDD;\n",
              "  }\n",
              "\n",
              "  [theme=dark] .colab-df-quickchart {\n",
              "      --bg-color: #3B4455;\n",
              "      --fill-color: #D2E3FC;\n",
              "      --hover-bg-color: #434B5C;\n",
              "      --hover-fill-color: #FFFFFF;\n",
              "      --disabled-bg-color: #3B4455;\n",
              "      --disabled-fill-color: #666;\n",
              "  }\n",
              "\n",
              "  .colab-df-quickchart {\n",
              "    background-color: var(--bg-color);\n",
              "    border: none;\n",
              "    border-radius: 50%;\n",
              "    cursor: pointer;\n",
              "    display: none;\n",
              "    fill: var(--fill-color);\n",
              "    height: 32px;\n",
              "    padding: 0;\n",
              "    width: 32px;\n",
              "  }\n",
              "\n",
              "  .colab-df-quickchart:hover {\n",
              "    background-color: var(--hover-bg-color);\n",
              "    box-shadow: 0 1px 2px rgba(60, 64, 67, 0.3), 0 1px 3px 1px rgba(60, 64, 67, 0.15);\n",
              "    fill: var(--button-hover-fill-color);\n",
              "  }\n",
              "\n",
              "  .colab-df-quickchart-complete:disabled,\n",
              "  .colab-df-quickchart-complete:disabled:hover {\n",
              "    background-color: var(--disabled-bg-color);\n",
              "    fill: var(--disabled-fill-color);\n",
              "    box-shadow: none;\n",
              "  }\n",
              "\n",
              "  .colab-df-spinner {\n",
              "    border: 2px solid var(--fill-color);\n",
              "    border-color: transparent;\n",
              "    border-bottom-color: var(--fill-color);\n",
              "    animation:\n",
              "      spin 1s steps(1) infinite;\n",
              "  }\n",
              "\n",
              "  @keyframes spin {\n",
              "    0% {\n",
              "      border-color: transparent;\n",
              "      border-bottom-color: var(--fill-color);\n",
              "      border-left-color: var(--fill-color);\n",
              "    }\n",
              "    20% {\n",
              "      border-color: transparent;\n",
              "      border-left-color: var(--fill-color);\n",
              "      border-top-color: var(--fill-color);\n",
              "    }\n",
              "    30% {\n",
              "      border-color: transparent;\n",
              "      border-left-color: var(--fill-color);\n",
              "      border-top-color: var(--fill-color);\n",
              "      border-right-color: var(--fill-color);\n",
              "    }\n",
              "    40% {\n",
              "      border-color: transparent;\n",
              "      border-right-color: var(--fill-color);\n",
              "      border-top-color: var(--fill-color);\n",
              "    }\n",
              "    60% {\n",
              "      border-color: transparent;\n",
              "      border-right-color: var(--fill-color);\n",
              "    }\n",
              "    80% {\n",
              "      border-color: transparent;\n",
              "      border-right-color: var(--fill-color);\n",
              "      border-bottom-color: var(--fill-color);\n",
              "    }\n",
              "    90% {\n",
              "      border-color: transparent;\n",
              "      border-bottom-color: var(--fill-color);\n",
              "    }\n",
              "  }\n",
              "</style>\n",
              "\n",
              "      <script>\n",
              "        async function quickchart(key) {\n",
              "          const quickchartButtonEl =\n",
              "            document.querySelector('#' + key + ' button');\n",
              "          quickchartButtonEl.disabled = true;  // To prevent multiple clicks.\n",
              "          quickchartButtonEl.classList.add('colab-df-spinner');\n",
              "          try {\n",
              "            const charts = await google.colab.kernel.invokeFunction(\n",
              "                'suggestCharts', [key], {});\n",
              "          } catch (error) {\n",
              "            console.error('Error during call to suggestCharts:', error);\n",
              "          }\n",
              "          quickchartButtonEl.classList.remove('colab-df-spinner');\n",
              "          quickchartButtonEl.classList.add('colab-df-quickchart-complete');\n",
              "        }\n",
              "        (() => {\n",
              "          let quickchartButtonEl =\n",
              "            document.querySelector('#df-13daa9ae-bec3-4f51-966a-5e2062c6ebba button');\n",
              "          quickchartButtonEl.style.display =\n",
              "            google.colab.kernel.accessAllowed ? 'block' : 'none';\n",
              "        })();\n",
              "      </script>\n",
              "    </div>\n",
              "\n",
              "  <div id=\"id_b88e57dd-0ce9-411c-b6c2-832b0334820d\">\n",
              "    <style>\n",
              "      .colab-df-generate {\n",
              "        background-color: #E8F0FE;\n",
              "        border: none;\n",
              "        border-radius: 50%;\n",
              "        cursor: pointer;\n",
              "        display: none;\n",
              "        fill: #1967D2;\n",
              "        height: 32px;\n",
              "        padding: 0 0 0 0;\n",
              "        width: 32px;\n",
              "      }\n",
              "\n",
              "      .colab-df-generate:hover {\n",
              "        background-color: #E2EBFA;\n",
              "        box-shadow: 0px 1px 2px rgba(60, 64, 67, 0.3), 0px 1px 3px 1px rgba(60, 64, 67, 0.15);\n",
              "        fill: #174EA6;\n",
              "      }\n",
              "\n",
              "      [theme=dark] .colab-df-generate {\n",
              "        background-color: #3B4455;\n",
              "        fill: #D2E3FC;\n",
              "      }\n",
              "\n",
              "      [theme=dark] .colab-df-generate:hover {\n",
              "        background-color: #434B5C;\n",
              "        box-shadow: 0px 1px 3px 1px rgba(0, 0, 0, 0.15);\n",
              "        filter: drop-shadow(0px 1px 2px rgba(0, 0, 0, 0.3));\n",
              "        fill: #FFFFFF;\n",
              "      }\n",
              "    </style>\n",
              "    <button class=\"colab-df-generate\" onclick=\"generateWithVariable('results_df_pelican')\"\n",
              "            title=\"Generate code using this dataframe.\"\n",
              "            style=\"display:none;\">\n",
              "\n",
              "  <svg xmlns=\"http://www.w3.org/2000/svg\" height=\"24px\"viewBox=\"0 0 24 24\"\n",
              "       width=\"24px\">\n",
              "    <path d=\"M7,19H8.4L18.45,9,17,7.55,7,17.6ZM5,21V16.75L18.45,3.32a2,2,0,0,1,2.83,0l1.4,1.43a1.91,1.91,0,0,1,.58,1.4,1.91,1.91,0,0,1-.58,1.4L9.25,21ZM18.45,9,17,7.55Zm-12,3A5.31,5.31,0,0,0,4.9,8.1,5.31,5.31,0,0,0,1,6.5,5.31,5.31,0,0,0,4.9,4.9,5.31,5.31,0,0,0,6.5,1,5.31,5.31,0,0,0,8.1,4.9,5.31,5.31,0,0,0,12,6.5,5.46,5.46,0,0,0,6.5,12Z\"/>\n",
              "  </svg>\n",
              "    </button>\n",
              "    <script>\n",
              "      (() => {\n",
              "      const buttonEl =\n",
              "        document.querySelector('#id_b88e57dd-0ce9-411c-b6c2-832b0334820d button.colab-df-generate');\n",
              "      buttonEl.style.display =\n",
              "        google.colab.kernel.accessAllowed ? 'block' : 'none';\n",
              "\n",
              "      buttonEl.onclick = () => {\n",
              "        google.colab.notebook.generateWithVariable('results_df_pelican');\n",
              "      }\n",
              "      })();\n",
              "    </script>\n",
              "  </div>\n",
              "\n",
              "    </div>\n",
              "  </div>\n"
            ],
            "application/vnd.google.colaboratory.intrinsic+json": {
              "type": "dataframe",
              "variable_name": "results_df_pelican",
              "summary": "{\n  \"name\": \"results_df_pelican\",\n  \"rows\": 3,\n  \"fields\": [\n    {\n      \"column\": \"accuracy\",\n      \"properties\": {\n        \"dtype\": \"number\",\n        \"std\": 0.2525907427704613,\n        \"min\": 0.5,\n        \"max\": 0.9375,\n        \"num_unique_values\": 2,\n        \"samples\": [\n          0.9375,\n          0.5\n        ],\n        \"semantic_type\": \"\",\n        \"description\": \"\"\n      }\n    },\n    {\n      \"column\": \"roc_auc\",\n      \"properties\": {\n        \"dtype\": \"number\",\n        \"std\": 0.2707115912276385,\n        \"min\": 0.5,\n        \"max\": 0.9962500000000001,\n        \"num_unique_values\": 3,\n        \"samples\": [\n          0.5,\n          0.9962500000000001\n        ],\n        \"semantic_type\": \"\",\n        \"description\": \"\"\n      }\n    }\n  ]\n}"
            }
          },
          "metadata": {}
        }
      ]
    },
    {
      "cell_type": "markdown",
      "source": [
        "## Porównanie wag neuronów dla modelu zbudowanego na wszystkich neuronach."
      ],
      "metadata": {
        "id": "Hfu-lwqA8Qym"
      }
    },
    {
      "cell_type": "code",
      "source": [
        "top_weights = clf_full.coef_[0].argsort()[::-1]\n",
        "\n",
        "# Wyświetl 10 neuronów z najwyższą wagą + ich nazwy\n",
        "print(\"Top 10 neuronów według wag modelu:\")\n",
        "for idx in top_weights[:10]:\n",
        "    # Znajdź nazwę konceptu\n",
        "    match = concept_df.loc[concept_df['neuron_index'] == idx, 'concept_name']\n",
        "    concept_name = match.values[0] if len(match) > 0 else \"brak nazwy\"\n",
        "\n",
        "    print(f\"Neuron {idx}, Waga: {clf_full.coef_[0][idx]:.4f}, Koncept: {concept_name}\")"
      ],
      "metadata": {
        "colab": {
          "base_uri": "https://localhost:8080/"
        },
        "id": "NzcAiFE-z4i_",
        "outputId": "7adbba09-b808-48ba-ee14-64ba6362d3b0"
      },
      "execution_count": 120,
      "outputs": [
        {
          "output_type": "stream",
          "name": "stdout",
          "text": [
            "Top 10 neuronów według wag modelu:\n",
            "Neuron 937, Waga: 2.4446, Koncept: pd\n",
            "Neuron 2291, Waga: 1.0192, Koncept: spiderman\n",
            "Neuron 2836, Waga: 0.9608, Koncept: bloodhound\n",
            "Neuron 307, Waga: 0.9474, Koncept: florida\n",
            "Neuron 3318, Waga: 0.7292, Koncept: beach\n",
            "Neuron 962, Waga: 0.7217, Koncept: joanna\n",
            "Neuron 352, Waga: 0.2308, Koncept: canoeing\n",
            "Neuron 111, Waga: 0.1315, Koncept: birds\n",
            "Neuron 1903, Waga: 0.1313, Koncept: park\n",
            "Neuron 2041, Waga: 0.0000, Koncept: tulip\n"
          ]
        }
      ]
    },
    {
      "cell_type": "code",
      "source": [
        "print(\"\\nBottom 10 neuronów według wag modelu:\")\n",
        "for idx in top_weights[-10:]:\n",
        "    match = concept_df.loc[concept_df['neuron_index'] == idx, 'concept_name']\n",
        "    concept_name = match.values[0] if len(match) > 0 else \"brak nazwy\"\n",
        "\n",
        "    print(f\"Neuron {idx}, Waga: {clf_full.coef_[0][idx]:.4f}, Koncept: {concept_name}\")\n"
      ],
      "metadata": {
        "id": "2FQDIVqGi4KH",
        "colab": {
          "base_uri": "https://localhost:8080/"
        },
        "outputId": "95e7c3aa-55a3-4b6f-e4ca-db2405a3a338"
      },
      "execution_count": 121,
      "outputs": [
        {
          "output_type": "stream",
          "name": "stdout",
          "text": [
            "\n",
            "Bottom 10 neuronów według wag modelu:\n",
            "Neuron 6111, Waga: -0.4781, Koncept: juvenile\n",
            "Neuron 3307, Waga: -0.5115, Koncept: insects\n",
            "Neuron 2557, Waga: -0.5325, Koncept: grenadines\n",
            "Neuron 2766, Waga: -0.5697, Koncept: underwater\n",
            "Neuron 316, Waga: -0.6166, Koncept: dvd\n",
            "Neuron 4894, Waga: -0.6289, Koncept: flowers\n",
            "Neuron 4900, Waga: -0.7371, Koncept: halloween\n",
            "Neuron 1416, Waga: -0.8020, Koncept: backpacking\n",
            "Neuron 548, Waga: -0.8632, Koncept: turtles\n",
            "Neuron 5685, Waga: -1.6309, Koncept: hare\n"
          ]
        }
      ]
    },
    {
      "cell_type": "code",
      "source": [
        "# 3. Wypisz wagę neuronu klasy\n",
        "weight_pelikan = clf_full.coef_[0][pelican_neuron]\n",
        "pelican_name_match = concept_df.loc[concept_df['neuron_index'] == pelican_neuron, 'concept_name']\n",
        "pelican_concept_name = pelican_name_match.values[0] if len(pelican_name_match) > 0 else \"brak nazwy\"\n",
        "\n",
        "print(f\"Neuron przypisany do klasy 'pelican': {pelican_neuron}\")\n",
        "print(f\"  → Waga w modelu: {weight_pelikan:.4f}\")\n",
        "print(f\"  → Nazwa konceptu: {pelican_concept_name}\")\n",
        "\n",
        "# 4. Znajdź neuron o najwyższej wadze\n",
        "top_idx = np.argmax(clf_full.coef_[0])\n",
        "top_weight = clf_full.coef_[0][top_idx]\n",
        "top_name_match = concept_df.loc[concept_df['neuron_index'] == top_idx, 'concept_name']\n",
        "top_concept_name = top_name_match.values[0] if len(top_name_match) > 0 else \"brak nazwy\"\n",
        "\n",
        "print(f\"\\nNeuron z największą wagą:\")\n",
        "print(f\"  → Neuron: {top_idx}\")\n",
        "print(f\"  → Waga: {top_weight:.4f}\")\n",
        "print(f\"  → Nazwa konceptu: {top_concept_name}\")"
      ],
      "metadata": {
        "id": "JEZ8FM9HjzYe",
        "colab": {
          "base_uri": "https://localhost:8080/"
        },
        "outputId": "efffe059-989f-4663-d183-6ca7b1cc9fe1"
      },
      "execution_count": 122,
      "outputs": [
        {
          "output_type": "stream",
          "name": "stdout",
          "text": [
            "Neuron przypisany do klasy 'pelican': 1085\n",
            "  → Waga w modelu: 0.0000\n",
            "  → Nazwa konceptu: pelican\n",
            "\n",
            "Neuron z największą wagą:\n",
            "  → Neuron: 937\n",
            "  → Waga: 2.4446\n",
            "  → Nazwa konceptu: pd\n"
          ]
        }
      ]
    },
    {
      "cell_type": "markdown",
      "source": [
        "## Porównanie wag neuronów dla modelu zbudowanego na neuronach z najwyższą sumą dla zdjęc z pelikanami."
      ],
      "metadata": {
        "id": "zuWSGCbd8qNf"
      }
    },
    {
      "cell_type": "code",
      "source": [
        "top_weights = clf_top.coef_[0].argsort()[::-1]\n",
        "\n",
        "# Wyświetl 10 neuronów z najwyższą wagą + ich nazwy\n",
        "print(\"Wszystkie neurony według wag modelu:\")\n",
        "for local_idx in top_weights:\n",
        "    global_idx = top_neurons[local_idx]  # oryginalny indeks neuronu\n",
        "    match = concept_df.loc[concept_df['neuron_index'] == global_idx, 'concept_name']\n",
        "    concept_name = match.values[0] if len(match) > 0 else \"brak nazwy\"\n",
        "\n",
        "    print(f\"Neuron (w concept names): {global_idx}, Neuron w tym modelu: {local_idx}, Waga: {clf_top.coef_[0][local_idx]:.4f}, Koncept: {concept_name}\")"
      ],
      "metadata": {
        "colab": {
          "base_uri": "https://localhost:8080/"
        },
        "id": "-bHjqv2I8xEG",
        "outputId": "cc61d89b-6a34-43e0-f833-c83b0bb03df1"
      },
      "execution_count": 123,
      "outputs": [
        {
          "output_type": "stream",
          "name": "stdout",
          "text": [
            "Wszystkie neurony według wag modelu:\n",
            "Neuron (w concept names): 352, Neuron w tym modelu: 3, Waga: 1.6925, Koncept: canoeing\n",
            "Neuron (w concept names): 3318, Neuron w tym modelu: 4, Waga: 1.6772, Koncept: beach\n",
            "Neuron (w concept names): 111, Neuron w tym modelu: 0, Waga: 1.4003, Koncept: birds\n",
            "Neuron (w concept names): 1019, Neuron w tym modelu: 1, Waga: 0.8460, Koncept: wildlife\n",
            "Neuron (w concept names): 3986, Neuron w tym modelu: 2, Waga: -0.0586, Koncept: pic\n"
          ]
        }
      ]
    },
    {
      "cell_type": "markdown",
      "source": [
        "## Modele dla zbioru flamingów."
      ],
      "metadata": {
        "id": "cRIPLqJk0LVu"
      }
    },
    {
      "cell_type": "markdown",
      "source": [
        "Podział danych na testowe i treningowe."
      ],
      "metadata": {
        "id": "YYMVplkN9S8_"
      }
    },
    {
      "cell_type": "code",
      "source": [
        "# Podział danych\n",
        "X_train, X_test, y_train, y_test = train_test_split(X_flamingo, y_flamingo, test_size=0.2, stratify=y_flamingo, random_state=42)\n",
        "\n",
        "# neuron dla \"flamingo\"\n",
        "flamingo_neuron = 2347\n"
      ],
      "metadata": {
        "id": "NGlsXWRk9oDq"
      },
      "execution_count": 67,
      "outputs": []
    },
    {
      "cell_type": "markdown",
      "source": [
        "Sprawdźmy wartości dla neuronu, który w teorii powinien odpowiadać za koncept flaminga."
      ],
      "metadata": {
        "id": "uWDLYq2P9gzi"
      }
    },
    {
      "cell_type": "code",
      "source": [
        "X_train[y_train == 1, 2347]"
      ],
      "metadata": {
        "colab": {
          "base_uri": "https://localhost:8080/"
        },
        "id": "Zo4-alGbV3Im",
        "outputId": "5a359f24-c573-4623-cf1f-4a30bb17963d"
      },
      "execution_count": 68,
      "outputs": [
        {
          "output_type": "execute_result",
          "data": {
            "text/plain": [
              "tensor([0., 0., 0., 0., 0., 0., 0., 0., 0., 0., 0., 0., 0., 0., 0., 0., 0., 0., 0., 0., 0., 0., 0., 0.,\n",
              "        0., 0., 0., 0., 0., 0., 0., 0., 0., 0., 0., 0., 0., 0., 0., 0., 0., 0., 0., 0., 0., 0., 0., 0.,\n",
              "        0., 0., 0., 0., 0., 0., 0., 0., 0., 0., 0., 0., 0., 0., 0., 0., 0., 0., 0., 0., 0., 0., 0., 0.,\n",
              "        0., 0., 0., 0., 0., 0., 0., 0., 0., 0., 0., 0., 0., 0., 0., 0., 0., 0., 0., 0., 0., 0., 0., 0.,\n",
              "        0., 0., 0., 0., 0., 0., 0., 0., 0., 0., 0., 0., 0., 0., 0., 0., 0., 0., 0., 0., 0., 0., 0., 0.,\n",
              "        0., 0., 0., 0., 0., 0., 0., 0., 0., 0., 0., 0., 0., 0., 0., 0., 0., 0., 0., 0., 0., 0., 0., 0.,\n",
              "        0., 0., 0., 0., 0., 0., 0., 0., 0., 0., 0., 0., 0., 0., 0., 0.])"
            ]
          },
          "metadata": {},
          "execution_count": 68
        }
      ]
    },
    {
      "cell_type": "code",
      "source": [
        "X_train[y_train == 0, 2347]"
      ],
      "metadata": {
        "colab": {
          "base_uri": "https://localhost:8080/"
        },
        "outputId": "df657834-5af5-4b90-9462-35d6b88a576d",
        "id": "hqtvbXt892EV"
      },
      "execution_count": 69,
      "outputs": [
        {
          "output_type": "execute_result",
          "data": {
            "text/plain": [
              "tensor([0., 0., 0., 0., 0., 0., 0., 0., 0., 0., 0., 0., 0., 0., 0., 0., 0., 0., 0., 0., 0., 0., 0., 0.,\n",
              "        0., 0., 0., 0., 0., 0., 0., 0., 0., 0., 0., 0., 0., 0., 0., 0., 0., 0., 0., 0., 0., 0., 0., 0.,\n",
              "        0., 0., 0., 0., 0., 0., 0., 0., 0., 0., 0., 0., 0., 0., 0., 0., 0., 0., 0., 0., 0., 0., 0., 0.,\n",
              "        0., 0., 0., 0., 0., 0., 0., 0., 0., 0., 0., 0., 0., 0., 0., 0., 0., 0., 0., 0., 0., 0., 0., 0.,\n",
              "        0., 0., 0., 0., 0., 0., 0., 0., 0., 0., 0., 0., 0., 0., 0., 0., 0., 0., 0., 0., 0., 0., 0., 0.,\n",
              "        0., 0., 0., 0., 0., 0., 0., 0., 0., 0., 0., 0., 0., 0., 0., 0., 0., 0., 0., 0., 0., 0., 0., 0.,\n",
              "        0., 0., 0., 0., 0., 0., 0., 0., 0., 0., 0., 0., 0., 0., 0., 0.])"
            ]
          },
          "metadata": {},
          "execution_count": 69
        }
      ]
    },
    {
      "cell_type": "markdown",
      "source": [
        "Znowu same zera, poszukajmy dla którego neuronu suma wartości dla zdjęć z flamingiem jest największa."
      ],
      "metadata": {
        "id": "JZLPMapQ93cK"
      }
    },
    {
      "cell_type": "code",
      "source": [
        "# Sumy aktywacji po kolumnach (neurony) tylko dla przykładów z y=1\n",
        "sums_with = X_train[y_train == 1].sum(axis=0)\n",
        "\n",
        "# Sumy po kolumnach z przykaldow bez pelikanow\n",
        "sums_wo = X_train[y_train == 0].sum(axis=0)\n",
        "\n",
        "# Indeks neuronu o najwyższej sumie\n",
        "max_index = np.argmax(sums_with)\n",
        "max_index = int(np.argmax(sums_with))\n",
        "\n",
        "name_max_index = concept_df.loc[concept_df['neuron_index'] == max_index, 'concept_name'].values\n",
        "name_2347 = concept_df.loc[concept_df['neuron_index'] == 2347, 'concept_name'].values\n",
        "\n",
        "# Bezpieczne wypisanie (zabezpieczenie, gdyby brakowało w CSV)\n",
        "name_max_index = name_max_index[0] if len(name_max_index) > 0 else \"brak w pliku\"\n",
        "name_2347 = name_2347[0] if len(name_2347) > 0 else \"brak w pliku\"\n",
        "\n",
        "# Wypisanie informacji\n",
        "print(f\"Neuron z najwyższą sumą aktywacji dla zdjęć z pelikanami: {max_index} ({name_max_index})\\n\")\n",
        "print(f\"Suma wartości tego neuronu dla zdjęć z pelikanami: {sums_with[max_index]}\")\n",
        "print(f\"Suma wartości tego neuronu dla zdjęć bez pelikanów: {sums_wo[max_index]}\\n\")\n",
        "print(f\"Neuron z konceptem pelikana wg autorów: 1085 ({name_2347})\\n\")\n",
        "print(f\"Suma wartości tego neuronu dla zdjęć z pelikanami: {sums_with[2347]}\")\n",
        "print(f\"Suma wartości tego neuronu dla zdjęć bez pelikanów: {sums_wo[2347]}\")\n"
      ],
      "metadata": {
        "id": "H8Eb8Qb3cdz4",
        "colab": {
          "base_uri": "https://localhost:8080/"
        },
        "outputId": "84a981b7-9495-4027-ac05-74f7c4845e16"
      },
      "execution_count": 70,
      "outputs": [
        {
          "output_type": "stream",
          "name": "stdout",
          "text": [
            "Neuron z najwyższą sumą aktywacji dla zdjęć z pelikanami: 111 (birds)\n",
            "\n",
            "Suma wartości tego neuronu dla zdjęć z pelikanami: 650.3216552734375\n",
            "Suma wartości tego neuronu dla zdjęć bez pelikanów: 343.5186462402344\n",
            "\n",
            "Neuron z konceptem pelikana wg autorów: 1085 (flamingo)\n",
            "\n",
            "Suma wartości tego neuronu dla zdjęć z pelikanami: 0.0\n",
            "Suma wartości tego neuronu dla zdjęć bez pelikanów: 0.0\n"
          ]
        }
      ]
    },
    {
      "cell_type": "markdown",
      "source": [
        "Model liniowy na neuronie odpowiadającym za koncept flaminga:"
      ],
      "metadata": {
        "id": "O2xU7ntY-p7l"
      }
    },
    {
      "cell_type": "code",
      "source": [
        "# Model na pojedynczym neuronie\n",
        "X_train_single = X_train[:, flamingo_neuron].reshape(-1, 1)\n",
        "X_test_single = X_test[:, flamingo_neuron].reshape(-1, 1)\n",
        "clf_single = LogisticRegression().fit(X_train_single, y_train)\n",
        "preds_single = clf_single.predict(X_test_single)\n",
        "acc_single = accuracy_score(y_test, preds_single)\n",
        "roc_single = roc_auc_score(y_test, clf_single.predict_proba(X_test_single)[:, 1])\n"
      ],
      "metadata": {
        "id": "mPYKwltGWP0x"
      },
      "execution_count": 71,
      "outputs": []
    },
    {
      "cell_type": "markdown",
      "source": [
        "Regresja logistyczna dla wszystkich neuronów:"
      ],
      "metadata": {
        "id": "jZy12HAz-zBD"
      }
    },
    {
      "cell_type": "code",
      "source": [
        "# Model na pełnym wektorze\n",
        "clf_full = LogisticRegression(penalty=\"l1\", solver=\"liblinear\", max_iter=1000).fit(X_train, y_train)\n",
        "preds_full = clf_full.predict(X_test)\n",
        "acc_full = accuracy_score(y_test, preds_full)\n",
        "roc_full = roc_auc_score(y_test, clf_full.predict_proba(X_test)[:, 1])"
      ],
      "metadata": {
        "id": "8QAHmVuz-s56"
      },
      "execution_count": 72,
      "outputs": []
    },
    {
      "cell_type": "markdown",
      "source": [
        "Model zbudowany na neuronach z największą sumą wartości dla zdjęć z danym konceptem (znajdźmy te neurony)."
      ],
      "metadata": {
        "id": "4m64a7w9--Vg"
      }
    },
    {
      "cell_type": "code",
      "source": [
        "# Suma wartości dla każdego neuronu tylko na danych z flamingami\n",
        "flam_sum = X_flamingo[y_flamingo == 1].sum(dim=0)\n",
        "# Neurony o największej sumie aktywacji\n",
        "top_k = torch.topk(flam_sum, k=5)\n",
        "top_neurons = top_k.indices.tolist()\n",
        "\n",
        "\n",
        "print(\"Top aktywne neurony (flaming):\", top_neurons)\n",
        "\n",
        "print(\"\\nNazwy konceptów dla top 5 neuronów:\")\n",
        "for idx in top_neurons:\n",
        "    row = concept_df.loc[concept_df[\"neuron_index\"] == idx]\n",
        "    name = row[\"concept_name\"].values[0] if not row.empty else \"brak w pliku\"\n",
        "    print(f\"Neuron {idx}: {name}\")\n"
      ],
      "metadata": {
        "colab": {
          "base_uri": "https://localhost:8080/"
        },
        "outputId": "e0559be5-b918-4a26-942e-8f9f62e5818c",
        "id": "VrxsnQWy_Fzo"
      },
      "execution_count": 83,
      "outputs": [
        {
          "output_type": "stream",
          "name": "stdout",
          "text": [
            "Top aktywne neurony (flaming): [111, 1019, 3986, 2842, 5108]\n",
            "\n",
            "Nazwy konceptów dla top 5 neuronów:\n",
            "Neuron 111: birds\n",
            "Neuron 1019: wildlife\n",
            "Neuron 3986: pic\n",
            "Neuron 2842: pinkworld\n",
            "Neuron 5108: banner\n"
          ]
        }
      ]
    },
    {
      "cell_type": "code",
      "source": [
        "# Podział danych\n",
        "X_top = X_flamingo[:, top_neurons]\n",
        "X_train, X_test, y_train, y_test = train_test_split(X_top, y_flamingo, test_size=0.2, stratify=y_flamingo, random_state=42)\n",
        "\n",
        "# Trening modelu\n",
        "clf_top = LogisticRegression(max_iter=1000)\n",
        "clf_top.fit(X_train, y_train)\n",
        "preds = clf_top.predict(X_test)\n",
        "\n",
        "# Ocena\n",
        "acc_top = accuracy_score(y_test, preds)\n",
        "roc_top = roc_auc_score(y_test, clf_top.predict_proba(X_test)[:, 1])"
      ],
      "metadata": {
        "id": "3Y5llkFZ_dhB"
      },
      "execution_count": 74,
      "outputs": []
    },
    {
      "cell_type": "markdown",
      "source": [
        "## Wyniki dla zbioru flamingów:"
      ],
      "metadata": {
        "id": "clFBgD6Z_oj0"
      }
    },
    {
      "cell_type": "code",
      "source": [
        "results_flamingo = {\n",
        "    \"naming_neuron\": {\"accuracy\": acc_single, \"roc_auc\": roc_single},\n",
        "    \"logistic_regression_full\": {\"accuracy\": acc_full, \"roc_auc\": roc_full},\n",
        "    \"top_5_neurons\": {\"accuracy\": acc_top, \"roc_auc\": roc_top}\n",
        "}"
      ],
      "metadata": {
        "id": "umcr-gy5WQ3I"
      },
      "execution_count": 75,
      "outputs": []
    },
    {
      "cell_type": "code",
      "source": [
        "print(f\"Flamingo results: {results_flamingo}\")"
      ],
      "metadata": {
        "colab": {
          "base_uri": "https://localhost:8080/"
        },
        "id": "yRiCoBfGWYI-",
        "outputId": "fcaa07b1-be29-4190-d9d7-114a2c9307d3"
      },
      "execution_count": 76,
      "outputs": [
        {
          "output_type": "stream",
          "name": "stdout",
          "text": [
            "Flamingo results: {'naming_neuron': {'accuracy': 0.5, 'roc_auc': np.float64(0.5)}, 'logistic_regression_full': {'accuracy': 0.9875, 'roc_auc': np.float64(0.9981249999999999)}, 'top_5_neurons': {'accuracy': 0.975, 'roc_auc': np.float64(0.9981249999999999)}}\n"
          ]
        }
      ]
    },
    {
      "cell_type": "code",
      "source": [
        "results_df_flamingo = pd.DataFrame.from_dict({\n",
        "    \"Neuron 1085 (flamingo)\": results_flamingo[\"naming_neuron\"],\n",
        "    \"Logistic Regression (full vector)\": results_flamingo[\"logistic_regression_full\"],\n",
        "    \"Top 5 Neurons\": results_flamingo[\"top_5_neurons\"]\n",
        "}, orient=\"index\")\n",
        "\n",
        "display(results_df_flamingo)"
      ],
      "metadata": {
        "colab": {
          "base_uri": "https://localhost:8080/",
          "height": 143
        },
        "id": "6n1OahcKACsy",
        "outputId": "27cc3537-f70b-420e-d14d-c7173d7db735"
      },
      "execution_count": 77,
      "outputs": [
        {
          "output_type": "display_data",
          "data": {
            "text/plain": [
              "                                   accuracy   roc_auc\n",
              "Neuron 1085 (flamingo)               0.5000  0.500000\n",
              "Logistic Regression (full vector)    0.9875  0.998125\n",
              "Top 5 Neurons                        0.9750  0.998125"
            ],
            "text/html": [
              "\n",
              "  <div id=\"df-002832b4-8ca1-4355-bbe4-5a34d2e99cda\" class=\"colab-df-container\">\n",
              "    <div>\n",
              "<style scoped>\n",
              "    .dataframe tbody tr th:only-of-type {\n",
              "        vertical-align: middle;\n",
              "    }\n",
              "\n",
              "    .dataframe tbody tr th {\n",
              "        vertical-align: top;\n",
              "    }\n",
              "\n",
              "    .dataframe thead th {\n",
              "        text-align: right;\n",
              "    }\n",
              "</style>\n",
              "<table border=\"1\" class=\"dataframe\">\n",
              "  <thead>\n",
              "    <tr style=\"text-align: right;\">\n",
              "      <th></th>\n",
              "      <th>accuracy</th>\n",
              "      <th>roc_auc</th>\n",
              "    </tr>\n",
              "  </thead>\n",
              "  <tbody>\n",
              "    <tr>\n",
              "      <th>Neuron 1085 (flamingo)</th>\n",
              "      <td>0.5000</td>\n",
              "      <td>0.500000</td>\n",
              "    </tr>\n",
              "    <tr>\n",
              "      <th>Logistic Regression (full vector)</th>\n",
              "      <td>0.9875</td>\n",
              "      <td>0.998125</td>\n",
              "    </tr>\n",
              "    <tr>\n",
              "      <th>Top 5 Neurons</th>\n",
              "      <td>0.9750</td>\n",
              "      <td>0.998125</td>\n",
              "    </tr>\n",
              "  </tbody>\n",
              "</table>\n",
              "</div>\n",
              "    <div class=\"colab-df-buttons\">\n",
              "\n",
              "  <div class=\"colab-df-container\">\n",
              "    <button class=\"colab-df-convert\" onclick=\"convertToInteractive('df-002832b4-8ca1-4355-bbe4-5a34d2e99cda')\"\n",
              "            title=\"Convert this dataframe to an interactive table.\"\n",
              "            style=\"display:none;\">\n",
              "\n",
              "  <svg xmlns=\"http://www.w3.org/2000/svg\" height=\"24px\" viewBox=\"0 -960 960 960\">\n",
              "    <path d=\"M120-120v-720h720v720H120Zm60-500h600v-160H180v160Zm220 220h160v-160H400v160Zm0 220h160v-160H400v160ZM180-400h160v-160H180v160Zm440 0h160v-160H620v160ZM180-180h160v-160H180v160Zm440 0h160v-160H620v160Z\"/>\n",
              "  </svg>\n",
              "    </button>\n",
              "\n",
              "  <style>\n",
              "    .colab-df-container {\n",
              "      display:flex;\n",
              "      gap: 12px;\n",
              "    }\n",
              "\n",
              "    .colab-df-convert {\n",
              "      background-color: #E8F0FE;\n",
              "      border: none;\n",
              "      border-radius: 50%;\n",
              "      cursor: pointer;\n",
              "      display: none;\n",
              "      fill: #1967D2;\n",
              "      height: 32px;\n",
              "      padding: 0 0 0 0;\n",
              "      width: 32px;\n",
              "    }\n",
              "\n",
              "    .colab-df-convert:hover {\n",
              "      background-color: #E2EBFA;\n",
              "      box-shadow: 0px 1px 2px rgba(60, 64, 67, 0.3), 0px 1px 3px 1px rgba(60, 64, 67, 0.15);\n",
              "      fill: #174EA6;\n",
              "    }\n",
              "\n",
              "    .colab-df-buttons div {\n",
              "      margin-bottom: 4px;\n",
              "    }\n",
              "\n",
              "    [theme=dark] .colab-df-convert {\n",
              "      background-color: #3B4455;\n",
              "      fill: #D2E3FC;\n",
              "    }\n",
              "\n",
              "    [theme=dark] .colab-df-convert:hover {\n",
              "      background-color: #434B5C;\n",
              "      box-shadow: 0px 1px 3px 1px rgba(0, 0, 0, 0.15);\n",
              "      filter: drop-shadow(0px 1px 2px rgba(0, 0, 0, 0.3));\n",
              "      fill: #FFFFFF;\n",
              "    }\n",
              "  </style>\n",
              "\n",
              "    <script>\n",
              "      const buttonEl =\n",
              "        document.querySelector('#df-002832b4-8ca1-4355-bbe4-5a34d2e99cda button.colab-df-convert');\n",
              "      buttonEl.style.display =\n",
              "        google.colab.kernel.accessAllowed ? 'block' : 'none';\n",
              "\n",
              "      async function convertToInteractive(key) {\n",
              "        const element = document.querySelector('#df-002832b4-8ca1-4355-bbe4-5a34d2e99cda');\n",
              "        const dataTable =\n",
              "          await google.colab.kernel.invokeFunction('convertToInteractive',\n",
              "                                                    [key], {});\n",
              "        if (!dataTable) return;\n",
              "\n",
              "        const docLinkHtml = 'Like what you see? Visit the ' +\n",
              "          '<a target=\"_blank\" href=https://colab.research.google.com/notebooks/data_table.ipynb>data table notebook</a>'\n",
              "          + ' to learn more about interactive tables.';\n",
              "        element.innerHTML = '';\n",
              "        dataTable['output_type'] = 'display_data';\n",
              "        await google.colab.output.renderOutput(dataTable, element);\n",
              "        const docLink = document.createElement('div');\n",
              "        docLink.innerHTML = docLinkHtml;\n",
              "        element.appendChild(docLink);\n",
              "      }\n",
              "    </script>\n",
              "  </div>\n",
              "\n",
              "\n",
              "    <div id=\"df-3897f70e-801e-4068-b85e-53ebce817a92\">\n",
              "      <button class=\"colab-df-quickchart\" onclick=\"quickchart('df-3897f70e-801e-4068-b85e-53ebce817a92')\"\n",
              "                title=\"Suggest charts\"\n",
              "                style=\"display:none;\">\n",
              "\n",
              "<svg xmlns=\"http://www.w3.org/2000/svg\" height=\"24px\"viewBox=\"0 0 24 24\"\n",
              "     width=\"24px\">\n",
              "    <g>\n",
              "        <path d=\"M19 3H5c-1.1 0-2 .9-2 2v14c0 1.1.9 2 2 2h14c1.1 0 2-.9 2-2V5c0-1.1-.9-2-2-2zM9 17H7v-7h2v7zm4 0h-2V7h2v10zm4 0h-2v-4h2v4z\"/>\n",
              "    </g>\n",
              "</svg>\n",
              "      </button>\n",
              "\n",
              "<style>\n",
              "  .colab-df-quickchart {\n",
              "      --bg-color: #E8F0FE;\n",
              "      --fill-color: #1967D2;\n",
              "      --hover-bg-color: #E2EBFA;\n",
              "      --hover-fill-color: #174EA6;\n",
              "      --disabled-fill-color: #AAA;\n",
              "      --disabled-bg-color: #DDD;\n",
              "  }\n",
              "\n",
              "  [theme=dark] .colab-df-quickchart {\n",
              "      --bg-color: #3B4455;\n",
              "      --fill-color: #D2E3FC;\n",
              "      --hover-bg-color: #434B5C;\n",
              "      --hover-fill-color: #FFFFFF;\n",
              "      --disabled-bg-color: #3B4455;\n",
              "      --disabled-fill-color: #666;\n",
              "  }\n",
              "\n",
              "  .colab-df-quickchart {\n",
              "    background-color: var(--bg-color);\n",
              "    border: none;\n",
              "    border-radius: 50%;\n",
              "    cursor: pointer;\n",
              "    display: none;\n",
              "    fill: var(--fill-color);\n",
              "    height: 32px;\n",
              "    padding: 0;\n",
              "    width: 32px;\n",
              "  }\n",
              "\n",
              "  .colab-df-quickchart:hover {\n",
              "    background-color: var(--hover-bg-color);\n",
              "    box-shadow: 0 1px 2px rgba(60, 64, 67, 0.3), 0 1px 3px 1px rgba(60, 64, 67, 0.15);\n",
              "    fill: var(--button-hover-fill-color);\n",
              "  }\n",
              "\n",
              "  .colab-df-quickchart-complete:disabled,\n",
              "  .colab-df-quickchart-complete:disabled:hover {\n",
              "    background-color: var(--disabled-bg-color);\n",
              "    fill: var(--disabled-fill-color);\n",
              "    box-shadow: none;\n",
              "  }\n",
              "\n",
              "  .colab-df-spinner {\n",
              "    border: 2px solid var(--fill-color);\n",
              "    border-color: transparent;\n",
              "    border-bottom-color: var(--fill-color);\n",
              "    animation:\n",
              "      spin 1s steps(1) infinite;\n",
              "  }\n",
              "\n",
              "  @keyframes spin {\n",
              "    0% {\n",
              "      border-color: transparent;\n",
              "      border-bottom-color: var(--fill-color);\n",
              "      border-left-color: var(--fill-color);\n",
              "    }\n",
              "    20% {\n",
              "      border-color: transparent;\n",
              "      border-left-color: var(--fill-color);\n",
              "      border-top-color: var(--fill-color);\n",
              "    }\n",
              "    30% {\n",
              "      border-color: transparent;\n",
              "      border-left-color: var(--fill-color);\n",
              "      border-top-color: var(--fill-color);\n",
              "      border-right-color: var(--fill-color);\n",
              "    }\n",
              "    40% {\n",
              "      border-color: transparent;\n",
              "      border-right-color: var(--fill-color);\n",
              "      border-top-color: var(--fill-color);\n",
              "    }\n",
              "    60% {\n",
              "      border-color: transparent;\n",
              "      border-right-color: var(--fill-color);\n",
              "    }\n",
              "    80% {\n",
              "      border-color: transparent;\n",
              "      border-right-color: var(--fill-color);\n",
              "      border-bottom-color: var(--fill-color);\n",
              "    }\n",
              "    90% {\n",
              "      border-color: transparent;\n",
              "      border-bottom-color: var(--fill-color);\n",
              "    }\n",
              "  }\n",
              "</style>\n",
              "\n",
              "      <script>\n",
              "        async function quickchart(key) {\n",
              "          const quickchartButtonEl =\n",
              "            document.querySelector('#' + key + ' button');\n",
              "          quickchartButtonEl.disabled = true;  // To prevent multiple clicks.\n",
              "          quickchartButtonEl.classList.add('colab-df-spinner');\n",
              "          try {\n",
              "            const charts = await google.colab.kernel.invokeFunction(\n",
              "                'suggestCharts', [key], {});\n",
              "          } catch (error) {\n",
              "            console.error('Error during call to suggestCharts:', error);\n",
              "          }\n",
              "          quickchartButtonEl.classList.remove('colab-df-spinner');\n",
              "          quickchartButtonEl.classList.add('colab-df-quickchart-complete');\n",
              "        }\n",
              "        (() => {\n",
              "          let quickchartButtonEl =\n",
              "            document.querySelector('#df-3897f70e-801e-4068-b85e-53ebce817a92 button');\n",
              "          quickchartButtonEl.style.display =\n",
              "            google.colab.kernel.accessAllowed ? 'block' : 'none';\n",
              "        })();\n",
              "      </script>\n",
              "    </div>\n",
              "\n",
              "  <div id=\"id_a7bafdea-ef73-49fd-a018-d0755cbc6f32\">\n",
              "    <style>\n",
              "      .colab-df-generate {\n",
              "        background-color: #E8F0FE;\n",
              "        border: none;\n",
              "        border-radius: 50%;\n",
              "        cursor: pointer;\n",
              "        display: none;\n",
              "        fill: #1967D2;\n",
              "        height: 32px;\n",
              "        padding: 0 0 0 0;\n",
              "        width: 32px;\n",
              "      }\n",
              "\n",
              "      .colab-df-generate:hover {\n",
              "        background-color: #E2EBFA;\n",
              "        box-shadow: 0px 1px 2px rgba(60, 64, 67, 0.3), 0px 1px 3px 1px rgba(60, 64, 67, 0.15);\n",
              "        fill: #174EA6;\n",
              "      }\n",
              "\n",
              "      [theme=dark] .colab-df-generate {\n",
              "        background-color: #3B4455;\n",
              "        fill: #D2E3FC;\n",
              "      }\n",
              "\n",
              "      [theme=dark] .colab-df-generate:hover {\n",
              "        background-color: #434B5C;\n",
              "        box-shadow: 0px 1px 3px 1px rgba(0, 0, 0, 0.15);\n",
              "        filter: drop-shadow(0px 1px 2px rgba(0, 0, 0, 0.3));\n",
              "        fill: #FFFFFF;\n",
              "      }\n",
              "    </style>\n",
              "    <button class=\"colab-df-generate\" onclick=\"generateWithVariable('results_df_flamingo')\"\n",
              "            title=\"Generate code using this dataframe.\"\n",
              "            style=\"display:none;\">\n",
              "\n",
              "  <svg xmlns=\"http://www.w3.org/2000/svg\" height=\"24px\"viewBox=\"0 0 24 24\"\n",
              "       width=\"24px\">\n",
              "    <path d=\"M7,19H8.4L18.45,9,17,7.55,7,17.6ZM5,21V16.75L18.45,3.32a2,2,0,0,1,2.83,0l1.4,1.43a1.91,1.91,0,0,1,.58,1.4,1.91,1.91,0,0,1-.58,1.4L9.25,21ZM18.45,9,17,7.55Zm-12,3A5.31,5.31,0,0,0,4.9,8.1,5.31,5.31,0,0,0,1,6.5,5.31,5.31,0,0,0,4.9,4.9,5.31,5.31,0,0,0,6.5,1,5.31,5.31,0,0,0,8.1,4.9,5.31,5.31,0,0,0,12,6.5,5.46,5.46,0,0,0,6.5,12Z\"/>\n",
              "  </svg>\n",
              "    </button>\n",
              "    <script>\n",
              "      (() => {\n",
              "      const buttonEl =\n",
              "        document.querySelector('#id_a7bafdea-ef73-49fd-a018-d0755cbc6f32 button.colab-df-generate');\n",
              "      buttonEl.style.display =\n",
              "        google.colab.kernel.accessAllowed ? 'block' : 'none';\n",
              "\n",
              "      buttonEl.onclick = () => {\n",
              "        google.colab.notebook.generateWithVariable('results_df_flamingo');\n",
              "      }\n",
              "      })();\n",
              "    </script>\n",
              "  </div>\n",
              "\n",
              "    </div>\n",
              "  </div>\n"
            ],
            "application/vnd.google.colaboratory.intrinsic+json": {
              "type": "dataframe",
              "variable_name": "results_df_flamingo",
              "summary": "{\n  \"name\": \"results_df_flamingo\",\n  \"rows\": 3,\n  \"fields\": [\n    {\n      \"column\": \"accuracy\",\n      \"properties\": {\n        \"dtype\": \"number\",\n        \"std\": 0.27792010242753823,\n        \"min\": 0.5,\n        \"max\": 0.9875,\n        \"num_unique_values\": 3,\n        \"samples\": [\n          0.5,\n          0.9875,\n          0.975\n        ],\n        \"semantic_type\": \"\",\n        \"description\": \"\"\n      }\n    },\n    {\n      \"column\": \"roc_auc\",\n      \"properties\": {\n        \"dtype\": \"number\",\n        \"std\": 0.2875926028400823,\n        \"min\": 0.5,\n        \"max\": 0.9981249999999999,\n        \"num_unique_values\": 2,\n        \"samples\": [\n          0.9981249999999999,\n          0.5\n        ],\n        \"semantic_type\": \"\",\n        \"description\": \"\"\n      }\n    }\n  ]\n}"
            }
          },
          "metadata": {}
        }
      ]
    },
    {
      "cell_type": "markdown",
      "source": [
        "## Porównanie wag neuronów dla modelu zbudowanego na wszystkich neuronach."
      ],
      "metadata": {
        "id": "AYcHH1zGCAA2"
      }
    },
    {
      "cell_type": "code",
      "source": [
        "top_weights = clf_full.coef_[0].argsort()[::-1]\n",
        "\n",
        "# Wyświetl 10 neuronów z najwyższą wagą + ich nazwy\n",
        "print(\"Top 10 neuronów według wag modelu:\")\n",
        "for idx in top_weights[:10]:\n",
        "    # Znajdź nazwę konceptu\n",
        "    match = concept_df.loc[concept_df['neuron_index'] == idx, 'concept_name']\n",
        "    concept_name = match.values[0] if len(match) > 0 else \"brak nazwy\"\n",
        "\n",
        "    print(f\"Neuron {idx}, Waga: {clf_full.coef_[0][idx]:.4f}, Koncept: {concept_name}\")"
      ],
      "metadata": {
        "id": "7BqEaD3Ai-9W",
        "colab": {
          "base_uri": "https://localhost:8080/"
        },
        "outputId": "f3962a9e-affa-41ba-d5ca-9e114f23e450"
      },
      "execution_count": 78,
      "outputs": [
        {
          "output_type": "stream",
          "name": "stdout",
          "text": [
            "Top 10 neuronów według wag modelu:\n",
            "Neuron 2842, Waga: 3.0988, Koncept: pinkworld\n",
            "Neuron 1627, Waga: 0.8072, Koncept: refused\n",
            "Neuron 3809, Waga: 0.5213, Koncept: yellow\n",
            "Neuron 3196, Waga: 0.2257, Koncept: orange\n",
            "Neuron 2033, Waga: 0.0000, Koncept: parsing\n",
            "Neuron 2034, Waga: 0.0000, Koncept: attic\n",
            "Neuron 2035, Waga: 0.0000, Koncept: frontgate\n",
            "Neuron 2036, Waga: 0.0000, Koncept: church\n",
            "Neuron 2037, Waga: 0.0000, Koncept: talented\n",
            "Neuron 2038, Waga: 0.0000, Koncept: kitten\n"
          ]
        }
      ]
    },
    {
      "cell_type": "code",
      "source": [
        "print(\"\\nBottom 10 neuronów według wag modelu:\")\n",
        "for idx in top_weights[-10:]:\n",
        "    match = concept_df.loc[concept_df['neuron_index'] == idx, 'concept_name']\n",
        "    concept_name = match.values[0] if len(match) > 0 else \"brak nazwy\"\n",
        "\n",
        "    print(f\"Neuron {idx}, Waga: {clf_full.coef_[0][idx]:.4f}, Koncept: {concept_name}\")"
      ],
      "metadata": {
        "id": "T8UV6hRmjOx7",
        "colab": {
          "base_uri": "https://localhost:8080/"
        },
        "outputId": "67884550-5987-4ee9-ddc7-82dc7cc57a87"
      },
      "execution_count": 79,
      "outputs": [
        {
          "output_type": "stream",
          "name": "stdout",
          "text": [
            "\n",
            "Bottom 10 neuronów według wag modelu:\n",
            "Neuron 111, Waga: -0.1556, Koncept: birds\n",
            "Neuron 6111, Waga: -0.3860, Koncept: juvenile\n",
            "Neuron 5978, Waga: -0.3882, Koncept: pixel\n",
            "Neuron 2072, Waga: -0.3884, Koncept: tasmania\n",
            "Neuron 3307, Waga: -0.5246, Koncept: insects\n",
            "Neuron 835, Waga: -0.5993, Koncept: butte\n",
            "Neuron 4324, Waga: -0.6969, Koncept: visitor\n",
            "Neuron 5499, Waga: -0.8694, Koncept: didrex\n",
            "Neuron 3576, Waga: -0.8824, Koncept: emergence\n",
            "Neuron 831, Waga: -1.2961, Koncept: fishes\n"
          ]
        }
      ]
    },
    {
      "cell_type": "code",
      "source": [
        "# Wypisz wagę neuronu klasy\n",
        "weight_flamingo = clf_full.coef_[0][flamingo_neuron]\n",
        "flamingo_name_match = concept_df.loc[concept_df['neuron_index'] == flamingo_neuron, 'concept_name']\n",
        "flamingo_concept_name = flamingo_name_match.values[0] if len(flamingo_name_match) > 0 else \"brak nazwy\"\n",
        "\n",
        "print(f\"Neuron przypisany do klasy 'flamingo': {flamingo_neuron}\")\n",
        "print(f\"  → Waga w modelu: {weight_flamingo:.4f}\")\n",
        "print(f\"  → Nazwa konceptu: {flamingo_concept_name}\")\n",
        "\n",
        "# Znajdź neuron o najwyższej wadze\n",
        "top_idx = np.argmax(clf_full.coef_[0])\n",
        "top_weight = clf_full.coef_[0][top_idx]\n",
        "top_name_match = concept_df.loc[concept_df['neuron_index'] == top_idx, 'concept_name']\n",
        "top_concept_name = top_name_match.values[0] if len(top_name_match) > 0 else \"brak nazwy\"\n",
        "\n",
        "print(f\"\\nNeuron z największą wagą:\")\n",
        "print(f\"  → Neuron: {top_idx}\")\n",
        "print(f\"  → Waga: {top_weight:.4f}\")\n",
        "print(f\"  → Nazwa konceptu: {top_concept_name}\")"
      ],
      "metadata": {
        "id": "9UkP7dl8kfEu",
        "colab": {
          "base_uri": "https://localhost:8080/"
        },
        "outputId": "bcdd85ec-e637-4e37-965f-a985f026ec31"
      },
      "execution_count": 80,
      "outputs": [
        {
          "output_type": "stream",
          "name": "stdout",
          "text": [
            "Neuron przypisany do klasy 'flamingo': 2347\n",
            "  → Waga w modelu: 0.0000\n",
            "  → Nazwa konceptu: flamingo\n",
            "\n",
            "Neuron z największą wagą:\n",
            "  → Neuron: 2842\n",
            "  → Waga: 3.0988\n",
            "  → Nazwa konceptu: pinkworld\n"
          ]
        }
      ]
    },
    {
      "cell_type": "markdown",
      "source": [
        "## Porównanie wag neuronów dla modelu zbudowanego na neuronach z najwyższą sumą dla zdjęc z pelikanami."
      ],
      "metadata": {
        "id": "XC0NPuBICTWK"
      }
    },
    {
      "cell_type": "code",
      "source": [
        "top_weights = clf_top.coef_[0].argsort()[::-1]\n",
        "\n",
        "# Wyświetl 10 neuronów z najwyższą wagą + ich nazwy\n",
        "print(\"Wszystkie neurony według wag modelu:\")\n",
        "for local_idx in top_weights:\n",
        "    global_idx = top_neurons[local_idx]  # oryginalny indeks neuronu\n",
        "    match = concept_df.loc[concept_df['neuron_index'] == global_idx, 'concept_name']\n",
        "    concept_name = match.values[0] if len(match) > 0 else \"brak nazwy\"\n",
        "\n",
        "    print(f\"Neuron (w concept names): {global_idx}, Neuron w tym modelu: {local_idx}, Waga: {clf_top.coef_[0][local_idx]:.4f}, Koncept: {concept_name}\")"
      ],
      "metadata": {
        "colab": {
          "base_uri": "https://localhost:8080/"
        },
        "outputId": "c71426ee-afba-49a0-b3f5-67aa2a2e85ce",
        "id": "g9C4FxpoCY81"
      },
      "execution_count": 82,
      "outputs": [
        {
          "output_type": "stream",
          "name": "stdout",
          "text": [
            "Wszystkie neurony według wag modelu:\n",
            "Neuron (w concept names): 2842, Neuron w tym modelu: 3, Waga: 3.3412, Koncept: pinkworld\n",
            "Neuron (w concept names): 1019, Neuron w tym modelu: 1, Waga: 0.6896, Koncept: wildlife\n",
            "Neuron (w concept names): 111, Neuron w tym modelu: 0, Waga: 0.5055, Koncept: birds\n",
            "Neuron (w concept names): 3986, Neuron w tym modelu: 2, Waga: 0.1954, Koncept: pic\n",
            "Neuron (w concept names): 5108, Neuron w tym modelu: 4, Waga: -0.1805, Koncept: banner\n"
          ]
        }
      ]
    },
    {
      "cell_type": "markdown",
      "source": [
        "## Modele dla zbioru gęsi."
      ],
      "metadata": {
        "id": "rwtp6f5DESIV"
      }
    },
    {
      "cell_type": "markdown",
      "source": [
        "Podział danych na testowe i treningowe."
      ],
      "metadata": {
        "id": "UsvvW7pjEbgZ"
      }
    },
    {
      "cell_type": "code",
      "source": [
        "# Podział danych\n",
        "X_train, X_test, y_train, y_test = train_test_split(X_goose, y_goose, test_size=0.2, stratify=y_goose, random_state=42)\n",
        "\n",
        "# neuron dla \"goose\"\n",
        "goose_neuron = 3426"
      ],
      "metadata": {
        "id": "js-95al3Ee6N"
      },
      "execution_count": 127,
      "outputs": []
    },
    {
      "cell_type": "markdown",
      "source": [
        "Sprawdźmy wartości dla neuronu, który w teorii powinien odpowiadać za koncept gęsi."
      ],
      "metadata": {
        "id": "mhKmh_m4EpId"
      }
    },
    {
      "cell_type": "code",
      "source": [
        "X_train[y_train == 1, goose_neuron]"
      ],
      "metadata": {
        "colab": {
          "base_uri": "https://localhost:8080/"
        },
        "id": "fvU-6tNVEw1T",
        "outputId": "def46f98-92e0-48db-a347-c6cd2edbdd79"
      },
      "execution_count": 128,
      "outputs": [
        {
          "output_type": "execute_result",
          "data": {
            "text/plain": [
              "tensor([0., 0., 0., 0., 0., 0., 0., 0., 0., 0., 0., 0., 0., 0., 0., 0., 0., 0., 0., 0., 0., 0., 0., 0.,\n",
              "        0., 0., 0., 0., 0., 0., 0., 0., 0., 0., 0., 0., 0., 0., 0., 0., 0., 0., 0., 0., 0., 0., 0., 0.,\n",
              "        0., 0., 0., 0., 0., 0., 0., 0., 0., 0., 0., 0., 0., 0., 0., 0., 0., 0., 0., 0., 0., 0., 0., 0.,\n",
              "        0., 0., 0., 0., 0., 0., 0., 0., 0., 0., 0., 0., 0., 0., 0., 0., 0., 0., 0., 0., 0., 0., 0., 0.,\n",
              "        0., 0., 0., 0., 0., 0., 0., 0., 0., 0., 0., 0., 0., 0., 0., 0., 0., 0., 0., 0., 0., 0., 0., 0.,\n",
              "        0., 0., 0., 0., 0., 0., 0., 0., 0., 0., 0., 0., 0., 0., 0., 0., 0., 0., 0., 0., 0., 0., 0., 0.,\n",
              "        0., 0., 0., 0., 0., 0., 0., 0., 0., 0., 0., 0., 0., 0., 0., 0.])"
            ]
          },
          "metadata": {},
          "execution_count": 128
        }
      ]
    },
    {
      "cell_type": "code",
      "source": [
        "X_train[y_train == 0, goose_neuron]"
      ],
      "metadata": {
        "colab": {
          "base_uri": "https://localhost:8080/"
        },
        "id": "MDq0gSVQEysY",
        "outputId": "19092b4c-d1cb-40cc-c23f-fe1c3a529a19"
      },
      "execution_count": 129,
      "outputs": [
        {
          "output_type": "execute_result",
          "data": {
            "text/plain": [
              "tensor([0., 0., 0., 0., 0., 0., 0., 0., 0., 0., 0., 0., 0., 0., 0., 0., 0., 0., 0., 0., 0., 0., 0., 0.,\n",
              "        0., 0., 0., 0., 0., 0., 0., 0., 0., 0., 0., 0., 0., 0., 0., 0., 0., 0., 0., 0., 0., 0., 0., 0.,\n",
              "        0., 0., 0., 0., 0., 0., 0., 0., 0., 0., 0., 0., 0., 0., 0., 0., 0., 0., 0., 0., 0., 0., 0., 0.,\n",
              "        0., 0., 0., 0., 0., 0., 0., 0., 0., 0., 0., 0., 0., 0., 0., 0., 0., 0., 0., 0., 0., 0., 0., 0.,\n",
              "        0., 0., 0., 0., 0., 0., 0., 0., 0., 0., 0., 0., 0., 0., 0., 0., 0., 0., 0., 0., 0., 0., 0., 0.,\n",
              "        0., 0., 0., 0., 0., 0., 0., 0., 0., 0., 0., 0., 0., 0., 0., 0., 0., 0., 0., 0., 0., 0., 0., 0.,\n",
              "        0., 0., 0., 0., 0., 0., 0., 0., 0., 0., 0., 0., 0., 0., 0., 0.])"
            ]
          },
          "metadata": {},
          "execution_count": 129
        }
      ]
    },
    {
      "cell_type": "markdown",
      "source": [
        "Dziwne, ale znowu same zera. Poszukajmy dla którego neuronu suma wartości dla zdjęć z gęsiami jest największa."
      ],
      "metadata": {
        "id": "fnIiDAl4E7Af"
      }
    },
    {
      "cell_type": "code",
      "source": [
        "# Sumy aktywacji po kolumnach (neurony) tylko dla przykładów z y=1\n",
        "sums_with = X_train[y_train == 1].sum(axis=0)\n",
        "sums_wo = X_train[y_train == 0].sum(axis=0)\n",
        "# Indeks neuronu o najwyższej sumie\n",
        "max_index = np.argmax(sums_with)\n",
        "max_index = int(np.argmax(sums_with))\n",
        "\n",
        "# Pobranie nazw konceptów\n",
        "name_max_index = concept_df.loc[concept_df['neuron_index'] == max_index, 'concept_name'].values\n",
        "name_3426 = concept_df.loc[concept_df['neuron_index'] == 3426, 'concept_name'].values\n",
        "\n",
        "# Bezpieczne wypisanie (zabezpieczenie, gdyby brakowało w CSV)\n",
        "name_max_index = name_max_index[0] if len(name_max_index) > 0 else \"brak w pliku\"\n",
        "name_3426 = name_3426[0] if len(name_3426) > 0 else \"brak w pliku\"\n",
        "\n",
        "# Wypisanie wyników\n",
        "print(f\"Neuron z najwyższą sumą aktywacji dla zdjęć z gęsiami: {max_index} ({name_max_index})\")\n",
        "print(f\"Suma wartości tego neuronu dla zdjęć z gęsiami: {sums_with[max_index]}\")\n",
        "print(f\"Suma wartości tego neuronu dla zdjęć bez gęsi: {sums_wo[max_index]}\\n\")\n",
        "\n",
        "print(f\"Neuron z konceptem gęsi wg autorów: 3426 ({name_3426})\")\n",
        "print(f\"Suma wartości tego neuronu dla zdjęć z gęsiami: {sums_with[3426]}\")\n",
        "print(f\"Suma wartości tego neuronu dla zdjęć bez gęsi: {sums_wo[3426]}\")\n"
      ],
      "metadata": {
        "id": "_8S2YLRccqqx",
        "colab": {
          "base_uri": "https://localhost:8080/"
        },
        "outputId": "672d2a8d-e15c-4375-a10c-d31c587649c3"
      },
      "execution_count": 131,
      "outputs": [
        {
          "output_type": "stream",
          "name": "stdout",
          "text": [
            "Neuron z najwyższą sumą aktywacji dla zdjęć z gęsiami: 111 (birds)\n",
            "Suma wartości tego neuronu dla zdjęć z gęsiami: 755.861083984375\n",
            "Suma wartości tego neuronu dla zdjęć bez gęsi: 295.38323974609375\n",
            "\n",
            "Neuron z konceptem gęsi wg autorów: 3426 (goose)\n",
            "Suma wartości tego neuronu dla zdjęć z gęsiami: 0.0\n",
            "Suma wartości tego neuronu dla zdjęć bez gęsi: 0.0\n"
          ]
        }
      ]
    },
    {
      "cell_type": "markdown",
      "source": [
        "Znowu ptaki, czego można było się spodziewać."
      ],
      "metadata": {
        "id": "CfeydAaRFR7x"
      }
    },
    {
      "cell_type": "markdown",
      "source": [
        "Model liniowy na neuronie odpowiadającym za koncept gęsi:"
      ],
      "metadata": {
        "id": "vr6VQ0BjFdDf"
      }
    },
    {
      "cell_type": "code",
      "source": [
        "# Model na pojedynczym neuronie\n",
        "X_train_single = X_train[:, goose_neuron].reshape(-1, 1)\n",
        "X_test_single = X_test[:, goose_neuron].reshape(-1, 1)\n",
        "clf_single = LogisticRegression().fit(X_train_single, y_train)\n",
        "preds_single = clf_single.predict(X_test_single)\n",
        "acc_single = accuracy_score(y_test, preds_single)\n",
        "roc_single = roc_auc_score(y_test, clf_single.predict_proba(X_test_single)[:, 1])"
      ],
      "metadata": {
        "id": "3HlURtrOWkdD"
      },
      "execution_count": 132,
      "outputs": []
    },
    {
      "cell_type": "markdown",
      "source": [
        "Regresja logistyczna dla wszystkich neuronów:"
      ],
      "metadata": {
        "id": "6EuDMHqsFn4v"
      }
    },
    {
      "cell_type": "code",
      "source": [
        "# Model na pełnym wektorze\n",
        "clf_full = LogisticRegression(penalty=\"l1\", solver=\"liblinear\", max_iter=1000).fit(X_train, y_train)\n",
        "preds_full = clf_full.predict(X_test)\n",
        "acc_full = accuracy_score(y_test, preds_full)\n",
        "roc_full = roc_auc_score(y_test, clf_full.predict_proba(X_test)[:, 1])"
      ],
      "metadata": {
        "id": "Toz6zbU1FghS"
      },
      "execution_count": 133,
      "outputs": []
    },
    {
      "cell_type": "markdown",
      "source": [
        "Model zbudowany na neuronach z największą sumą wartości dla zdjęć z danym konceptem (znajdźmy te neurony)."
      ],
      "metadata": {
        "id": "--KHk7XwFqfi"
      }
    },
    {
      "cell_type": "code",
      "source": [
        "# Suma wartości dla każdego neuronu tylko na danych z gęsiami\n",
        "goose_sum = X_goose[y_goose == 1].sum(dim=0)\n",
        "# Neurony o największej sumie aktywacji\n",
        "top_k = torch.topk(goose_sum, k=5)\n",
        "top_neurons = top_k.indices.tolist()\n",
        "\n",
        "\n",
        "print(\"Top aktywne neurony (goose):\", top_neurons)\n",
        "\n",
        "print(\"\\nNazwy konceptów dla top 5 neuronów:\")\n",
        "for idx in top_neurons:\n",
        "    row = concept_df.loc[concept_df[\"neuron_index\"] == idx]\n",
        "    name = row[\"concept_name\"].values[0] if not row.empty else \"brak w pliku\"\n",
        "    print(f\"Neuron {idx}: {name}\")\n"
      ],
      "metadata": {
        "colab": {
          "base_uri": "https://localhost:8080/"
        },
        "outputId": "128f84cd-6c5a-466e-cb4d-cd8964a9146b",
        "id": "qF1V-kY7Fw-y"
      },
      "execution_count": 134,
      "outputs": [
        {
          "output_type": "stream",
          "name": "stdout",
          "text": [
            "Top aktywne neurony (goose): [111, 3986, 352, 1019, 184]\n",
            "\n",
            "Nazwy konceptów dla top 5 neuronów:\n",
            "Neuron 111: birds\n",
            "Neuron 3986: pic\n",
            "Neuron 352: canoeing\n",
            "Neuron 1019: wildlife\n",
            "Neuron 184: audi\n"
          ]
        }
      ]
    },
    {
      "cell_type": "code",
      "source": [
        "# Podział danych\n",
        "X_top = X_goose[:, top_neurons]\n",
        "X_train, X_test, y_train, y_test = train_test_split(X_top, y_goose, test_size=0.2, stratify=y_goose, random_state=42)\n",
        "\n",
        "# Trening modelu\n",
        "clf_top = LogisticRegression(max_iter=1000)\n",
        "clf_top.fit(X_train, y_train)\n",
        "preds = clf_top.predict(X_test)\n",
        "\n",
        "# Ocena\n",
        "acc_top = accuracy_score(y_test, preds)\n",
        "roc_top = roc_auc_score(y_test, clf_top.predict_proba(X_test)[:, 1])"
      ],
      "metadata": {
        "id": "SSQ3cnpxGEpv"
      },
      "execution_count": 135,
      "outputs": []
    },
    {
      "cell_type": "markdown",
      "source": [
        "## Wyniki dla zbioru gęsi:"
      ],
      "metadata": {
        "id": "CSsPMUtoGaAs"
      }
    },
    {
      "cell_type": "code",
      "source": [
        "results_goose = {\n",
        "    \"naming_neuron\": {\"accuracy\": acc_single, \"roc_auc\": roc_single},\n",
        "    \"logistic_regression_full\": {\"accuracy\": acc_full, \"roc_auc\": roc_full},\n",
        "    \"top_5_neurons\": {\"accuracy\": acc_top, \"roc_auc\": roc_top}\n",
        "}"
      ],
      "metadata": {
        "id": "57kRej-xWpNt"
      },
      "execution_count": 136,
      "outputs": []
    },
    {
      "cell_type": "code",
      "source": [
        "print(f\"Goose results: {results_goose}\")"
      ],
      "metadata": {
        "id": "n9UFNJi1Wu3Z",
        "colab": {
          "base_uri": "https://localhost:8080/"
        },
        "outputId": "6a95d32a-ff31-43f5-e028-531d1da8a534"
      },
      "execution_count": 137,
      "outputs": [
        {
          "output_type": "stream",
          "name": "stdout",
          "text": [
            "Goose results: {'naming_neuron': {'accuracy': 0.5, 'roc_auc': np.float64(0.5)}, 'logistic_regression_full': {'accuracy': 1.0, 'roc_auc': np.float64(1.0)}, 'top_5_neurons': {'accuracy': 0.975, 'roc_auc': np.float64(1.0)}}\n"
          ]
        }
      ]
    },
    {
      "cell_type": "code",
      "source": [
        "results_df_goose = pd.DataFrame.from_dict({\n",
        "    \"Neuron 1085 (goose)\": results_goose[\"naming_neuron\"],\n",
        "    \"Logistic Regression (full vector)\": results_goose[\"logistic_regression_full\"],\n",
        "    \"Top 5 Neurons\": results_goose[\"top_5_neurons\"]\n",
        "}, orient=\"index\")\n",
        "\n",
        "display(results_df_goose)"
      ],
      "metadata": {
        "colab": {
          "base_uri": "https://localhost:8080/",
          "height": 143
        },
        "outputId": "4819f340-0de7-4df2-b9e2-7707a794c48c",
        "id": "B5zC2GMdGj1v"
      },
      "execution_count": 138,
      "outputs": [
        {
          "output_type": "display_data",
          "data": {
            "text/plain": [
              "                                   accuracy  roc_auc\n",
              "Neuron 1085 (goose)                   0.500      0.5\n",
              "Logistic Regression (full vector)     1.000      1.0\n",
              "Top 5 Neurons                         0.975      1.0"
            ],
            "text/html": [
              "\n",
              "  <div id=\"df-7ae32c74-889a-40e4-8d29-2c585294788f\" class=\"colab-df-container\">\n",
              "    <div>\n",
              "<style scoped>\n",
              "    .dataframe tbody tr th:only-of-type {\n",
              "        vertical-align: middle;\n",
              "    }\n",
              "\n",
              "    .dataframe tbody tr th {\n",
              "        vertical-align: top;\n",
              "    }\n",
              "\n",
              "    .dataframe thead th {\n",
              "        text-align: right;\n",
              "    }\n",
              "</style>\n",
              "<table border=\"1\" class=\"dataframe\">\n",
              "  <thead>\n",
              "    <tr style=\"text-align: right;\">\n",
              "      <th></th>\n",
              "      <th>accuracy</th>\n",
              "      <th>roc_auc</th>\n",
              "    </tr>\n",
              "  </thead>\n",
              "  <tbody>\n",
              "    <tr>\n",
              "      <th>Neuron 1085 (goose)</th>\n",
              "      <td>0.500</td>\n",
              "      <td>0.5</td>\n",
              "    </tr>\n",
              "    <tr>\n",
              "      <th>Logistic Regression (full vector)</th>\n",
              "      <td>1.000</td>\n",
              "      <td>1.0</td>\n",
              "    </tr>\n",
              "    <tr>\n",
              "      <th>Top 5 Neurons</th>\n",
              "      <td>0.975</td>\n",
              "      <td>1.0</td>\n",
              "    </tr>\n",
              "  </tbody>\n",
              "</table>\n",
              "</div>\n",
              "    <div class=\"colab-df-buttons\">\n",
              "\n",
              "  <div class=\"colab-df-container\">\n",
              "    <button class=\"colab-df-convert\" onclick=\"convertToInteractive('df-7ae32c74-889a-40e4-8d29-2c585294788f')\"\n",
              "            title=\"Convert this dataframe to an interactive table.\"\n",
              "            style=\"display:none;\">\n",
              "\n",
              "  <svg xmlns=\"http://www.w3.org/2000/svg\" height=\"24px\" viewBox=\"0 -960 960 960\">\n",
              "    <path d=\"M120-120v-720h720v720H120Zm60-500h600v-160H180v160Zm220 220h160v-160H400v160Zm0 220h160v-160H400v160ZM180-400h160v-160H180v160Zm440 0h160v-160H620v160ZM180-180h160v-160H180v160Zm440 0h160v-160H620v160Z\"/>\n",
              "  </svg>\n",
              "    </button>\n",
              "\n",
              "  <style>\n",
              "    .colab-df-container {\n",
              "      display:flex;\n",
              "      gap: 12px;\n",
              "    }\n",
              "\n",
              "    .colab-df-convert {\n",
              "      background-color: #E8F0FE;\n",
              "      border: none;\n",
              "      border-radius: 50%;\n",
              "      cursor: pointer;\n",
              "      display: none;\n",
              "      fill: #1967D2;\n",
              "      height: 32px;\n",
              "      padding: 0 0 0 0;\n",
              "      width: 32px;\n",
              "    }\n",
              "\n",
              "    .colab-df-convert:hover {\n",
              "      background-color: #E2EBFA;\n",
              "      box-shadow: 0px 1px 2px rgba(60, 64, 67, 0.3), 0px 1px 3px 1px rgba(60, 64, 67, 0.15);\n",
              "      fill: #174EA6;\n",
              "    }\n",
              "\n",
              "    .colab-df-buttons div {\n",
              "      margin-bottom: 4px;\n",
              "    }\n",
              "\n",
              "    [theme=dark] .colab-df-convert {\n",
              "      background-color: #3B4455;\n",
              "      fill: #D2E3FC;\n",
              "    }\n",
              "\n",
              "    [theme=dark] .colab-df-convert:hover {\n",
              "      background-color: #434B5C;\n",
              "      box-shadow: 0px 1px 3px 1px rgba(0, 0, 0, 0.15);\n",
              "      filter: drop-shadow(0px 1px 2px rgba(0, 0, 0, 0.3));\n",
              "      fill: #FFFFFF;\n",
              "    }\n",
              "  </style>\n",
              "\n",
              "    <script>\n",
              "      const buttonEl =\n",
              "        document.querySelector('#df-7ae32c74-889a-40e4-8d29-2c585294788f button.colab-df-convert');\n",
              "      buttonEl.style.display =\n",
              "        google.colab.kernel.accessAllowed ? 'block' : 'none';\n",
              "\n",
              "      async function convertToInteractive(key) {\n",
              "        const element = document.querySelector('#df-7ae32c74-889a-40e4-8d29-2c585294788f');\n",
              "        const dataTable =\n",
              "          await google.colab.kernel.invokeFunction('convertToInteractive',\n",
              "                                                    [key], {});\n",
              "        if (!dataTable) return;\n",
              "\n",
              "        const docLinkHtml = 'Like what you see? Visit the ' +\n",
              "          '<a target=\"_blank\" href=https://colab.research.google.com/notebooks/data_table.ipynb>data table notebook</a>'\n",
              "          + ' to learn more about interactive tables.';\n",
              "        element.innerHTML = '';\n",
              "        dataTable['output_type'] = 'display_data';\n",
              "        await google.colab.output.renderOutput(dataTable, element);\n",
              "        const docLink = document.createElement('div');\n",
              "        docLink.innerHTML = docLinkHtml;\n",
              "        element.appendChild(docLink);\n",
              "      }\n",
              "    </script>\n",
              "  </div>\n",
              "\n",
              "\n",
              "    <div id=\"df-b2e1e611-617d-41f7-9538-cfdc88b1147a\">\n",
              "      <button class=\"colab-df-quickchart\" onclick=\"quickchart('df-b2e1e611-617d-41f7-9538-cfdc88b1147a')\"\n",
              "                title=\"Suggest charts\"\n",
              "                style=\"display:none;\">\n",
              "\n",
              "<svg xmlns=\"http://www.w3.org/2000/svg\" height=\"24px\"viewBox=\"0 0 24 24\"\n",
              "     width=\"24px\">\n",
              "    <g>\n",
              "        <path d=\"M19 3H5c-1.1 0-2 .9-2 2v14c0 1.1.9 2 2 2h14c1.1 0 2-.9 2-2V5c0-1.1-.9-2-2-2zM9 17H7v-7h2v7zm4 0h-2V7h2v10zm4 0h-2v-4h2v4z\"/>\n",
              "    </g>\n",
              "</svg>\n",
              "      </button>\n",
              "\n",
              "<style>\n",
              "  .colab-df-quickchart {\n",
              "      --bg-color: #E8F0FE;\n",
              "      --fill-color: #1967D2;\n",
              "      --hover-bg-color: #E2EBFA;\n",
              "      --hover-fill-color: #174EA6;\n",
              "      --disabled-fill-color: #AAA;\n",
              "      --disabled-bg-color: #DDD;\n",
              "  }\n",
              "\n",
              "  [theme=dark] .colab-df-quickchart {\n",
              "      --bg-color: #3B4455;\n",
              "      --fill-color: #D2E3FC;\n",
              "      --hover-bg-color: #434B5C;\n",
              "      --hover-fill-color: #FFFFFF;\n",
              "      --disabled-bg-color: #3B4455;\n",
              "      --disabled-fill-color: #666;\n",
              "  }\n",
              "\n",
              "  .colab-df-quickchart {\n",
              "    background-color: var(--bg-color);\n",
              "    border: none;\n",
              "    border-radius: 50%;\n",
              "    cursor: pointer;\n",
              "    display: none;\n",
              "    fill: var(--fill-color);\n",
              "    height: 32px;\n",
              "    padding: 0;\n",
              "    width: 32px;\n",
              "  }\n",
              "\n",
              "  .colab-df-quickchart:hover {\n",
              "    background-color: var(--hover-bg-color);\n",
              "    box-shadow: 0 1px 2px rgba(60, 64, 67, 0.3), 0 1px 3px 1px rgba(60, 64, 67, 0.15);\n",
              "    fill: var(--button-hover-fill-color);\n",
              "  }\n",
              "\n",
              "  .colab-df-quickchart-complete:disabled,\n",
              "  .colab-df-quickchart-complete:disabled:hover {\n",
              "    background-color: var(--disabled-bg-color);\n",
              "    fill: var(--disabled-fill-color);\n",
              "    box-shadow: none;\n",
              "  }\n",
              "\n",
              "  .colab-df-spinner {\n",
              "    border: 2px solid var(--fill-color);\n",
              "    border-color: transparent;\n",
              "    border-bottom-color: var(--fill-color);\n",
              "    animation:\n",
              "      spin 1s steps(1) infinite;\n",
              "  }\n",
              "\n",
              "  @keyframes spin {\n",
              "    0% {\n",
              "      border-color: transparent;\n",
              "      border-bottom-color: var(--fill-color);\n",
              "      border-left-color: var(--fill-color);\n",
              "    }\n",
              "    20% {\n",
              "      border-color: transparent;\n",
              "      border-left-color: var(--fill-color);\n",
              "      border-top-color: var(--fill-color);\n",
              "    }\n",
              "    30% {\n",
              "      border-color: transparent;\n",
              "      border-left-color: var(--fill-color);\n",
              "      border-top-color: var(--fill-color);\n",
              "      border-right-color: var(--fill-color);\n",
              "    }\n",
              "    40% {\n",
              "      border-color: transparent;\n",
              "      border-right-color: var(--fill-color);\n",
              "      border-top-color: var(--fill-color);\n",
              "    }\n",
              "    60% {\n",
              "      border-color: transparent;\n",
              "      border-right-color: var(--fill-color);\n",
              "    }\n",
              "    80% {\n",
              "      border-color: transparent;\n",
              "      border-right-color: var(--fill-color);\n",
              "      border-bottom-color: var(--fill-color);\n",
              "    }\n",
              "    90% {\n",
              "      border-color: transparent;\n",
              "      border-bottom-color: var(--fill-color);\n",
              "    }\n",
              "  }\n",
              "</style>\n",
              "\n",
              "      <script>\n",
              "        async function quickchart(key) {\n",
              "          const quickchartButtonEl =\n",
              "            document.querySelector('#' + key + ' button');\n",
              "          quickchartButtonEl.disabled = true;  // To prevent multiple clicks.\n",
              "          quickchartButtonEl.classList.add('colab-df-spinner');\n",
              "          try {\n",
              "            const charts = await google.colab.kernel.invokeFunction(\n",
              "                'suggestCharts', [key], {});\n",
              "          } catch (error) {\n",
              "            console.error('Error during call to suggestCharts:', error);\n",
              "          }\n",
              "          quickchartButtonEl.classList.remove('colab-df-spinner');\n",
              "          quickchartButtonEl.classList.add('colab-df-quickchart-complete');\n",
              "        }\n",
              "        (() => {\n",
              "          let quickchartButtonEl =\n",
              "            document.querySelector('#df-b2e1e611-617d-41f7-9538-cfdc88b1147a button');\n",
              "          quickchartButtonEl.style.display =\n",
              "            google.colab.kernel.accessAllowed ? 'block' : 'none';\n",
              "        })();\n",
              "      </script>\n",
              "    </div>\n",
              "\n",
              "  <div id=\"id_06ce9c58-b4a1-4a85-83d8-accf224467d2\">\n",
              "    <style>\n",
              "      .colab-df-generate {\n",
              "        background-color: #E8F0FE;\n",
              "        border: none;\n",
              "        border-radius: 50%;\n",
              "        cursor: pointer;\n",
              "        display: none;\n",
              "        fill: #1967D2;\n",
              "        height: 32px;\n",
              "        padding: 0 0 0 0;\n",
              "        width: 32px;\n",
              "      }\n",
              "\n",
              "      .colab-df-generate:hover {\n",
              "        background-color: #E2EBFA;\n",
              "        box-shadow: 0px 1px 2px rgba(60, 64, 67, 0.3), 0px 1px 3px 1px rgba(60, 64, 67, 0.15);\n",
              "        fill: #174EA6;\n",
              "      }\n",
              "\n",
              "      [theme=dark] .colab-df-generate {\n",
              "        background-color: #3B4455;\n",
              "        fill: #D2E3FC;\n",
              "      }\n",
              "\n",
              "      [theme=dark] .colab-df-generate:hover {\n",
              "        background-color: #434B5C;\n",
              "        box-shadow: 0px 1px 3px 1px rgba(0, 0, 0, 0.15);\n",
              "        filter: drop-shadow(0px 1px 2px rgba(0, 0, 0, 0.3));\n",
              "        fill: #FFFFFF;\n",
              "      }\n",
              "    </style>\n",
              "    <button class=\"colab-df-generate\" onclick=\"generateWithVariable('results_df_goose')\"\n",
              "            title=\"Generate code using this dataframe.\"\n",
              "            style=\"display:none;\">\n",
              "\n",
              "  <svg xmlns=\"http://www.w3.org/2000/svg\" height=\"24px\"viewBox=\"0 0 24 24\"\n",
              "       width=\"24px\">\n",
              "    <path d=\"M7,19H8.4L18.45,9,17,7.55,7,17.6ZM5,21V16.75L18.45,3.32a2,2,0,0,1,2.83,0l1.4,1.43a1.91,1.91,0,0,1,.58,1.4,1.91,1.91,0,0,1-.58,1.4L9.25,21ZM18.45,9,17,7.55Zm-12,3A5.31,5.31,0,0,0,4.9,8.1,5.31,5.31,0,0,0,1,6.5,5.31,5.31,0,0,0,4.9,4.9,5.31,5.31,0,0,0,6.5,1,5.31,5.31,0,0,0,8.1,4.9,5.31,5.31,0,0,0,12,6.5,5.46,5.46,0,0,0,6.5,12Z\"/>\n",
              "  </svg>\n",
              "    </button>\n",
              "    <script>\n",
              "      (() => {\n",
              "      const buttonEl =\n",
              "        document.querySelector('#id_06ce9c58-b4a1-4a85-83d8-accf224467d2 button.colab-df-generate');\n",
              "      buttonEl.style.display =\n",
              "        google.colab.kernel.accessAllowed ? 'block' : 'none';\n",
              "\n",
              "      buttonEl.onclick = () => {\n",
              "        google.colab.notebook.generateWithVariable('results_df_goose');\n",
              "      }\n",
              "      })();\n",
              "    </script>\n",
              "  </div>\n",
              "\n",
              "    </div>\n",
              "  </div>\n"
            ],
            "application/vnd.google.colaboratory.intrinsic+json": {
              "type": "dataframe",
              "variable_name": "results_df_goose",
              "summary": "{\n  \"name\": \"results_df_goose\",\n  \"rows\": 3,\n  \"fields\": [\n    {\n      \"column\": \"accuracy\",\n      \"properties\": {\n        \"dtype\": \"number\",\n        \"std\": 0.2817356917396161,\n        \"min\": 0.5,\n        \"max\": 1.0,\n        \"num_unique_values\": 3,\n        \"samples\": [\n          0.5,\n          1.0,\n          0.975\n        ],\n        \"semantic_type\": \"\",\n        \"description\": \"\"\n      }\n    },\n    {\n      \"column\": \"roc_auc\",\n      \"properties\": {\n        \"dtype\": \"number\",\n        \"std\": 0.28867513459481287,\n        \"min\": 0.5,\n        \"max\": 1.0,\n        \"num_unique_values\": 2,\n        \"samples\": [\n          1.0,\n          0.5\n        ],\n        \"semantic_type\": \"\",\n        \"description\": \"\"\n      }\n    }\n  ]\n}"
            }
          },
          "metadata": {}
        }
      ]
    },
    {
      "cell_type": "markdown",
      "source": [
        "## Porównanie wag neuronów dla modelu zbudowanego na wszystkich neuronach."
      ],
      "metadata": {
        "id": "Ge0FPGtLG5TZ"
      }
    },
    {
      "cell_type": "code",
      "source": [
        "# Wypisz wagę neuronu klasy\n",
        "weight_goose = clf_full.coef_[0][goose_neuron]\n",
        "goose_name_match = concept_df.loc[concept_df['neuron_index'] == goose_neuron, 'concept_name']\n",
        "goose_concept_name = goose_name_match.values[0] if len(goose_name_match) > 0 else \"brak nazwy\"\n",
        "\n",
        "print(f\"Neuron przypisany do klasy 'goose': {goose_neuron}\")\n",
        "print(f\"  → Waga w modelu: {weight_goose:.4f}\")\n",
        "print(f\"  → Nazwa konceptu: {goose_concept_name}\")\n",
        "\n",
        "# Znajdź neuron o najwyższej wadze\n",
        "top_idx = np.argmax(clf_full.coef_[0])\n",
        "top_weight = clf_full.coef_[0][top_idx]\n",
        "top_name_match = concept_df.loc[concept_df['neuron_index'] == top_idx, 'concept_name']\n",
        "top_concept_name = top_name_match.values[0] if len(top_name_match) > 0 else \"brak nazwy\"\n",
        "\n",
        "print(f\"\\nNeuron z największą wagą:\")\n",
        "print(f\"  → Neuron: {top_idx}\")\n",
        "print(f\"  → Waga: {top_weight:.4f}\")\n",
        "print(f\"  → Nazwa konceptu: {top_concept_name}\")"
      ],
      "metadata": {
        "id": "ZVqq9SX7k6Ej",
        "colab": {
          "base_uri": "https://localhost:8080/"
        },
        "outputId": "c913a981-d9e3-4eec-9214-66ad60f48831"
      },
      "execution_count": 139,
      "outputs": [
        {
          "output_type": "stream",
          "name": "stdout",
          "text": [
            "Neuron przypisany do klasy 'goose': 3426\n",
            "  → Waga w modelu: 0.0000\n",
            "  → Nazwa konceptu: goose\n",
            "\n",
            "Neuron z największą wagą:\n",
            "  → Neuron: 1721\n",
            "  → Waga: 1.4610\n",
            "  → Nazwa konceptu: huskies\n"
          ]
        }
      ]
    },
    {
      "cell_type": "code",
      "source": [
        "top_weights = clf_full.coef_[0].argsort()[::-1]\n",
        "\n",
        "# Wyświetl 10 neuronów z najwyższą wagą + ich nazwy\n",
        "print(\"Top 10 neuronów według wag modelu:\")\n",
        "for idx in top_weights[:10]:\n",
        "    # Znajdź nazwę konceptu\n",
        "    match = concept_df.loc[concept_df['neuron_index'] == idx, 'concept_name']\n",
        "    concept_name = match.values[0] if len(match) > 0 else \"brak nazwy\"\n",
        "\n",
        "    print(f\"Neuron {idx}, Waga: {clf_full.coef_[0][idx]:.4f}, Koncept: {concept_name}\")"
      ],
      "metadata": {
        "id": "n-z1eSEFgI9y",
        "colab": {
          "base_uri": "https://localhost:8080/"
        },
        "outputId": "e2881ed6-a1b8-4adb-c822-db974035ea8c"
      },
      "execution_count": 140,
      "outputs": [
        {
          "output_type": "stream",
          "name": "stdout",
          "text": [
            "Top 10 neuronów według wag modelu:\n",
            "Neuron 1721, Waga: 1.4610, Koncept: huskies\n",
            "Neuron 3124, Waga: 1.4371, Koncept: cows\n",
            "Neuron 184, Waga: 1.1564, Koncept: audi\n",
            "Neuron 352, Waga: 0.8777, Koncept: canoeing\n",
            "Neuron 3008, Waga: 0.5603, Koncept: sunflower\n",
            "Neuron 1086, Waga: 0.2661, Koncept: silica\n",
            "Neuron 111, Waga: 0.0955, Koncept: birds\n",
            "Neuron 1072, Waga: 0.0510, Koncept: rewrite\n",
            "Neuron 4371, Waga: 0.0360, Koncept: octet\n",
            "Neuron 2062, Waga: 0.0000, Koncept: cheyenne\n"
          ]
        }
      ]
    },
    {
      "cell_type": "code",
      "source": [
        "print(\"\\nBottom 10 neuronów według wag modelu:\")\n",
        "for idx in top_weights[-10:]:\n",
        "    match = concept_df.loc[concept_df['neuron_index'] == idx, 'concept_name']\n",
        "    concept_name = match.values[0] if len(match) > 0 else \"brak nazwy\"\n",
        "\n",
        "    print(f\"Neuron {idx}, Waga: {clf_full.coef_[0][idx]:.4f}, Koncept: {concept_name}\")"
      ],
      "metadata": {
        "id": "_iffDMCyjMgf",
        "colab": {
          "base_uri": "https://localhost:8080/"
        },
        "outputId": "cae81821-4299-49cb-f42b-6bccf61f64cb"
      },
      "execution_count": 141,
      "outputs": [
        {
          "output_type": "stream",
          "name": "stdout",
          "text": [
            "\n",
            "Bottom 10 neuronów według wag modelu:\n",
            "Neuron 1019, Waga: -0.2940, Koncept: wildlife\n",
            "Neuron 6111, Waga: -0.3992, Koncept: juvenile\n",
            "Neuron 548, Waga: -0.5757, Koncept: turtles\n",
            "Neuron 5230, Waga: -0.5794, Koncept: rainbow\n",
            "Neuron 3640, Waga: -0.7452, Koncept: pint\n",
            "Neuron 2072, Waga: -0.8507, Koncept: tasmania\n",
            "Neuron 5499, Waga: -0.8750, Koncept: didrex\n",
            "Neuron 3307, Waga: -1.0218, Koncept: insects\n",
            "Neuron 831, Waga: -1.2258, Koncept: fishes\n",
            "Neuron 2792, Waga: -1.6311, Koncept: red\n"
          ]
        }
      ]
    },
    {
      "cell_type": "markdown",
      "source": [
        "## Porównanie wag neuronów dla modelu zbudowanego na neuronach z najwyższą sumą dla zdjęć z gęsiami."
      ],
      "metadata": {
        "id": "mmJg1q-JHKb2"
      }
    },
    {
      "cell_type": "code",
      "source": [
        "top_weights = clf_top.coef_[0].argsort()[::-1]\n",
        "\n",
        "# Wyświetl 10 neuronów z najwyższą wagą + ich nazwy\n",
        "print(\"Wszystkie neurony według wag modelu:\")\n",
        "for local_idx in top_weights:\n",
        "    global_idx = top_neurons[local_idx]  # oryginalny indeks neuronu\n",
        "    match = concept_df.loc[concept_df['neuron_index'] == global_idx, 'concept_name']\n",
        "    concept_name = match.values[0] if len(match) > 0 else \"brak nazwy\"\n",
        "\n",
        "    print(f\"Neuron (w concept names): {global_idx}, Neuron w tym modelu: {local_idx}, Waga: {clf_top.coef_[0][local_idx]:.4f}, Koncept: {concept_name}\")"
      ],
      "metadata": {
        "colab": {
          "base_uri": "https://localhost:8080/"
        },
        "id": "kAzrAahJHAUI",
        "outputId": "fdf18158-1165-4d47-e265-6a05f4a6536d"
      },
      "execution_count": 142,
      "outputs": [
        {
          "output_type": "stream",
          "name": "stdout",
          "text": [
            "Wszystkie neurony według wag modelu:\n",
            "Neuron (w concept names): 184, Neuron w tym modelu: 4, Waga: 2.2035, Koncept: audi\n",
            "Neuron (w concept names): 352, Neuron w tym modelu: 2, Waga: 1.5191, Koncept: canoeing\n",
            "Neuron (w concept names): 111, Neuron w tym modelu: 0, Waga: 1.1843, Koncept: birds\n",
            "Neuron (w concept names): 3986, Neuron w tym modelu: 1, Waga: 0.0146, Koncept: pic\n",
            "Neuron (w concept names): 1019, Neuron w tym modelu: 3, Waga: -0.9996, Koncept: wildlife\n"
          ]
        }
      ]
    }
  ]
}
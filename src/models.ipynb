{
 "cells": [
  {
   "cell_type": "markdown",
   "id": "dea7fbd0",
   "metadata": {},
   "source": [
    "Przepuszczamy wszystkie obrazki z binary_dataset_pelican przez pipeline z pliku initial_pipeline_sae.ipynb a wstawiamy reprezentacje wyrzucone przez sae do jednego datasetu wraz z labelami (y oznacza 1 jeśli na zdjęciu jest pelican i 0 jeśli nie ma)."
   ]
  },
  {
   "cell_type": "code",
   "execution_count": 29,
   "id": "1751c8a0",
   "metadata": {
    "ExecuteTime": {
     "end_time": "2025-06-01T21:09:32.808860Z",
     "start_time": "2025-06-01T21:09:32.784441Z"
    }
   },
   "outputs": [],
   "source": [
    "import torch\n",
    "import clip\n",
    "from PIL import Image\n",
    "import torchvision.transforms as transforms\n",
    "from pathlib import Path\n",
    "from sparse_autoencoder import SparseAutoencoder\n",
    "import pandas as pd\n",
    "import numpy as np\n",
    "\n",
    "\n",
    "def process_image_pipeline(image_path, sae_model_path):\n",
    "    \"\"\"\n",
    "    Przetwarza obraz przez model CLIP i SAE, a następnie zapisuje wynik.\n",
    "    :param image_path: Ścieżka do obrazu wejściowego.\n",
    "    :param sae_model_path: Ścieżka do wytrenowanego modelu SAE.\n",
    "    :param output_path: Ścieżka do zapisu przetworzonych cech.\n",
    "    \"\"\"\n",
    "\n",
    "    # Wybór urządzenia\n",
    "    device = \"cuda\" if torch.cuda.is_available() else ('mps' if torch.backends.mps.is_available() else \"cpu\")\n",
    "    print(f\"Używane urządzenie: {device}\")\n",
    "\n",
    "    # CLIP\n",
    "    model, preprocess = clip.load(\"ViT-L/14\", device=device)\n",
    "    # Załaduj i przetwórz obraz\n",
    "    image = preprocess(Image.open(image_path)).unsqueeze(0).to(device)\n",
    "    # Przetwarzanie obrazu przez CLIP\n",
    "    with torch.no_grad():\n",
    "        image_features = model.encode_image(image)\n",
    "\n",
    "    # SAE\n",
    "    def load_sae_model(sae_checkpoint_path):\n",
    "        state_dict = torch.load(sae_checkpoint_path, map_location=device)\n",
    "        autoencoder_input_dim = 768  # CLIP ViT-L/14\n",
    "        expansion_factor = 8\n",
    "        n_learned_features = int(autoencoder_input_dim * expansion_factor)\n",
    "        len_hook_points = 1  \n",
    "\n",
    "        sae = SparseAutoencoder(\n",
    "            n_input_features=autoencoder_input_dim,\n",
    "            n_learned_features=n_learned_features,\n",
    "            n_components=len_hook_points\n",
    "        ).to(device)\n",
    "\n",
    "        sae.load_state_dict(state_dict)\n",
    "        sae.eval()\n",
    "        return sae  \n",
    "\n",
    "    # Przepuszczanie CLIP features przez SAE\n",
    "    @torch.no_grad()\n",
    "    def get_sae_representation(clip_features, sae_model):\n",
    "        concepts, _ = sae_model(clip_features)\n",
    "        return concepts.squeeze()\n",
    "\n",
    "\n",
    "    sae = load_sae_model(sae_model_path)\n",
    "    sae_repr = get_sae_representation(image_features, sae)\n",
    "\n",
    "    return sae_repr.cpu().squeeze(0)"
   ]
  },
  {
   "cell_type": "code",
   "execution_count": 30,
   "id": "1102f66f",
   "metadata": {
    "ExecuteTime": {
     "end_time": "2025-06-01T21:09:32.809098Z",
     "start_time": "2025-06-01T21:09:32.788430Z"
    }
   },
   "outputs": [],
   "source": [
    "from tqdm import tqdm"
   ]
  },
  {
   "cell_type": "markdown",
   "id": "d0e2d7a9",
   "metadata": {},
   "source": [
    "Zróbmy (przynajmniej na razie) modele tylko na 100 zdjęciach z konceptem i 100 bez bo za długo to się wykonuje."
   ]
  },
  {
   "cell_type": "code",
   "execution_count": 31,
   "id": "2baa0eb0",
   "metadata": {
    "ExecuteTime": {
     "end_time": "2025-06-01T21:09:32.813404Z",
     "start_time": "2025-06-01T21:09:32.811297Z"
    }
   },
   "outputs": [],
   "source": [
    "def create_concept_dataset(dataset_path, sae_model_path, concept_name, max_per_class=100):\n",
    "    X = []\n",
    "    y = []\n",
    "\n",
    "    for label_dir in [\"0_other\", f\"1_{concept_name}\"]:\n",
    "        label = 0 if label_dir == \"0_other\" else 1\n",
    "        dir_path = Path(dataset_path) / label_dir\n",
    "        image_paths = list(dir_path.glob(\"*.jpg\")) + list(dir_path.glob(\"*.png\")) + list(dir_path.glob(\"*.JPEG\"))\n",
    "        \n",
    "        # Bierzemy tylko do max_per_class przykładów\n",
    "        image_paths = image_paths[:max_per_class]\n",
    "        for img_path in tqdm(image_paths, desc=f\"Processing {label_dir}\"):\n",
    "            try:\n",
    "                vec = process_image_pipeline(img_path, sae_model_path) \n",
    "                X.append(vec.squeeze().numpy())\n",
    "                y.append(label)\n",
    "            except Exception as e:\n",
    "                print(f\"Error processing {img_path}: {e}\")\n",
    "\n",
    "    # Konwersja do tensora\n",
    "    X_tensor = torch.tensor(X, dtype=torch.float32)\n",
    "    y_tensor = torch.tensor(y, dtype=torch.int64)\n",
    "\n",
    "    # Zapis\n",
    "    torch.save(X_tensor, \"X_concepts.pt\")\n",
    "    torch.save(y_tensor, \"y_labels.pt\")\n",
    "\n",
    "    return X_tensor, y_tensor\n"
   ]
  },
  {
   "cell_type": "code",
   "execution_count": 32,
   "outputs": [
    {
     "name": "stdout",
     "output_type": "stream",
     "text": [
      "Aktualny katalog roboczy to: /Users/fantasy2fry/Documents/informatyczne/iadstudia/wb2/wb-sae-cbm/src\n"
     ]
    }
   ],
   "source": [
    "import os\n",
    "\n",
    "biezacy_katalog = os.getcwd()\n",
    "print(f\"Aktualny katalog roboczy to: {biezacy_katalog}\")"
   ],
   "metadata": {
    "collapsed": false,
    "ExecuteTime": {
     "end_time": "2025-06-01T21:09:32.820190Z",
     "start_time": "2025-06-01T21:09:32.816631Z"
    }
   },
   "id": "ec9120c087456ce3"
  },
  {
   "cell_type": "code",
   "execution_count": 33,
   "id": "ec8f0270",
   "metadata": {
    "ExecuteTime": {
     "end_time": "2025-06-01T21:17:29.559455Z",
     "start_time": "2025-06-01T21:09:32.822488Z"
    }
   },
   "outputs": [
    {
     "name": "stderr",
     "output_type": "stream",
     "text": [
      "Processing 0_other:   0%|          | 0/20 [00:00<?, ?it/s]"
     ]
    },
    {
     "name": "stdout",
     "output_type": "stream",
     "text": [
      "Używane urządzenie: mps\n"
     ]
    },
    {
     "name": "stderr",
     "output_type": "stream",
     "text": [
      "Processing 0_other:   5%|▌         | 1/20 [00:20<06:30, 20.56s/it]"
     ]
    },
    {
     "name": "stdout",
     "output_type": "stream",
     "text": [
      "Używane urządzenie: mps\n"
     ]
    },
    {
     "name": "stderr",
     "output_type": "stream",
     "text": [
      "Processing 0_other:  10%|█         | 2/20 [00:34<05:01, 16.72s/it]"
     ]
    },
    {
     "name": "stdout",
     "output_type": "stream",
     "text": [
      "Używane urządzenie: mps\n"
     ]
    },
    {
     "name": "stderr",
     "output_type": "stream",
     "text": [
      "Processing 0_other:  15%|█▌        | 3/20 [00:44<03:54, 13.79s/it]"
     ]
    },
    {
     "name": "stdout",
     "output_type": "stream",
     "text": [
      "Używane urządzenie: mps\n"
     ]
    },
    {
     "name": "stderr",
     "output_type": "stream",
     "text": [
      "Processing 0_other:  20%|██        | 4/20 [00:56<03:29, 13.10s/it]"
     ]
    },
    {
     "name": "stdout",
     "output_type": "stream",
     "text": [
      "Używane urządzenie: mps\n"
     ]
    },
    {
     "name": "stderr",
     "output_type": "stream",
     "text": [
      "Processing 0_other:  25%|██▌       | 5/20 [01:08<03:06, 12.42s/it]"
     ]
    },
    {
     "name": "stdout",
     "output_type": "stream",
     "text": [
      "Używane urządzenie: mps\n"
     ]
    },
    {
     "name": "stderr",
     "output_type": "stream",
     "text": [
      "Processing 0_other:  30%|███       | 6/20 [01:24<03:10, 13.64s/it]"
     ]
    },
    {
     "name": "stdout",
     "output_type": "stream",
     "text": [
      "Używane urządzenie: mps\n"
     ]
    },
    {
     "name": "stderr",
     "output_type": "stream",
     "text": [
      "Processing 0_other:  35%|███▌      | 7/20 [01:34<02:44, 12.67s/it]"
     ]
    },
    {
     "name": "stdout",
     "output_type": "stream",
     "text": [
      "Używane urządzenie: mps\n"
     ]
    },
    {
     "name": "stderr",
     "output_type": "stream",
     "text": [
      "Processing 0_other:  40%|████      | 8/20 [01:44<02:22, 11.86s/it]"
     ]
    },
    {
     "name": "stdout",
     "output_type": "stream",
     "text": [
      "Używane urządzenie: mps\n"
     ]
    },
    {
     "name": "stderr",
     "output_type": "stream",
     "text": [
      "Processing 0_other:  45%|████▌     | 9/20 [01:55<02:05, 11.45s/it]"
     ]
    },
    {
     "name": "stdout",
     "output_type": "stream",
     "text": [
      "Używane urządzenie: mps\n"
     ]
    },
    {
     "name": "stderr",
     "output_type": "stream",
     "text": [
      "Processing 0_other:  50%|█████     | 10/20 [02:06<01:52, 11.26s/it]"
     ]
    },
    {
     "name": "stdout",
     "output_type": "stream",
     "text": [
      "Używane urządzenie: mps\n"
     ]
    },
    {
     "name": "stderr",
     "output_type": "stream",
     "text": [
      "Processing 0_other:  55%|█████▌    | 11/20 [02:18<01:43, 11.48s/it]"
     ]
    },
    {
     "name": "stdout",
     "output_type": "stream",
     "text": [
      "Używane urządzenie: mps\n"
     ]
    },
    {
     "name": "stderr",
     "output_type": "stream",
     "text": [
      "Processing 0_other:  60%|██████    | 12/20 [02:29<01:31, 11.38s/it]"
     ]
    },
    {
     "name": "stdout",
     "output_type": "stream",
     "text": [
      "Używane urządzenie: mps\n"
     ]
    },
    {
     "name": "stderr",
     "output_type": "stream",
     "text": [
      "Processing 0_other:  65%|██████▌   | 13/20 [02:41<01:21, 11.64s/it]"
     ]
    },
    {
     "name": "stdout",
     "output_type": "stream",
     "text": [
      "Używane urządzenie: mps\n"
     ]
    },
    {
     "name": "stderr",
     "output_type": "stream",
     "text": [
      "Processing 0_other:  70%|███████   | 14/20 [02:53<01:09, 11.64s/it]"
     ]
    },
    {
     "name": "stdout",
     "output_type": "stream",
     "text": [
      "Używane urządzenie: mps\n"
     ]
    },
    {
     "name": "stderr",
     "output_type": "stream",
     "text": [
      "Processing 0_other:  75%|███████▌  | 15/20 [03:07<01:01, 12.39s/it]"
     ]
    },
    {
     "name": "stdout",
     "output_type": "stream",
     "text": [
      "Używane urządzenie: mps\n"
     ]
    },
    {
     "name": "stderr",
     "output_type": "stream",
     "text": [
      "Processing 0_other:  80%|████████  | 16/20 [03:19<00:48, 12.21s/it]"
     ]
    },
    {
     "name": "stdout",
     "output_type": "stream",
     "text": [
      "Używane urządzenie: mps\n"
     ]
    },
    {
     "name": "stderr",
     "output_type": "stream",
     "text": [
      "Processing 0_other:  85%|████████▌ | 17/20 [03:33<00:38, 12.90s/it]"
     ]
    },
    {
     "name": "stdout",
     "output_type": "stream",
     "text": [
      "Używane urządzenie: mps\n"
     ]
    },
    {
     "name": "stderr",
     "output_type": "stream",
     "text": [
      "Processing 0_other:  90%|█████████ | 18/20 [03:44<00:24, 12.38s/it]"
     ]
    },
    {
     "name": "stdout",
     "output_type": "stream",
     "text": [
      "Używane urządzenie: mps\n"
     ]
    },
    {
     "name": "stderr",
     "output_type": "stream",
     "text": [
      "Processing 0_other:  95%|█████████▌| 19/20 [03:53<00:11, 11.27s/it]"
     ]
    },
    {
     "name": "stdout",
     "output_type": "stream",
     "text": [
      "Używane urządzenie: mps\n"
     ]
    },
    {
     "name": "stderr",
     "output_type": "stream",
     "text": [
      "Processing 0_other: 100%|██████████| 20/20 [04:06<00:00, 12.31s/it]\n",
      "Processing 1_pelican:   0%|          | 0/20 [00:00<?, ?it/s]"
     ]
    },
    {
     "name": "stdout",
     "output_type": "stream",
     "text": [
      "Używane urządzenie: mps\n"
     ]
    },
    {
     "name": "stderr",
     "output_type": "stream",
     "text": [
      "Processing 1_pelican:   5%|▌         | 1/20 [00:09<02:59,  9.46s/it]"
     ]
    },
    {
     "name": "stdout",
     "output_type": "stream",
     "text": [
      "Używane urządzenie: mps\n"
     ]
    },
    {
     "name": "stderr",
     "output_type": "stream",
     "text": [
      "Processing 1_pelican:  10%|█         | 2/20 [00:20<03:06, 10.37s/it]"
     ]
    },
    {
     "name": "stdout",
     "output_type": "stream",
     "text": [
      "Używane urządzenie: mps\n"
     ]
    },
    {
     "name": "stderr",
     "output_type": "stream",
     "text": [
      "Processing 1_pelican:  15%|█▌        | 3/20 [00:29<02:48,  9.90s/it]"
     ]
    },
    {
     "name": "stdout",
     "output_type": "stream",
     "text": [
      "Używane urządzenie: mps\n"
     ]
    },
    {
     "name": "stderr",
     "output_type": "stream",
     "text": [
      "Processing 1_pelican:  20%|██        | 4/20 [00:39<02:38,  9.91s/it]"
     ]
    },
    {
     "name": "stdout",
     "output_type": "stream",
     "text": [
      "Używane urządzenie: mps\n"
     ]
    },
    {
     "name": "stderr",
     "output_type": "stream",
     "text": [
      "Processing 1_pelican:  25%|██▌       | 5/20 [00:49<02:25,  9.71s/it]"
     ]
    },
    {
     "name": "stdout",
     "output_type": "stream",
     "text": [
      "Używane urządzenie: mps\n"
     ]
    },
    {
     "name": "stderr",
     "output_type": "stream",
     "text": [
      "Processing 1_pelican:  30%|███       | 6/20 [00:59<02:19, 10.00s/it]"
     ]
    },
    {
     "name": "stdout",
     "output_type": "stream",
     "text": [
      "Używane urządzenie: mps\n"
     ]
    },
    {
     "name": "stderr",
     "output_type": "stream",
     "text": [
      "Processing 1_pelican:  35%|███▌      | 7/20 [01:09<02:09,  9.99s/it]"
     ]
    },
    {
     "name": "stdout",
     "output_type": "stream",
     "text": [
      "Używane urządzenie: mps\n"
     ]
    },
    {
     "name": "stderr",
     "output_type": "stream",
     "text": [
      "Processing 1_pelican:  40%|████      | 8/20 [01:29<02:38, 13.24s/it]"
     ]
    },
    {
     "name": "stdout",
     "output_type": "stream",
     "text": [
      "Używane urządzenie: mps\n"
     ]
    },
    {
     "name": "stderr",
     "output_type": "stream",
     "text": [
      "Processing 1_pelican:  45%|████▌     | 9/20 [01:40<02:16, 12.43s/it]"
     ]
    },
    {
     "name": "stdout",
     "output_type": "stream",
     "text": [
      "Używane urządzenie: mps\n"
     ]
    },
    {
     "name": "stderr",
     "output_type": "stream",
     "text": [
      "Processing 1_pelican:  50%|█████     | 10/20 [01:51<01:59, 11.96s/it]"
     ]
    },
    {
     "name": "stdout",
     "output_type": "stream",
     "text": [
      "Używane urządzenie: mps\n"
     ]
    },
    {
     "name": "stderr",
     "output_type": "stream",
     "text": [
      "Processing 1_pelican:  55%|█████▌    | 11/20 [02:02<01:46, 11.86s/it]"
     ]
    },
    {
     "name": "stdout",
     "output_type": "stream",
     "text": [
      "Używane urządzenie: mps\n"
     ]
    },
    {
     "name": "stderr",
     "output_type": "stream",
     "text": [
      "Processing 1_pelican:  60%|██████    | 12/20 [02:13<01:32, 11.60s/it]"
     ]
    },
    {
     "name": "stdout",
     "output_type": "stream",
     "text": [
      "Używane urządzenie: mps\n"
     ]
    },
    {
     "name": "stderr",
     "output_type": "stream",
     "text": [
      "Processing 1_pelican:  65%|██████▌   | 13/20 [02:24<01:18, 11.24s/it]"
     ]
    },
    {
     "name": "stdout",
     "output_type": "stream",
     "text": [
      "Używane urządzenie: mps\n"
     ]
    },
    {
     "name": "stderr",
     "output_type": "stream",
     "text": [
      "Processing 1_pelican:  70%|███████   | 14/20 [02:37<01:10, 11.72s/it]"
     ]
    },
    {
     "name": "stdout",
     "output_type": "stream",
     "text": [
      "Używane urządzenie: mps\n"
     ]
    },
    {
     "name": "stderr",
     "output_type": "stream",
     "text": [
      "Processing 1_pelican:  75%|███████▌  | 15/20 [02:49<00:59, 11.84s/it]"
     ]
    },
    {
     "name": "stdout",
     "output_type": "stream",
     "text": [
      "Używane urządzenie: mps\n"
     ]
    },
    {
     "name": "stderr",
     "output_type": "stream",
     "text": [
      "Processing 1_pelican:  80%|████████  | 16/20 [03:02<00:48, 12.11s/it]"
     ]
    },
    {
     "name": "stdout",
     "output_type": "stream",
     "text": [
      "Używane urządzenie: mps\n"
     ]
    },
    {
     "name": "stderr",
     "output_type": "stream",
     "text": [
      "Processing 1_pelican:  85%|████████▌ | 17/20 [03:13<00:35, 11.76s/it]"
     ]
    },
    {
     "name": "stdout",
     "output_type": "stream",
     "text": [
      "Używane urządzenie: mps\n"
     ]
    },
    {
     "name": "stderr",
     "output_type": "stream",
     "text": [
      "Processing 1_pelican:  90%|█████████ | 18/20 [03:25<00:23, 11.93s/it]"
     ]
    },
    {
     "name": "stdout",
     "output_type": "stream",
     "text": [
      "Używane urządzenie: mps\n"
     ]
    },
    {
     "name": "stderr",
     "output_type": "stream",
     "text": [
      "Processing 1_pelican:  95%|█████████▌| 19/20 [03:37<00:11, 11.97s/it]"
     ]
    },
    {
     "name": "stdout",
     "output_type": "stream",
     "text": [
      "Używane urządzenie: mps\n"
     ]
    },
    {
     "name": "stderr",
     "output_type": "stream",
     "text": [
      "Processing 1_pelican: 100%|██████████| 20/20 [03:49<00:00, 11.48s/it]\n"
     ]
    }
   ],
   "source": [
    "X, y = create_concept_dataset(\"/Users/fantasy2fry/Documents/informatyczne/iadstudia/wb2/wb-sae-cbm//concept_datasets/binary_dataset_pelican\", \"clip_ViT-L_14sparse_autoencoder_final.pt\", \"pelican\", max_per_class=20)"
   ]
  },
  {
   "cell_type": "markdown",
   "id": "4c75d943",
   "metadata": {},
   "source": [
    "Model liniowy na neuronie odpowiadającym za koncept pelikana:"
   ]
  },
  {
   "cell_type": "code",
   "execution_count": 33,
   "outputs": [],
   "source": [],
   "metadata": {
    "collapsed": false,
    "ExecuteTime": {
     "end_time": "2025-06-01T21:17:37.614720Z",
     "start_time": "2025-06-01T21:17:29.349372Z"
    }
   },
   "id": "449eb5e2d9e213bc"
  },
  {
   "cell_type": "code",
   "execution_count": 34,
   "id": "ebf8c99e",
   "metadata": {
    "ExecuteTime": {
     "end_time": "2025-06-01T21:17:38.020916Z",
     "start_time": "2025-06-01T21:17:29.360966Z"
    }
   },
   "outputs": [],
   "source": [
    "from sklearn.linear_model import LogisticRegression\n",
    "from sklearn.model_selection import train_test_split\n",
    "from sklearn.metrics import accuracy_score, roc_auc_score"
   ]
  },
  {
   "cell_type": "code",
   "execution_count": 35,
   "outputs": [],
   "source": [
    "# Podział danych\n",
    "X_train, X_test, y_train, y_test = train_test_split(X, y, test_size=0.2, stratify=y, random_state=42)\n",
    "#random shuffle data\n",
    "np.random.seed(42)\n",
    "train_permutation = np.random.permutation(len(X_train))\n",
    "X_train = X_train[train_permutation]\n",
    "y_train = y_train[train_permutation]\n",
    "\n",
    "test_permutation = np.random.permutation(len(X_test))\n",
    "X_test = X_test[test_permutation]\n",
    "y_test = y_test[test_permutation]\n",
    "\n",
    "\n",
    "# neuron dla \"pelican\" \n",
    "pelican_neuron = 1085\n",
    "\n",
    "# Model\n",
    "X_train_single = X_train[:, pelican_neuron].reshape(-1, 1)\n",
    "X_test_single = X_test[:, pelican_neuron].reshape(-1, 1)\n",
    "clf_single = LogisticRegression().fit(X_train_single, y_train)\n",
    "preds_single = clf_single.predict(X_test_single)\n",
    "acc_single = accuracy_score(y_test, preds_single)\n",
    "roc_single = roc_auc_score(y_test, clf_single.predict_proba(X_test_single)[:, 1])"
   ],
   "metadata": {
    "collapsed": false,
    "ExecuteTime": {
     "end_time": "2025-06-01T21:17:38.021589Z",
     "start_time": "2025-06-01T21:17:29.361953Z"
    }
   },
   "id": "d5625a2586fed7e5"
  },
  {
   "cell_type": "markdown",
   "id": "6e255766",
   "metadata": {},
   "source": [
    "Regresja logistyczna dla wszystkich neuronów:"
   ]
  },
  {
   "cell_type": "code",
   "execution_count": 36,
   "id": "b216feaa",
   "metadata": {
    "ExecuteTime": {
     "end_time": "2025-06-01T21:17:38.021869Z",
     "start_time": "2025-06-01T21:17:29.363135Z"
    }
   },
   "outputs": [],
   "source": [
    "# model\n",
    "clf_full = LogisticRegression(max_iter=1000).fit(X_train, y_train)\n",
    "preds_full = clf_full.predict(X_test)\n",
    "acc_full = accuracy_score(y_test, preds_full)\n",
    "roc_full = roc_auc_score(y_test, clf_full.predict_proba(X_test)[:, 1])"
   ]
  },
  {
   "cell_type": "markdown",
   "id": "ef8c2b58",
   "metadata": {},
   "source": [
    "Wyniki: "
   ]
  },
  {
   "cell_type": "code",
   "execution_count": 37,
   "id": "f4644bc2",
   "metadata": {
    "ExecuteTime": {
     "end_time": "2025-06-01T21:17:38.045980Z",
     "start_time": "2025-06-01T21:17:29.363502Z"
    }
   },
   "outputs": [],
   "source": [
    "pelican_results = {\n",
    "    \"naming_neuron\": {\"accuracy\": acc_single, \"roc_auc\": roc_single},\n",
    "    \"logistic_regression_full\": {\"accuracy\": acc_full, \"roc_auc\": roc_full}\n",
    "}"
   ]
  },
  {
   "cell_type": "code",
   "execution_count": 38,
   "id": "de1219fb",
   "metadata": {
    "ExecuteTime": {
     "end_time": "2025-06-01T21:17:38.080348Z",
     "start_time": "2025-06-01T21:17:29.364086Z"
    }
   },
   "outputs": [
    {
     "name": "stdout",
     "output_type": "stream",
     "text": [
      "Pelican results: {'naming_neuron': {'accuracy': 0.5, 'roc_auc': 0.5}, 'logistic_regression_full': {'accuracy': 1.0, 'roc_auc': 1.0}}\n"
     ]
    }
   ],
   "source": [
    "print(f\"Pelican results: {pelican_results}\")"
   ]
  },
  {
   "cell_type": "markdown",
   "id": "01448fad",
   "metadata": {},
   "source": [
    "To samo dla 2 pozostałych konceptów: flamingi i gęsi."
   ]
  },
  {
   "cell_type": "markdown",
   "id": "8556bdb3",
   "metadata": {},
   "source": [
    "Flamingi:"
   ]
  },
  {
   "cell_type": "code",
   "execution_count": 39,
   "id": "fe34fbf8",
   "metadata": {
    "ExecuteTime": {
     "end_time": "2025-06-01T21:25:30.427520Z",
     "start_time": "2025-06-01T21:17:29.365352Z"
    }
   },
   "outputs": [
    {
     "name": "stderr",
     "output_type": "stream",
     "text": [
      "Processing 0_other:   0%|          | 0/20 [00:00<?, ?it/s]"
     ]
    },
    {
     "name": "stdout",
     "output_type": "stream",
     "text": [
      "Używane urządzenie: mps\n"
     ]
    },
    {
     "name": "stderr",
     "output_type": "stream",
     "text": [
      "Processing 0_other:   5%|▌         | 1/20 [00:13<04:14, 13.41s/it]"
     ]
    },
    {
     "name": "stdout",
     "output_type": "stream",
     "text": [
      "Używane urządzenie: mps\n"
     ]
    },
    {
     "name": "stderr",
     "output_type": "stream",
     "text": [
      "Processing 0_other:  10%|█         | 2/20 [00:26<03:59, 13.29s/it]"
     ]
    },
    {
     "name": "stdout",
     "output_type": "stream",
     "text": [
      "Używane urządzenie: mps\n"
     ]
    },
    {
     "name": "stderr",
     "output_type": "stream",
     "text": [
      "Processing 0_other:  15%|█▌        | 3/20 [00:43<04:16, 15.08s/it]"
     ]
    },
    {
     "name": "stdout",
     "output_type": "stream",
     "text": [
      "Używane urządzenie: mps\n"
     ]
    },
    {
     "name": "stderr",
     "output_type": "stream",
     "text": [
      "Processing 0_other:  20%|██        | 4/20 [01:00<04:09, 15.59s/it]"
     ]
    },
    {
     "name": "stdout",
     "output_type": "stream",
     "text": [
      "Używane urządzenie: mps\n"
     ]
    },
    {
     "name": "stderr",
     "output_type": "stream",
     "text": [
      "Processing 0_other:  25%|██▌       | 5/20 [01:17<04:04, 16.27s/it]"
     ]
    },
    {
     "name": "stdout",
     "output_type": "stream",
     "text": [
      "Używane urządzenie: mps\n"
     ]
    },
    {
     "name": "stderr",
     "output_type": "stream",
     "text": [
      "Processing 0_other:  30%|███       | 6/20 [01:29<03:24, 14.60s/it]"
     ]
    },
    {
     "name": "stdout",
     "output_type": "stream",
     "text": [
      "Używane urządzenie: mps\n"
     ]
    },
    {
     "name": "stderr",
     "output_type": "stream",
     "text": [
      "Processing 0_other:  35%|███▌      | 7/20 [01:40<02:55, 13.48s/it]"
     ]
    },
    {
     "name": "stdout",
     "output_type": "stream",
     "text": [
      "Używane urządzenie: mps\n"
     ]
    },
    {
     "name": "stderr",
     "output_type": "stream",
     "text": [
      "Processing 0_other:  40%|████      | 8/20 [01:50<02:28, 12.38s/it]"
     ]
    },
    {
     "name": "stdout",
     "output_type": "stream",
     "text": [
      "Używane urządzenie: mps\n"
     ]
    },
    {
     "name": "stderr",
     "output_type": "stream",
     "text": [
      "Processing 0_other:  45%|████▌     | 9/20 [02:01<02:13, 12.15s/it]"
     ]
    },
    {
     "name": "stdout",
     "output_type": "stream",
     "text": [
      "Używane urządzenie: mps\n"
     ]
    },
    {
     "name": "stderr",
     "output_type": "stream",
     "text": [
      "Processing 0_other:  50%|█████     | 10/20 [02:12<01:57, 11.76s/it]"
     ]
    },
    {
     "name": "stdout",
     "output_type": "stream",
     "text": [
      "Używane urządzenie: mps\n"
     ]
    },
    {
     "name": "stderr",
     "output_type": "stream",
     "text": [
      "Processing 0_other:  55%|█████▌    | 11/20 [02:22<01:40, 11.14s/it]"
     ]
    },
    {
     "name": "stdout",
     "output_type": "stream",
     "text": [
      "Używane urządzenie: mps\n"
     ]
    },
    {
     "name": "stderr",
     "output_type": "stream",
     "text": [
      "Processing 0_other:  60%|██████    | 12/20 [02:32<01:27, 10.94s/it]"
     ]
    },
    {
     "name": "stdout",
     "output_type": "stream",
     "text": [
      "Używane urządzenie: mps\n"
     ]
    },
    {
     "name": "stderr",
     "output_type": "stream",
     "text": [
      "Processing 0_other:  65%|██████▌   | 13/20 [02:42<01:14, 10.58s/it]"
     ]
    },
    {
     "name": "stdout",
     "output_type": "stream",
     "text": [
      "Używane urządzenie: mps\n"
     ]
    },
    {
     "name": "stderr",
     "output_type": "stream",
     "text": [
      "Processing 0_other:  70%|███████   | 14/20 [02:53<01:03, 10.53s/it]"
     ]
    },
    {
     "name": "stdout",
     "output_type": "stream",
     "text": [
      "Używane urządzenie: mps\n"
     ]
    },
    {
     "name": "stderr",
     "output_type": "stream",
     "text": [
      "Processing 0_other:  75%|███████▌  | 15/20 [03:04<00:53, 10.66s/it]"
     ]
    },
    {
     "name": "stdout",
     "output_type": "stream",
     "text": [
      "Używane urządzenie: mps\n"
     ]
    },
    {
     "name": "stderr",
     "output_type": "stream",
     "text": [
      "Processing 0_other:  80%|████████  | 16/20 [03:14<00:42, 10.61s/it]"
     ]
    },
    {
     "name": "stdout",
     "output_type": "stream",
     "text": [
      "Używane urządzenie: mps\n"
     ]
    },
    {
     "name": "stderr",
     "output_type": "stream",
     "text": [
      "Processing 0_other:  85%|████████▌ | 17/20 [03:26<00:32, 10.89s/it]"
     ]
    },
    {
     "name": "stdout",
     "output_type": "stream",
     "text": [
      "Używane urządzenie: mps\n"
     ]
    },
    {
     "name": "stderr",
     "output_type": "stream",
     "text": [
      "Processing 0_other:  90%|█████████ | 18/20 [03:38<00:22, 11.41s/it]"
     ]
    },
    {
     "name": "stdout",
     "output_type": "stream",
     "text": [
      "Używane urządzenie: mps\n"
     ]
    },
    {
     "name": "stderr",
     "output_type": "stream",
     "text": [
      "Processing 0_other:  95%|█████████▌| 19/20 [03:49<00:11, 11.06s/it]"
     ]
    },
    {
     "name": "stdout",
     "output_type": "stream",
     "text": [
      "Używane urządzenie: mps\n"
     ]
    },
    {
     "name": "stderr",
     "output_type": "stream",
     "text": [
      "Processing 0_other: 100%|██████████| 20/20 [04:02<00:00, 12.13s/it]\n",
      "Processing 1_flamingo:   0%|          | 0/20 [00:00<?, ?it/s]"
     ]
    },
    {
     "name": "stdout",
     "output_type": "stream",
     "text": [
      "Używane urządzenie: mps\n"
     ]
    },
    {
     "name": "stderr",
     "output_type": "stream",
     "text": [
      "Processing 1_flamingo:   5%|▌         | 1/20 [00:11<03:35, 11.33s/it]"
     ]
    },
    {
     "name": "stdout",
     "output_type": "stream",
     "text": [
      "Używane urządzenie: mps\n"
     ]
    },
    {
     "name": "stderr",
     "output_type": "stream",
     "text": [
      "Processing 1_flamingo:  10%|█         | 2/20 [00:23<03:34, 11.91s/it]"
     ]
    },
    {
     "name": "stdout",
     "output_type": "stream",
     "text": [
      "Używane urządzenie: mps\n"
     ]
    },
    {
     "name": "stderr",
     "output_type": "stream",
     "text": [
      "Processing 1_flamingo:  15%|█▌        | 3/20 [00:34<03:17, 11.60s/it]"
     ]
    },
    {
     "name": "stdout",
     "output_type": "stream",
     "text": [
      "Używane urządzenie: mps\n"
     ]
    },
    {
     "name": "stderr",
     "output_type": "stream",
     "text": [
      "Processing 1_flamingo:  20%|██        | 4/20 [00:46<03:02, 11.41s/it]"
     ]
    },
    {
     "name": "stdout",
     "output_type": "stream",
     "text": [
      "Używane urządzenie: mps\n"
     ]
    },
    {
     "name": "stderr",
     "output_type": "stream",
     "text": [
      "Processing 1_flamingo:  25%|██▌       | 5/20 [00:56<02:44, 10.96s/it]"
     ]
    },
    {
     "name": "stdout",
     "output_type": "stream",
     "text": [
      "Używane urządzenie: mps\n"
     ]
    },
    {
     "name": "stderr",
     "output_type": "stream",
     "text": [
      "Processing 1_flamingo:  30%|███       | 6/20 [01:07<02:35, 11.14s/it]"
     ]
    },
    {
     "name": "stdout",
     "output_type": "stream",
     "text": [
      "Używane urządzenie: mps\n"
     ]
    },
    {
     "name": "stderr",
     "output_type": "stream",
     "text": [
      "Processing 1_flamingo:  35%|███▌      | 7/20 [01:19<02:27, 11.36s/it]"
     ]
    },
    {
     "name": "stdout",
     "output_type": "stream",
     "text": [
      "Używane urządzenie: mps\n"
     ]
    },
    {
     "name": "stderr",
     "output_type": "stream",
     "text": [
      "Processing 1_flamingo:  40%|████      | 8/20 [01:31<02:18, 11.51s/it]"
     ]
    },
    {
     "name": "stdout",
     "output_type": "stream",
     "text": [
      "Używane urządzenie: mps\n"
     ]
    },
    {
     "name": "stderr",
     "output_type": "stream",
     "text": [
      "Processing 1_flamingo:  45%|████▌     | 9/20 [01:43<02:10, 11.83s/it]"
     ]
    },
    {
     "name": "stdout",
     "output_type": "stream",
     "text": [
      "Używane urządzenie: mps\n"
     ]
    },
    {
     "name": "stderr",
     "output_type": "stream",
     "text": [
      "Processing 1_flamingo:  50%|█████     | 10/20 [01:54<01:55, 11.54s/it]"
     ]
    },
    {
     "name": "stdout",
     "output_type": "stream",
     "text": [
      "Używane urządzenie: mps\n"
     ]
    },
    {
     "name": "stderr",
     "output_type": "stream",
     "text": [
      "Processing 1_flamingo:  55%|█████▌    | 11/20 [02:07<01:48, 12.00s/it]"
     ]
    },
    {
     "name": "stdout",
     "output_type": "stream",
     "text": [
      "Używane urządzenie: mps\n"
     ]
    },
    {
     "name": "stderr",
     "output_type": "stream",
     "text": [
      "Processing 1_flamingo:  60%|██████    | 12/20 [02:18<01:33, 11.67s/it]"
     ]
    },
    {
     "name": "stdout",
     "output_type": "stream",
     "text": [
      "Używane urządzenie: mps\n"
     ]
    },
    {
     "name": "stderr",
     "output_type": "stream",
     "text": [
      "Processing 1_flamingo:  65%|██████▌   | 13/20 [02:33<01:28, 12.71s/it]"
     ]
    },
    {
     "name": "stdout",
     "output_type": "stream",
     "text": [
      "Używane urządzenie: mps\n"
     ]
    },
    {
     "name": "stderr",
     "output_type": "stream",
     "text": [
      "Processing 1_flamingo:  70%|███████   | 14/20 [02:45<01:14, 12.47s/it]"
     ]
    },
    {
     "name": "stdout",
     "output_type": "stream",
     "text": [
      "Używane urządzenie: mps\n"
     ]
    },
    {
     "name": "stderr",
     "output_type": "stream",
     "text": [
      "Processing 1_flamingo:  75%|███████▌  | 15/20 [02:56<00:59, 11.95s/it]"
     ]
    },
    {
     "name": "stdout",
     "output_type": "stream",
     "text": [
      "Używane urządzenie: mps\n"
     ]
    },
    {
     "name": "stderr",
     "output_type": "stream",
     "text": [
      "Processing 1_flamingo:  80%|████████  | 16/20 [03:05<00:44, 11.20s/it]"
     ]
    },
    {
     "name": "stdout",
     "output_type": "stream",
     "text": [
      "Używane urządzenie: mps\n"
     ]
    },
    {
     "name": "stderr",
     "output_type": "stream",
     "text": [
      "Processing 1_flamingo:  85%|████████▌ | 17/20 [03:15<00:32, 10.85s/it]"
     ]
    },
    {
     "name": "stdout",
     "output_type": "stream",
     "text": [
      "Używane urządzenie: mps\n"
     ]
    },
    {
     "name": "stderr",
     "output_type": "stream",
     "text": [
      "Processing 1_flamingo:  90%|█████████ | 18/20 [03:26<00:21, 10.88s/it]"
     ]
    },
    {
     "name": "stdout",
     "output_type": "stream",
     "text": [
      "Używane urządzenie: mps\n"
     ]
    },
    {
     "name": "stderr",
     "output_type": "stream",
     "text": [
      "Processing 1_flamingo:  95%|█████████▌| 19/20 [03:37<00:10, 10.66s/it]"
     ]
    },
    {
     "name": "stdout",
     "output_type": "stream",
     "text": [
      "Używane urządzenie: mps\n"
     ]
    },
    {
     "name": "stderr",
     "output_type": "stream",
     "text": [
      "Processing 1_flamingo: 100%|██████████| 20/20 [03:48<00:00, 11.42s/it]\n"
     ]
    }
   ],
   "source": [
    "X_flamingo, y_flamingo = create_concept_dataset(\"../concept_datasets/binary_dataset_flamingos\", \"clip_ViT-L_14sparse_autoencoder_final.pt\", \"flamingo\", max_per_class=20)"
   ]
  },
  {
   "cell_type": "code",
   "execution_count": 40,
   "id": "bd4ab763",
   "metadata": {
    "ExecuteTime": {
     "end_time": "2025-06-01T21:25:33.384186Z",
     "start_time": "2025-06-01T21:25:30.413379Z"
    }
   },
   "outputs": [],
   "source": [
    "# Podział danych\n",
    "X_train, X_test, y_train, y_test = train_test_split(X_flamingo, y_flamingo, test_size=0.2, stratify=y, random_state=42)\n",
    "\n",
    "# neuron dla \"flamingo\" \n",
    "flamingo_neuron = 2347\n",
    "\n",
    "# Model na pojedynczym neuronie\n",
    "X_train_single = X_train[:, flamingo_neuron].reshape(-1, 1)\n",
    "X_test_single = X_test[:, flamingo_neuron].reshape(-1, 1)\n",
    "clf_single = LogisticRegression().fit(X_train_single, y_train)\n",
    "preds_single = clf_single.predict(X_test_single)\n",
    "acc_single = accuracy_score(y_test, preds_single)\n",
    "roc_single = roc_auc_score(y_test, clf_single.predict_proba(X_test_single)[:, 1])\n",
    "\n",
    "# Model na pełnym wektorze\n",
    "clf_full = LogisticRegression(max_iter=1000).fit(X_train, y_train)\n",
    "preds_full = clf_full.predict(X_test)\n",
    "acc_full = accuracy_score(y_test, preds_full)\n",
    "roc_full = roc_auc_score(y_test, clf_full.predict_proba(X_test)[:, 1])\n",
    "\n"
   ]
  },
  {
   "cell_type": "code",
   "execution_count": 41,
   "id": "93bdc3be",
   "metadata": {
    "ExecuteTime": {
     "end_time": "2025-06-01T21:25:33.397182Z",
     "start_time": "2025-06-01T21:25:30.419328Z"
    }
   },
   "outputs": [],
   "source": [
    "results_flamingo = {\n",
    "    \"naming_neuron\": {\"accuracy\": acc_single, \"roc_auc\": roc_single},\n",
    "    \"logistic_regression_full\": {\"accuracy\": acc_full, \"roc_auc\": roc_full}\n",
    "}"
   ]
  },
  {
   "cell_type": "code",
   "execution_count": 42,
   "outputs": [
    {
     "name": "stdout",
     "output_type": "stream",
     "text": [
      "Flamingo results: {'naming_neuron': {'accuracy': 0.5, 'roc_auc': 0.5}, 'logistic_regression_full': {'accuracy': 1.0, 'roc_auc': 1.0}}\n"
     ]
    }
   ],
   "source": [
    "print(f\"Flamingo results: {results_flamingo}\")"
   ],
   "metadata": {
    "collapsed": false,
    "ExecuteTime": {
     "end_time": "2025-06-01T21:25:33.401628Z",
     "start_time": "2025-06-01T21:25:30.420422Z"
    }
   },
   "id": "8df7ae83dd9913f1"
  },
  {
   "cell_type": "markdown",
   "id": "552769e9",
   "metadata": {},
   "source": [
    "Gęsi:"
   ]
  },
  {
   "cell_type": "code",
   "execution_count": 43,
   "id": "3704c0f7",
   "metadata": {
    "ExecuteTime": {
     "end_time": "2025-06-01T21:33:11.088893Z",
     "start_time": "2025-06-01T21:25:30.420992Z"
    }
   },
   "outputs": [
    {
     "name": "stderr",
     "output_type": "stream",
     "text": [
      "Processing 0_other:   0%|          | 0/20 [00:00<?, ?it/s]"
     ]
    },
    {
     "name": "stdout",
     "output_type": "stream",
     "text": [
      "Używane urządzenie: mps\n"
     ]
    },
    {
     "name": "stderr",
     "output_type": "stream",
     "text": [
      "Processing 0_other:   5%|▌         | 1/20 [00:13<04:24, 13.92s/it]"
     ]
    },
    {
     "name": "stdout",
     "output_type": "stream",
     "text": [
      "Używane urządzenie: mps\n"
     ]
    },
    {
     "name": "stderr",
     "output_type": "stream",
     "text": [
      "Processing 0_other:  10%|█         | 2/20 [00:25<03:40, 12.25s/it]"
     ]
    },
    {
     "name": "stdout",
     "output_type": "stream",
     "text": [
      "Używane urządzenie: mps\n"
     ]
    },
    {
     "name": "stderr",
     "output_type": "stream",
     "text": [
      "Processing 0_other:  15%|█▌        | 3/20 [00:37<03:28, 12.25s/it]"
     ]
    },
    {
     "name": "stdout",
     "output_type": "stream",
     "text": [
      "Używane urządzenie: mps\n"
     ]
    },
    {
     "name": "stderr",
     "output_type": "stream",
     "text": [
      "Processing 0_other:  20%|██        | 4/20 [00:47<03:04, 11.54s/it]"
     ]
    },
    {
     "name": "stdout",
     "output_type": "stream",
     "text": [
      "Używane urządzenie: mps\n"
     ]
    },
    {
     "name": "stderr",
     "output_type": "stream",
     "text": [
      "Processing 0_other:  25%|██▌       | 5/20 [00:59<02:54, 11.63s/it]"
     ]
    },
    {
     "name": "stdout",
     "output_type": "stream",
     "text": [
      "Używane urządzenie: mps\n"
     ]
    },
    {
     "name": "stderr",
     "output_type": "stream",
     "text": [
      "Processing 0_other:  30%|███       | 6/20 [01:09<02:34, 11.06s/it]"
     ]
    },
    {
     "name": "stdout",
     "output_type": "stream",
     "text": [
      "Używane urządzenie: mps\n"
     ]
    },
    {
     "name": "stderr",
     "output_type": "stream",
     "text": [
      "Processing 0_other:  35%|███▌      | 7/20 [01:21<02:30, 11.54s/it]"
     ]
    },
    {
     "name": "stdout",
     "output_type": "stream",
     "text": [
      "Używane urządzenie: mps\n"
     ]
    },
    {
     "name": "stderr",
     "output_type": "stream",
     "text": [
      "Processing 0_other:  40%|████      | 8/20 [01:37<02:32, 12.72s/it]"
     ]
    },
    {
     "name": "stdout",
     "output_type": "stream",
     "text": [
      "Używane urządzenie: mps\n"
     ]
    },
    {
     "name": "stderr",
     "output_type": "stream",
     "text": [
      "Processing 0_other:  45%|████▌     | 9/20 [01:48<02:13, 12.14s/it]"
     ]
    },
    {
     "name": "stdout",
     "output_type": "stream",
     "text": [
      "Używane urządzenie: mps\n"
     ]
    },
    {
     "name": "stderr",
     "output_type": "stream",
     "text": [
      "Processing 0_other:  50%|█████     | 10/20 [02:01<02:06, 12.62s/it]"
     ]
    },
    {
     "name": "stdout",
     "output_type": "stream",
     "text": [
      "Używane urządzenie: mps\n"
     ]
    },
    {
     "name": "stderr",
     "output_type": "stream",
     "text": [
      "Processing 0_other:  55%|█████▌    | 11/20 [02:13<01:50, 12.32s/it]"
     ]
    },
    {
     "name": "stdout",
     "output_type": "stream",
     "text": [
      "Używane urządzenie: mps\n"
     ]
    },
    {
     "name": "stderr",
     "output_type": "stream",
     "text": [
      "Processing 0_other:  60%|██████    | 12/20 [02:41<02:17, 17.16s/it]"
     ]
    },
    {
     "name": "stdout",
     "output_type": "stream",
     "text": [
      "Używane urządzenie: mps\n"
     ]
    },
    {
     "name": "stderr",
     "output_type": "stream",
     "text": [
      "Processing 0_other:  65%|██████▌   | 13/20 [02:55<01:52, 16.06s/it]"
     ]
    },
    {
     "name": "stdout",
     "output_type": "stream",
     "text": [
      "Używane urządzenie: mps\n"
     ]
    },
    {
     "name": "stderr",
     "output_type": "stream",
     "text": [
      "Processing 0_other:  70%|███████   | 14/20 [03:10<01:34, 15.75s/it]"
     ]
    },
    {
     "name": "stdout",
     "output_type": "stream",
     "text": [
      "Używane urządzenie: mps\n"
     ]
    },
    {
     "name": "stderr",
     "output_type": "stream",
     "text": [
      "Processing 0_other:  75%|███████▌  | 15/20 [03:23<01:14, 14.97s/it]"
     ]
    },
    {
     "name": "stdout",
     "output_type": "stream",
     "text": [
      "Używane urządzenie: mps\n"
     ]
    },
    {
     "name": "stderr",
     "output_type": "stream",
     "text": [
      "Processing 0_other:  80%|████████  | 16/20 [03:36<00:58, 14.51s/it]"
     ]
    },
    {
     "name": "stdout",
     "output_type": "stream",
     "text": [
      "Używane urządzenie: mps\n"
     ]
    },
    {
     "name": "stderr",
     "output_type": "stream",
     "text": [
      "Processing 0_other:  85%|████████▌ | 17/20 [03:47<00:40, 13.35s/it]"
     ]
    },
    {
     "name": "stdout",
     "output_type": "stream",
     "text": [
      "Używane urządzenie: mps\n"
     ]
    },
    {
     "name": "stderr",
     "output_type": "stream",
     "text": [
      "Processing 0_other:  90%|█████████ | 18/20 [04:02<00:27, 13.90s/it]"
     ]
    },
    {
     "name": "stdout",
     "output_type": "stream",
     "text": [
      "Używane urządzenie: mps\n"
     ]
    },
    {
     "name": "stderr",
     "output_type": "stream",
     "text": [
      "Processing 0_other:  95%|█████████▌| 19/20 [04:14<00:13, 13.28s/it]"
     ]
    },
    {
     "name": "stdout",
     "output_type": "stream",
     "text": [
      "Używane urządzenie: mps\n"
     ]
    },
    {
     "name": "stderr",
     "output_type": "stream",
     "text": [
      "Processing 0_other: 100%|██████████| 20/20 [04:25<00:00, 13.27s/it]\n",
      "Processing 1_goose:   0%|          | 0/20 [00:00<?, ?it/s]"
     ]
    },
    {
     "name": "stdout",
     "output_type": "stream",
     "text": [
      "Używane urządzenie: mps\n"
     ]
    },
    {
     "name": "stderr",
     "output_type": "stream",
     "text": [
      "Processing 1_goose:   5%|▌         | 1/20 [00:12<04:02, 12.75s/it]"
     ]
    },
    {
     "name": "stdout",
     "output_type": "stream",
     "text": [
      "Używane urządzenie: mps\n"
     ]
    },
    {
     "name": "stderr",
     "output_type": "stream",
     "text": [
      "Processing 1_goose:  10%|█         | 2/20 [00:25<03:49, 12.73s/it]"
     ]
    },
    {
     "name": "stdout",
     "output_type": "stream",
     "text": [
      "Używane urządzenie: mps\n"
     ]
    },
    {
     "name": "stderr",
     "output_type": "stream",
     "text": [
      "Processing 1_goose:  15%|█▌        | 3/20 [00:34<03:05, 10.93s/it]"
     ]
    },
    {
     "name": "stdout",
     "output_type": "stream",
     "text": [
      "Używane urządzenie: mps\n"
     ]
    },
    {
     "name": "stderr",
     "output_type": "stream",
     "text": [
      "Processing 1_goose:  20%|██        | 4/20 [00:45<02:58, 11.14s/it]"
     ]
    },
    {
     "name": "stdout",
     "output_type": "stream",
     "text": [
      "Używane urządzenie: mps\n"
     ]
    },
    {
     "name": "stderr",
     "output_type": "stream",
     "text": [
      "Processing 1_goose:  25%|██▌       | 5/20 [00:56<02:42, 10.84s/it]"
     ]
    },
    {
     "name": "stdout",
     "output_type": "stream",
     "text": [
      "Używane urządzenie: mps\n"
     ]
    },
    {
     "name": "stderr",
     "output_type": "stream",
     "text": [
      "Processing 1_goose:  30%|███       | 6/20 [01:05<02:26, 10.46s/it]"
     ]
    },
    {
     "name": "stdout",
     "output_type": "stream",
     "text": [
      "Używane urządzenie: mps\n"
     ]
    },
    {
     "name": "stderr",
     "output_type": "stream",
     "text": [
      "Processing 1_goose:  35%|███▌      | 7/20 [01:13<02:05,  9.66s/it]"
     ]
    },
    {
     "name": "stdout",
     "output_type": "stream",
     "text": [
      "Używane urządzenie: mps\n"
     ]
    },
    {
     "name": "stderr",
     "output_type": "stream",
     "text": [
      "Processing 1_goose:  40%|████      | 8/20 [01:23<01:55,  9.64s/it]"
     ]
    },
    {
     "name": "stdout",
     "output_type": "stream",
     "text": [
      "Używane urządzenie: mps\n"
     ]
    },
    {
     "name": "stderr",
     "output_type": "stream",
     "text": [
      "Processing 1_goose:  45%|████▌     | 9/20 [01:32<01:44,  9.48s/it]"
     ]
    },
    {
     "name": "stdout",
     "output_type": "stream",
     "text": [
      "Używane urządzenie: mps\n"
     ]
    },
    {
     "name": "stderr",
     "output_type": "stream",
     "text": [
      "Processing 1_goose:  50%|█████     | 10/20 [01:41<01:34,  9.46s/it]"
     ]
    },
    {
     "name": "stdout",
     "output_type": "stream",
     "text": [
      "Używane urządzenie: mps\n"
     ]
    },
    {
     "name": "stderr",
     "output_type": "stream",
     "text": [
      "Processing 1_goose:  55%|█████▌    | 11/20 [01:52<01:27,  9.72s/it]"
     ]
    },
    {
     "name": "stdout",
     "output_type": "stream",
     "text": [
      "Używane urządzenie: mps\n"
     ]
    },
    {
     "name": "stderr",
     "output_type": "stream",
     "text": [
      "Processing 1_goose:  60%|██████    | 12/20 [02:01<01:16,  9.54s/it]"
     ]
    },
    {
     "name": "stdout",
     "output_type": "stream",
     "text": [
      "Używane urządzenie: mps\n"
     ]
    },
    {
     "name": "stderr",
     "output_type": "stream",
     "text": [
      "Processing 1_goose:  65%|██████▌   | 13/20 [02:11<01:07,  9.69s/it]"
     ]
    },
    {
     "name": "stdout",
     "output_type": "stream",
     "text": [
      "Używane urządzenie: mps\n"
     ]
    },
    {
     "name": "stderr",
     "output_type": "stream",
     "text": [
      "Processing 1_goose:  70%|███████   | 14/20 [02:20<00:57,  9.63s/it]"
     ]
    },
    {
     "name": "stdout",
     "output_type": "stream",
     "text": [
      "Używane urządzenie: mps\n"
     ]
    },
    {
     "name": "stderr",
     "output_type": "stream",
     "text": [
      "Processing 1_goose:  75%|███████▌  | 15/20 [02:31<00:49,  9.98s/it]"
     ]
    },
    {
     "name": "stdout",
     "output_type": "stream",
     "text": [
      "Używane urządzenie: mps\n"
     ]
    },
    {
     "name": "stderr",
     "output_type": "stream",
     "text": [
      "Processing 1_goose:  80%|████████  | 16/20 [02:41<00:39,  9.81s/it]"
     ]
    },
    {
     "name": "stdout",
     "output_type": "stream",
     "text": [
      "Używane urządzenie: mps\n"
     ]
    },
    {
     "name": "stderr",
     "output_type": "stream",
     "text": [
      "Processing 1_goose:  85%|████████▌ | 17/20 [02:55<00:33, 11.18s/it]"
     ]
    },
    {
     "name": "stdout",
     "output_type": "stream",
     "text": [
      "Używane urządzenie: mps\n"
     ]
    },
    {
     "name": "stderr",
     "output_type": "stream",
     "text": [
      "Processing 1_goose:  90%|█████████ | 18/20 [03:04<00:21, 10.66s/it]"
     ]
    },
    {
     "name": "stdout",
     "output_type": "stream",
     "text": [
      "Używane urządzenie: mps\n"
     ]
    },
    {
     "name": "stderr",
     "output_type": "stream",
     "text": [
      "Processing 1_goose:  95%|█████████▌| 19/20 [03:14<00:10, 10.39s/it]"
     ]
    },
    {
     "name": "stdout",
     "output_type": "stream",
     "text": [
      "Używane urządzenie: mps\n"
     ]
    },
    {
     "name": "stderr",
     "output_type": "stream",
     "text": [
      "Processing 1_goose: 100%|██████████| 20/20 [03:25<00:00, 10.27s/it]\n"
     ]
    }
   ],
   "source": [
    "X_geese, y_geese = create_concept_dataset(\"../concept_datasets/binary_dataset_geese\", \"clip_ViT-L_14sparse_autoencoder_final.pt\", \"goose\", max_per_class=20)"
   ]
  },
  {
   "cell_type": "code",
   "execution_count": 44,
   "id": "8bb2e3e3",
   "metadata": {
    "ExecuteTime": {
     "end_time": "2025-06-01T21:33:11.423530Z",
     "start_time": "2025-06-01T21:33:11.065328Z"
    }
   },
   "outputs": [],
   "source": [
    "# Podział danych\n",
    "X_train, X_test, y_train, y_test = train_test_split(X_geese, y_geese, test_size=0.2, stratify=y, random_state=42)\n",
    "\n",
    "# neuron dla \"goose\" \n",
    "goose_neuron = 3426\n",
    "\n",
    "# Model na pojedynczym neuronie\n",
    "X_train_single = X_train[:, goose_neuron].reshape(-1, 1)\n",
    "X_test_single = X_test[:, goose_neuron].reshape(-1, 1)\n",
    "clf_single = LogisticRegression().fit(X_train_single, y_train)\n",
    "preds_single = clf_single.predict(X_test_single)\n",
    "acc_single = accuracy_score(y_test, preds_single)\n",
    "roc_single = roc_auc_score(y_test, clf_single.predict_proba(X_test_single)[:, 1])\n",
    "\n",
    "# Model na pełnym wektorze\n",
    "clf_full = LogisticRegression(max_iter=1000).fit(X_train, y_train)\n",
    "preds_full = clf_full.predict(X_test)\n",
    "acc_full = accuracy_score(y_test, preds_full)\n",
    "roc_full = roc_auc_score(y_test, clf_full.predict_proba(X_test)[:, 1])\n",
    "\n"
   ]
  },
  {
   "cell_type": "code",
   "execution_count": 45,
   "id": "f9a4d38e",
   "metadata": {
    "ExecuteTime": {
     "end_time": "2025-06-01T21:33:11.449803Z",
     "start_time": "2025-06-01T21:33:11.264101Z"
    }
   },
   "outputs": [],
   "source": [
    "results_goose = {\n",
    "    \"naming_neuron\": {\"accuracy\": acc_single, \"roc_auc\": roc_single},\n",
    "    \"logistic_regression_full\": {\"accuracy\": acc_full, \"roc_auc\": roc_full}\n",
    "}"
   ]
  },
  {
   "cell_type": "code",
   "execution_count": 46,
   "outputs": [
    {
     "name": "stdout",
     "output_type": "stream",
     "text": [
      "Goose results: {'naming_neuron': {'accuracy': 0.5, 'roc_auc': 0.5}, 'logistic_regression_full': {'accuracy': 0.875, 'roc_auc': 1.0}}\n"
     ]
    }
   ],
   "source": [
    "print(f\"Goose results: {results_goose}\")"
   ],
   "metadata": {
    "collapsed": false,
    "ExecuteTime": {
     "end_time": "2025-06-01T21:33:11.462900Z",
     "start_time": "2025-06-01T21:33:11.264611Z"
    }
   },
   "id": "bb9dcb78b45af161"
  }
 ],
 "metadata": {
  "kernelspec": {
   "display_name": "saeenv",
   "language": "python",
   "name": "python3"
  },
  "language_info": {
   "codemirror_mode": {
    "name": "ipython",
    "version": 3
   },
   "file_extension": ".py",
   "mimetype": "text/x-python",
   "name": "python",
   "nbconvert_exporter": "python",
   "pygments_lexer": "ipython3",
   "version": "3.11.11"
  }
 },
 "nbformat": 4,
 "nbformat_minor": 5
}
